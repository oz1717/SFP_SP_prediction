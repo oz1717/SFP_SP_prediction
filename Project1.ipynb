{
 "cells": [
  {
   "cell_type": "markdown",
   "metadata": {},
   "source": [
    "Git\n",
    "how to choose companies\n",
    "Time stamp\n",
    "Feature, Target\n",
    "\n",
    "words or sentence? -> libraries to calculate sentiment\n",
    "predictprob function\n",
    "lower - case"
   ]
  },
  {
   "cell_type": "code",
   "execution_count": null,
   "metadata": {},
   "outputs": [],
   "source": [
    "import pandas as pd\n",
    "import datetime "
   ]
  },
  {
   "cell_type": "code",
   "execution_count": null,
   "metadata": {
    "collapsed": true
   },
   "outputs": [],
   "source": [
    "#import the stock price data\n",
    "SP_df = pd.read_csv(\"WIKI_PRICES.csv\")"
   ]
  },
  {
   "cell_type": "code",
   "execution_count": null,
   "metadata": {},
   "outputs": [],
   "source": [
    "SP_df.head()"
   ]
  },
  {
   "cell_type": "code",
   "execution_count": null,
   "metadata": {},
   "outputs": [],
   "source": [
    "#check the number of data\n",
    "len(SP_df)"
   ]
  },
  {
   "cell_type": "code",
   "execution_count": null,
   "metadata": {
    "collapsed": true
   },
   "outputs": [],
   "source": [
    "#import the news data\n",
    "NEWS_df = pd.read_csv(\"uci-news-aggregator.csv\")"
   ]
  },
  {
   "cell_type": "code",
   "execution_count": null,
   "metadata": {},
   "outputs": [],
   "source": [
    "NEWS_df.head()"
   ]
  },
  {
   "cell_type": "code",
   "execution_count": null,
   "metadata": {},
   "outputs": [],
   "source": [
    "#check the number of data\n",
    "len(NEWS_df)"
   ]
  },
  {
   "cell_type": "code",
   "execution_count": null,
   "metadata": {
    "collapsed": true
   },
   "outputs": [],
   "source": [
    "companies = {\"3M\": \"MMM\",\n",
    "             \"American Express\":\"AXP\",\n",
    "             \"Apple\":\"AAPL\",\n",
    "             \"Boeing\":\"BA\",\n",
    "             \"Caterpillar\":\"CAT\",\n",
    "             \"Chevron\":\"CVX\",\n",
    "             \"Cisco Systems\":\"CSCO\",\n",
    "             \"Coca-Cola\":\"KO\",\n",
    "             \"DuPont\":\"DD\",\n",
    "             \"ExxonMobil\":\"XOM\",\n",
    "             \"General Electric\":\"GE\",\n",
    "             \"Goldman Sachs\":\"GS\",\n",
    "             \"Home Depot\":\"HD\",\n",
    "             \"IBM\":\"IBM\",\n",
    "             \"Intel\":\"INTC\",\n",
    "             \"Johnson & Johnson\":\"JNJ\",\n",
    "             \"JPMorgan Chase\":\"JPM\",\n",
    "             \"McDonald's\":\"MCD\",\n",
    "             \"Merck\":\"MRK\",\n",
    "             \"Microsoft\":\"MSFT\",\n",
    "             \"Nike\":\"NKE\",\n",
    "             \"Pfizer\":\"PFE\",\n",
    "             \"Procter & Gamble\":\"PG\",\n",
    "             \"Travelers\":\"TRV\",\n",
    "             \"UnitedHealth Group\":\"UNH\",\n",
    "             \"United Technologies\":\"UTX\",\n",
    "             \"Verizon\":\"VZ\",\n",
    "             \"Visa\":\"V\",\n",
    "             \"Walmart\":\"WMT\",\n",
    "             \"Walt Disney\":\"DIS\"\n",
    "}"
   ]
  },
  {
   "cell_type": "code",
   "execution_count": null,
   "metadata": {},
   "outputs": [],
   "source": [
    "#try to check whether there is enough data for above companies\n",
    "def count_news(companies):\n",
    "    total = 0\n",
    "    news_count = {}\n",
    "    for key, item in companies.items():\n",
    "        num =  len(NEWS_df[NEWS_df['TITLE'].str.contains(key, na=False)])\n",
    "        total += num\n",
    "        news_count[key] = num\n",
    "    \n",
    "    return total, news_count\n",
    "\n",
    "total, news_count = count_news(companies)\n",
    "print(total)\n",
    "print(news_count)"
   ]
  },
  {
   "cell_type": "code",
   "execution_count": null,
   "metadata": {},
   "outputs": [],
   "source": [
    "#try to check whether there is corresponding stock price data for above companies\n",
    "for key, item in companies.items():\n",
    "    if item in SP_df['ticker'].values:\n",
    "        continue\n",
    "    else:\n",
    "        print('Following company doesn\\'nt exist: {}'.format(item))"
   ]
  },
  {
   "cell_type": "code",
   "execution_count": null,
   "metadata": {},
   "outputs": [],
   "source": [
    "#delete the companies with the small number of news in NEWS_df\n",
    "for key, item in news_count.items():\n",
    "    if news_count[key] < 100:\n",
    "        companies.pop(key)\n",
    "\n",
    "total_v2, news_count_v2 = count_news(companies)\n",
    "print(total_v2)\n",
    "print(news_count_v2)"
   ]
  },
  {
   "cell_type": "code",
   "execution_count": null,
   "metadata": {},
   "outputs": [],
   "source": [
    "#drop the unnecessary column of NEWS_df\n",
    "NEWS_df = NEWS_df.drop([\"CATEGORY\",\"STORY\",\"HOSTNAME\"], axis=1)\n",
    "NEWS_df.columns"
   ]
  },
  {
   "cell_type": "code",
   "execution_count": null,
   "metadata": {},
   "outputs": [],
   "source": [
    "#convert timestamp to date\n",
    "NEWS_df['TIMESTAMP'] = pd.to_datetime(NEWS_df['TIMESTAMP'], unit='ms')"
   ]
  },
  {
   "cell_type": "code",
   "execution_count": null,
   "metadata": {},
   "outputs": [],
   "source": [
    "#Create a function that determine whether the news title includes any company\n",
    "\n",
    "def company_in_news(paragraph, companies):\n",
    "    \"\"\"\n",
    "    input; paragraph: string, companies: dictionary\n",
    "    output; boolean\n",
    "    \"\"\"\n",
    "    words = paragraph.split()\n",
    "    is_inNews = False\n",
    "    for i in range(len(words)):\n",
    "        if words[i] in companies.keys():\n",
    "            is_inNews = True\n",
    "    \n",
    "    return is_inNews\n",
    "\n"
   ]
  },
  {
   "cell_type": "markdown",
   "metadata": {},
   "source": [
    "memo for myself  \n",
    "__number difference with str.contain()__  \n",
    "len(NEWS_companies_df)"
   ]
  },
  {
   "cell_type": "code",
   "execution_count": null,
   "metadata": {},
   "outputs": [],
   "source": [
    "#create the new dataframe which consists of relevant news only\n",
    "NEWS_companies_df = NEWS_df[NEWS_df['TITLE'].apply(company_in_news, args=(companies,)) == True]"
   ]
  },
  {
   "cell_type": "code",
   "execution_count": null,
   "metadata": {},
   "outputs": [],
   "source": [
    "#create a function which give the label of the company's ticker to the news\n",
    "\n",
    "def label_news(paragraph, companies):\n",
    "    \"\"\"\n",
    "    input; paragraph: string, companies: dictionary\n",
    "    output; name: company's ticker\n",
    "    \"\"\"\n",
    "    words = paragraph.split()\n",
    "    for i in range(len(words)):\n",
    "        if words[i] in companies.keys():\n",
    "            return companies[words[i]]\n",
    "    \n",
    "    return 'NaN'\n",
    "\n",
    "NEWS_companies_df['ticker'] = NEWS_companies_df['TITLE'].apply(label_news, args=(companies,))\n"
   ]
  },
  {
   "cell_type": "markdown",
   "metadata": {},
   "source": [
    "memo for myself  \n",
    "__could be together with company_in_news__  \n",
    "__got a warning__"
   ]
  },
  {
   "cell_type": "code",
   "execution_count": null,
   "metadata": {
    "collapsed": true
   },
   "outputs": [],
   "source": [
    "#create a function that takes the corresponding the stock price move\n",
    "#this function runs very slow. next cell might take more than 10 mins to run\n",
    "def get_move(row, SP_df):\n",
    "    \n",
    "    \"\"\"\n",
    "    input; row: entire row, SP_df: DataFrame of stock price\n",
    "    output; boolean\n",
    "    \"\"\"    \n",
    "    \n",
    "    date_tmp = row['TIMESTAMP']\n",
    "    \n",
    "    #check the hour of the news, and then if it's after 17, make the date next day.\n",
    "    if date_tmp.hour >= 17:\n",
    "        date = date_tmp + datetime.timedelta(days=1)\n",
    "    else:\n",
    "        date = date_tmp\n",
    "    date1 = datetime.datetime.strftime(date, \"%Y-%m-%d\")\n",
    "\n",
    "    #get the day which is one day before input date\n",
    "    def get_day_before(date, SP_df):\n",
    "        date_set = set(SP_df['date'])\n",
    "        date_list = list(date_set)\n",
    "        date_list.sort()\n",
    "\n",
    "        ind = date_list.index(date)\n",
    "\n",
    "        return date_list[ind-1]\n",
    "    \n",
    "    #get the date0\n",
    "    date0 = get_day_before(date1, SP_df)\n",
    "    \n",
    "    day0_price = SP_df.loc[(SP_df['date'] == date0) & (SP_df['ticker'] == row['ticker']), 'adj_close']\n",
    "    day1_price = SP_df.loc[(SP_df['date'] == date1) & (SP_df['ticker'] == row['ticker']), 'adj_close']\n",
    "    \n",
    "    #return True if the stock price went up\n",
    "    if day1_price.iloc[0] > day0_price.iloc[0]:\n",
    "        return True\n",
    "    else:\n",
    "        return False"
   ]
  },
  {
   "cell_type": "code",
   "execution_count": null,
   "metadata": {},
   "outputs": [],
   "source": [
    "NEWS_companies_df['IsUp'] = NEWS_companies_df.apply(get_move, axis = 1, args=(SP_df,))"
   ]
  },
  {
   "cell_type": "code",
   "execution_count": null,
   "metadata": {
    "collapsed": true
   },
   "outputs": [],
   "source": []
  }
 ],
 "metadata": {
  "kernelspec": {
   "display_name": "Python 3",
   "language": "python",
   "name": "python3"
  },
  "language_info": {
   "codemirror_mode": {
    "name": "ipython",
    "version": 3
   },
   "file_extension": ".py",
   "mimetype": "text/x-python",
   "name": "python",
   "nbconvert_exporter": "python",
   "pygments_lexer": "ipython3",
   "version": "3.6.1"
  }
 },
 "nbformat": 4,
 "nbformat_minor": 2
}
