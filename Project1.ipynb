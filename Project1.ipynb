{
 "cells": [
  {
   "cell_type": "markdown",
   "metadata": {},
   "source": [
    "Git\n",
    "how to choose companies\n",
    "Time stamp\n",
    "Feature, Target\n",
    "\n",
    "words or sentence? -> libraries to calculate sentiment\n",
    "predictprob function\n",
    "lower - case"
   ]
  },
  {
   "cell_type": "code",
   "execution_count": 157,
   "metadata": {
    "collapsed": true
   },
   "outputs": [],
   "source": [
    "import pandas as pd\n",
    "import numpy as np\n",
    "import datetime \n",
    "from textblob import TextBlob\n",
    "from sklearn.linear_model import LogisticRegression\n",
    "from sklearn.model_selection import train_test_split, GridSearchCV\n",
    "from sklearn.metrics import confusion_matrix, classification_report\n",
    "import matplotlib.pyplot as plt\n",
    "from collections import Counter"
   ]
  },
  {
   "cell_type": "code",
   "execution_count": 2,
   "metadata": {
    "collapsed": true
   },
   "outputs": [],
   "source": [
    "#import the stock price data\n",
    "SP_df = pd.read_csv(\"WIKI_PRICES.csv\")"
   ]
  },
  {
   "cell_type": "code",
   "execution_count": 3,
   "metadata": {},
   "outputs": [
    {
     "data": {
      "text/html": [
       "<div>\n",
       "<style>\n",
       "    .dataframe thead tr:only-child th {\n",
       "        text-align: right;\n",
       "    }\n",
       "\n",
       "    .dataframe thead th {\n",
       "        text-align: left;\n",
       "    }\n",
       "\n",
       "    .dataframe tbody tr th {\n",
       "        vertical-align: top;\n",
       "    }\n",
       "</style>\n",
       "<table border=\"1\" class=\"dataframe\">\n",
       "  <thead>\n",
       "    <tr style=\"text-align: right;\">\n",
       "      <th></th>\n",
       "      <th>ticker</th>\n",
       "      <th>date</th>\n",
       "      <th>open</th>\n",
       "      <th>high</th>\n",
       "      <th>low</th>\n",
       "      <th>close</th>\n",
       "      <th>volume</th>\n",
       "      <th>ex-dividend</th>\n",
       "      <th>split_ratio</th>\n",
       "      <th>adj_open</th>\n",
       "      <th>adj_high</th>\n",
       "      <th>adj_low</th>\n",
       "      <th>adj_close</th>\n",
       "      <th>adj_volume</th>\n",
       "    </tr>\n",
       "  </thead>\n",
       "  <tbody>\n",
       "    <tr>\n",
       "      <th>0</th>\n",
       "      <td>A</td>\n",
       "      <td>1999-11-18</td>\n",
       "      <td>45.50</td>\n",
       "      <td>50.00</td>\n",
       "      <td>40.00</td>\n",
       "      <td>44.00</td>\n",
       "      <td>44739900.0</td>\n",
       "      <td>0.0</td>\n",
       "      <td>1.0</td>\n",
       "      <td>31.105117</td>\n",
       "      <td>34.181447</td>\n",
       "      <td>27.345157</td>\n",
       "      <td>30.079673</td>\n",
       "      <td>44739900.0</td>\n",
       "    </tr>\n",
       "    <tr>\n",
       "      <th>1</th>\n",
       "      <td>A</td>\n",
       "      <td>1999-11-19</td>\n",
       "      <td>42.94</td>\n",
       "      <td>43.00</td>\n",
       "      <td>39.81</td>\n",
       "      <td>40.38</td>\n",
       "      <td>10897100.0</td>\n",
       "      <td>0.0</td>\n",
       "      <td>1.0</td>\n",
       "      <td>29.355027</td>\n",
       "      <td>29.396044</td>\n",
       "      <td>27.215268</td>\n",
       "      <td>27.604936</td>\n",
       "      <td>10897100.0</td>\n",
       "    </tr>\n",
       "    <tr>\n",
       "      <th>2</th>\n",
       "      <td>A</td>\n",
       "      <td>1999-11-22</td>\n",
       "      <td>41.31</td>\n",
       "      <td>44.00</td>\n",
       "      <td>40.06</td>\n",
       "      <td>44.00</td>\n",
       "      <td>4705200.0</td>\n",
       "      <td>0.0</td>\n",
       "      <td>1.0</td>\n",
       "      <td>28.240711</td>\n",
       "      <td>30.079673</td>\n",
       "      <td>27.386175</td>\n",
       "      <td>30.079673</td>\n",
       "      <td>4705200.0</td>\n",
       "    </tr>\n",
       "    <tr>\n",
       "      <th>3</th>\n",
       "      <td>A</td>\n",
       "      <td>1999-11-23</td>\n",
       "      <td>42.50</td>\n",
       "      <td>43.63</td>\n",
       "      <td>40.25</td>\n",
       "      <td>40.25</td>\n",
       "      <td>4274400.0</td>\n",
       "      <td>0.0</td>\n",
       "      <td>1.0</td>\n",
       "      <td>29.054230</td>\n",
       "      <td>29.826730</td>\n",
       "      <td>27.516065</td>\n",
       "      <td>27.516065</td>\n",
       "      <td>4274400.0</td>\n",
       "    </tr>\n",
       "    <tr>\n",
       "      <th>4</th>\n",
       "      <td>A</td>\n",
       "      <td>1999-11-24</td>\n",
       "      <td>40.13</td>\n",
       "      <td>41.94</td>\n",
       "      <td>40.00</td>\n",
       "      <td>41.06</td>\n",
       "      <td>3464400.0</td>\n",
       "      <td>0.0</td>\n",
       "      <td>1.0</td>\n",
       "      <td>27.434029</td>\n",
       "      <td>28.671398</td>\n",
       "      <td>27.345157</td>\n",
       "      <td>28.069804</td>\n",
       "      <td>3464400.0</td>\n",
       "    </tr>\n",
       "  </tbody>\n",
       "</table>\n",
       "</div>"
      ],
      "text/plain": [
       "  ticker        date   open   high    low  close      volume  ex-dividend  \\\n",
       "0      A  1999-11-18  45.50  50.00  40.00  44.00  44739900.0          0.0   \n",
       "1      A  1999-11-19  42.94  43.00  39.81  40.38  10897100.0          0.0   \n",
       "2      A  1999-11-22  41.31  44.00  40.06  44.00   4705200.0          0.0   \n",
       "3      A  1999-11-23  42.50  43.63  40.25  40.25   4274400.0          0.0   \n",
       "4      A  1999-11-24  40.13  41.94  40.00  41.06   3464400.0          0.0   \n",
       "\n",
       "   split_ratio   adj_open   adj_high    adj_low  adj_close  adj_volume  \n",
       "0          1.0  31.105117  34.181447  27.345157  30.079673  44739900.0  \n",
       "1          1.0  29.355027  29.396044  27.215268  27.604936  10897100.0  \n",
       "2          1.0  28.240711  30.079673  27.386175  30.079673   4705200.0  \n",
       "3          1.0  29.054230  29.826730  27.516065  27.516065   4274400.0  \n",
       "4          1.0  27.434029  28.671398  27.345157  28.069804   3464400.0  "
      ]
     },
     "execution_count": 3,
     "metadata": {},
     "output_type": "execute_result"
    }
   ],
   "source": [
    "SP_df.head()"
   ]
  },
  {
   "cell_type": "code",
   "execution_count": 4,
   "metadata": {
    "collapsed": true
   },
   "outputs": [],
   "source": [
    "combi = {}\n",
    "for date, ticker, close in zip(SP_df['date'], SP_df['ticker'], SP_df['adj_close']):\n",
    "    combi[(date, ticker)] = close"
   ]
  },
  {
   "cell_type": "code",
   "execution_count": 5,
   "metadata": {},
   "outputs": [
    {
     "data": {
      "text/plain": [
       "14935063"
      ]
     },
     "execution_count": 5,
     "metadata": {},
     "output_type": "execute_result"
    }
   ],
   "source": [
    "#check the number of data\n",
    "len(SP_df)"
   ]
  },
  {
   "cell_type": "code",
   "execution_count": 6,
   "metadata": {
    "collapsed": true
   },
   "outputs": [],
   "source": [
    "#import the news data\n",
    "NEWS_df = pd.read_csv(\"uci-news-aggregator.csv\")"
   ]
  },
  {
   "cell_type": "code",
   "execution_count": 7,
   "metadata": {},
   "outputs": [
    {
     "data": {
      "text/html": [
       "<div>\n",
       "<style>\n",
       "    .dataframe thead tr:only-child th {\n",
       "        text-align: right;\n",
       "    }\n",
       "\n",
       "    .dataframe thead th {\n",
       "        text-align: left;\n",
       "    }\n",
       "\n",
       "    .dataframe tbody tr th {\n",
       "        vertical-align: top;\n",
       "    }\n",
       "</style>\n",
       "<table border=\"1\" class=\"dataframe\">\n",
       "  <thead>\n",
       "    <tr style=\"text-align: right;\">\n",
       "      <th></th>\n",
       "      <th>ID</th>\n",
       "      <th>TITLE</th>\n",
       "      <th>URL</th>\n",
       "      <th>PUBLISHER</th>\n",
       "      <th>CATEGORY</th>\n",
       "      <th>STORY</th>\n",
       "      <th>HOSTNAME</th>\n",
       "      <th>TIMESTAMP</th>\n",
       "    </tr>\n",
       "  </thead>\n",
       "  <tbody>\n",
       "    <tr>\n",
       "      <th>0</th>\n",
       "      <td>1</td>\n",
       "      <td>Fed official says weak data caused by weather,...</td>\n",
       "      <td>http://www.latimes.com/business/money/la-fi-mo...</td>\n",
       "      <td>Los Angeles Times</td>\n",
       "      <td>b</td>\n",
       "      <td>ddUyU0VZz0BRneMioxUPQVP6sIxvM</td>\n",
       "      <td>www.latimes.com</td>\n",
       "      <td>1394470370698</td>\n",
       "    </tr>\n",
       "    <tr>\n",
       "      <th>1</th>\n",
       "      <td>2</td>\n",
       "      <td>Fed's Charles Plosser sees high bar for change...</td>\n",
       "      <td>http://www.livemint.com/Politics/H2EvwJSK2VE6O...</td>\n",
       "      <td>Livemint</td>\n",
       "      <td>b</td>\n",
       "      <td>ddUyU0VZz0BRneMioxUPQVP6sIxvM</td>\n",
       "      <td>www.livemint.com</td>\n",
       "      <td>1394470371207</td>\n",
       "    </tr>\n",
       "    <tr>\n",
       "      <th>2</th>\n",
       "      <td>3</td>\n",
       "      <td>US open: Stocks fall after Fed official hints ...</td>\n",
       "      <td>http://www.ifamagazine.com/news/us-open-stocks...</td>\n",
       "      <td>IFA Magazine</td>\n",
       "      <td>b</td>\n",
       "      <td>ddUyU0VZz0BRneMioxUPQVP6sIxvM</td>\n",
       "      <td>www.ifamagazine.com</td>\n",
       "      <td>1394470371550</td>\n",
       "    </tr>\n",
       "    <tr>\n",
       "      <th>3</th>\n",
       "      <td>4</td>\n",
       "      <td>Fed risks falling 'behind the curve', Charles ...</td>\n",
       "      <td>http://www.ifamagazine.com/news/fed-risks-fall...</td>\n",
       "      <td>IFA Magazine</td>\n",
       "      <td>b</td>\n",
       "      <td>ddUyU0VZz0BRneMioxUPQVP6sIxvM</td>\n",
       "      <td>www.ifamagazine.com</td>\n",
       "      <td>1394470371793</td>\n",
       "    </tr>\n",
       "    <tr>\n",
       "      <th>4</th>\n",
       "      <td>5</td>\n",
       "      <td>Fed's Plosser: Nasty Weather Has Curbed Job Gr...</td>\n",
       "      <td>http://www.moneynews.com/Economy/federal-reser...</td>\n",
       "      <td>Moneynews</td>\n",
       "      <td>b</td>\n",
       "      <td>ddUyU0VZz0BRneMioxUPQVP6sIxvM</td>\n",
       "      <td>www.moneynews.com</td>\n",
       "      <td>1394470372027</td>\n",
       "    </tr>\n",
       "  </tbody>\n",
       "</table>\n",
       "</div>"
      ],
      "text/plain": [
       "   ID                                              TITLE  \\\n",
       "0   1  Fed official says weak data caused by weather,...   \n",
       "1   2  Fed's Charles Plosser sees high bar for change...   \n",
       "2   3  US open: Stocks fall after Fed official hints ...   \n",
       "3   4  Fed risks falling 'behind the curve', Charles ...   \n",
       "4   5  Fed's Plosser: Nasty Weather Has Curbed Job Gr...   \n",
       "\n",
       "                                                 URL          PUBLISHER  \\\n",
       "0  http://www.latimes.com/business/money/la-fi-mo...  Los Angeles Times   \n",
       "1  http://www.livemint.com/Politics/H2EvwJSK2VE6O...           Livemint   \n",
       "2  http://www.ifamagazine.com/news/us-open-stocks...       IFA Magazine   \n",
       "3  http://www.ifamagazine.com/news/fed-risks-fall...       IFA Magazine   \n",
       "4  http://www.moneynews.com/Economy/federal-reser...          Moneynews   \n",
       "\n",
       "  CATEGORY                          STORY             HOSTNAME      TIMESTAMP  \n",
       "0        b  ddUyU0VZz0BRneMioxUPQVP6sIxvM      www.latimes.com  1394470370698  \n",
       "1        b  ddUyU0VZz0BRneMioxUPQVP6sIxvM     www.livemint.com  1394470371207  \n",
       "2        b  ddUyU0VZz0BRneMioxUPQVP6sIxvM  www.ifamagazine.com  1394470371550  \n",
       "3        b  ddUyU0VZz0BRneMioxUPQVP6sIxvM  www.ifamagazine.com  1394470371793  \n",
       "4        b  ddUyU0VZz0BRneMioxUPQVP6sIxvM    www.moneynews.com  1394470372027  "
      ]
     },
     "execution_count": 7,
     "metadata": {},
     "output_type": "execute_result"
    }
   ],
   "source": [
    "NEWS_df.head()"
   ]
  },
  {
   "cell_type": "code",
   "execution_count": 122,
   "metadata": {},
   "outputs": [
    {
     "name": "stdout",
     "output_type": "stream",
     "text": [
      "2014-03-10 16:52:50.698000\n",
      "2014-08-28 12:33:11.565000\n"
     ]
    }
   ],
   "source": [
    "print(NEWS_df['TIMESTAMP'].min())\n",
    "print(NEWS_df['TIMESTAMP'].max())"
   ]
  },
  {
   "cell_type": "code",
   "execution_count": 8,
   "metadata": {},
   "outputs": [
    {
     "data": {
      "text/plain": [
       "422419"
      ]
     },
     "execution_count": 8,
     "metadata": {},
     "output_type": "execute_result"
    }
   ],
   "source": [
    "#check the number of data\n",
    "len(NEWS_df)"
   ]
  },
  {
   "cell_type": "code",
   "execution_count": 9,
   "metadata": {
    "collapsed": true
   },
   "outputs": [],
   "source": [
    "companies = {\"3M\": \"MMM\",\n",
    "             \"American Express\":\"AXP\",\n",
    "             \"Apple\":\"AAPL\",\n",
    "             \"Boeing\":\"BA\",\n",
    "             \"Caterpillar\":\"CAT\",\n",
    "             \"Chevron\":\"CVX\",\n",
    "             \"Cisco Systems\":\"CSCO\",\n",
    "             \"Coca-Cola\":\"KO\",\n",
    "             \"DuPont\":\"DD\",\n",
    "             \"ExxonMobil\":\"XOM\",\n",
    "             \"General Electric\":\"GE\",\n",
    "             \"Goldman Sachs\":\"GS\",\n",
    "             \"Home Depot\":\"HD\",\n",
    "             \"IBM\":\"IBM\",\n",
    "             \"Intel\":\"INTC\",\n",
    "             \"Johnson & Johnson\":\"JNJ\",\n",
    "             \"JPMorgan Chase\":\"JPM\",\n",
    "             \"McDonald's\":\"MCD\",\n",
    "             \"Merck\":\"MRK\",\n",
    "             \"Microsoft\":\"MSFT\",\n",
    "             \"Nike\":\"NKE\",\n",
    "             \"Pfizer\":\"PFE\",\n",
    "             \"Procter & Gamble\":\"PG\",\n",
    "             \"Travelers\":\"TRV\",\n",
    "             \"UnitedHealth Group\":\"UNH\",\n",
    "             \"United Technologies\":\"UTX\",\n",
    "             \"Verizon\":\"VZ\",\n",
    "             \"Visa\":\"V\",\n",
    "             \"Walmart\":\"WMT\",\n",
    "             \"Walt Disney\":\"DIS\"\n",
    "}"
   ]
  },
  {
   "cell_type": "code",
   "execution_count": 10,
   "metadata": {},
   "outputs": [
    {
     "name": "stdout",
     "output_type": "stream",
     "text": [
      "24550\n",
      "{'3M': 144, 'American Express': 12, 'Apple': 10317, 'Boeing': 596, 'Caterpillar': 116, 'Chevron': 22, 'Cisco Systems': 11, 'Coca-Cola': 302, 'DuPont': 33, 'ExxonMobil': 5, 'General Electric': 127, 'Goldman Sachs': 124, 'Home Depot': 115, 'IBM': 1058, 'Intel': 675, 'Johnson & Johnson': 70, 'JPMorgan Chase': 116, \"McDonald's\": 790, 'Merck': 199, 'Microsoft': 6984, 'Nike': 209, 'Pfizer': 1072, 'Procter & Gamble': 102, 'Travelers': 35, 'UnitedHealth Group': 15, 'United Technologies': 6, 'Verizon': 651, 'Visa': 149, 'Walmart': 424, 'Walt Disney': 71}\n"
     ]
    }
   ],
   "source": [
    "#try to check whether there is enough data for above companies\n",
    "def count_news(companies):\n",
    "    total = 0\n",
    "    news_count = {}\n",
    "    for key, item in companies.items():\n",
    "        num =  len(NEWS_df[NEWS_df['TITLE'].str.contains(key, na=False)])\n",
    "        total += num\n",
    "        news_count[key] = num\n",
    "    \n",
    "    return total, news_count\n",
    "\n",
    "total, news_count = count_news(companies)\n",
    "print(total)\n",
    "print(news_count)"
   ]
  },
  {
   "cell_type": "code",
   "execution_count": 11,
   "metadata": {
    "collapsed": true
   },
   "outputs": [],
   "source": [
    "#try to check whether there is corresponding stock price data for above companies\n",
    "for key, item in companies.items():\n",
    "    if item in SP_df['ticker'].values:\n",
    "        continue\n",
    "    else:\n",
    "        print('Following company doesn\\'nt exist: {}'.format(item))"
   ]
  },
  {
   "cell_type": "code",
   "execution_count": 12,
   "metadata": {},
   "outputs": [
    {
     "name": "stdout",
     "output_type": "stream",
     "text": [
      "24270\n",
      "{'3M': 144, 'Apple': 10317, 'Boeing': 596, 'Caterpillar': 116, 'Coca-Cola': 302, 'General Electric': 127, 'Goldman Sachs': 124, 'Home Depot': 115, 'IBM': 1058, 'Intel': 675, 'JPMorgan Chase': 116, \"McDonald's\": 790, 'Merck': 199, 'Microsoft': 6984, 'Nike': 209, 'Pfizer': 1072, 'Procter & Gamble': 102, 'Verizon': 651, 'Visa': 149, 'Walmart': 424}\n"
     ]
    }
   ],
   "source": [
    "#delete the companies with the small number of news in NEWS_df\n",
    "for key, item in news_count.items():\n",
    "    if news_count[key] < 100:\n",
    "        companies.pop(key)\n",
    "\n",
    "total_v2, news_count_v2 = count_news(companies)\n",
    "print(total_v2)\n",
    "print(news_count_v2)"
   ]
  },
  {
   "cell_type": "code",
   "execution_count": 13,
   "metadata": {},
   "outputs": [
    {
     "data": {
      "text/plain": [
       "Index(['ID', 'TITLE', 'URL', 'PUBLISHER', 'TIMESTAMP'], dtype='object')"
      ]
     },
     "execution_count": 13,
     "metadata": {},
     "output_type": "execute_result"
    }
   ],
   "source": [
    "#drop the unnecessary column of NEWS_df\n",
    "NEWS_df = NEWS_df.drop([\"CATEGORY\",\"STORY\",\"HOSTNAME\"], axis=1)\n",
    "NEWS_df.columns"
   ]
  },
  {
   "cell_type": "code",
   "execution_count": 14,
   "metadata": {
    "collapsed": true
   },
   "outputs": [],
   "source": [
    "#convert timestamp to date\n",
    "NEWS_df['TIMESTAMP'] = pd.to_datetime(NEWS_df['TIMESTAMP'], unit='ms')"
   ]
  },
  {
   "cell_type": "code",
   "execution_count": 15,
   "metadata": {
    "collapsed": true
   },
   "outputs": [],
   "source": [
    "#Create a function that determine whether the news title includes any company\n",
    "\n",
    "def company_in_news(paragraph, companies):\n",
    "    \"\"\"\n",
    "    input; paragraph: string, companies: dictionary\n",
    "    output; boolean\n",
    "    \"\"\"\n",
    "    words = paragraph.split()\n",
    "    is_inNews = False\n",
    "    for i in range(len(words)):\n",
    "        if words[i] in companies.keys():\n",
    "            is_inNews = True\n",
    "    \n",
    "    return is_inNews\n",
    "\n"
   ]
  },
  {
   "cell_type": "markdown",
   "metadata": {},
   "source": [
    "memo for myself  \n",
    "__number difference with str.contain()__  \n",
    "len(NEWS_companies_df)"
   ]
  },
  {
   "cell_type": "code",
   "execution_count": 16,
   "metadata": {
    "collapsed": true
   },
   "outputs": [],
   "source": [
    "#create the new dataframe which consists of relevant news only\n",
    "NEWS_companies_df = NEWS_df[NEWS_df['TITLE'].apply(company_in_news, args=(companies,)) == True]"
   ]
  },
  {
   "cell_type": "code",
   "execution_count": 17,
   "metadata": {},
   "outputs": [
    {
     "name": "stderr",
     "output_type": "stream",
     "text": [
      "C:\\Users\\the_b\\Anaconda3\\lib\\site-packages\\ipykernel_launcher.py:15: SettingWithCopyWarning: \n",
      "A value is trying to be set on a copy of a slice from a DataFrame.\n",
      "Try using .loc[row_indexer,col_indexer] = value instead\n",
      "\n",
      "See the caveats in the documentation: http://pandas.pydata.org/pandas-docs/stable/indexing.html#indexing-view-versus-copy\n",
      "  from ipykernel import kernelapp as app\n"
     ]
    }
   ],
   "source": [
    "#create a function which give the label of the company's ticker to the news\n",
    "\n",
    "def label_news(paragraph, companies):\n",
    "    \"\"\"\n",
    "    input; paragraph: string, companies: dictionary\n",
    "    output; name: company's ticker\n",
    "    \"\"\"\n",
    "    words = paragraph.split()\n",
    "    for i in range(len(words)):\n",
    "        if words[i] in companies.keys():\n",
    "            return companies[words[i]]\n",
    "    \n",
    "    return 'NaN'\n",
    "\n",
    "NEWS_companies_df['ticker'] = NEWS_companies_df['TITLE'].apply(label_news, args=(companies,))\n"
   ]
  },
  {
   "cell_type": "markdown",
   "metadata": {},
   "source": [
    "memo for myself  \n",
    "__could be together with company_in_news__  \n",
    "__got a warning__"
   ]
  },
  {
   "cell_type": "code",
   "execution_count": 18,
   "metadata": {
    "collapsed": true
   },
   "outputs": [],
   "source": [
    "date_set = set(SP_df['date'])\n",
    "date_list = list(date_set)\n",
    "date_list.sort()\n",
    "    \n",
    "#     #get the day which is one day before input date\n",
    "#     def get_day_before(date, SP_df):\n",
    "\n",
    "\n",
    "#         ind = date_list.index(date)\n",
    "\n",
    "#         return date_list[ind-1]"
   ]
  },
  {
   "cell_type": "code",
   "execution_count": 148,
   "metadata": {},
   "outputs": [],
   "source": [
    "#create a function that takes the corresponding the stock price move\n",
    "#this function runs very slow. next cell might take more than 10 mins to run\n",
    "def get_move(row):\n",
    "    \n",
    "    \"\"\"\n",
    "    input; row: entire row, SP_df: DataFrame of stock price\n",
    "    output; boolean\n",
    "    \"\"\"    \n",
    "    \n",
    "    date_tmp = row['TIMESTAMP']\n",
    "    \n",
    "    #check the hour of the news, and then if it's after 17, make the date next day.\n",
    "    if date_tmp.hour >= 17:\n",
    "        date = date_tmp + datetime.timedelta(days=1)\n",
    "    else:\n",
    "        date = date_tmp\n",
    "    date1 = datetime.datetime.strftime(date, \"%Y-%m-%d\")\n",
    "\n",
    "    \n",
    "    #get the date0\n",
    "    try:\n",
    "        ind = date_list.index(date1)\n",
    "    except ValueError:\n",
    "        return np.nan\n",
    "    date0 = date_list[ind-1]\n",
    "    \n",
    "\n",
    "#     day0_price = SP_df.loc[(SP_df['date'] == date0) & (SP_df['ticker'] == row['ticker']), 'adj_close']\n",
    "#     day1_price = SP_df.loc[(SP_df['date'] == date1) & (SP_df['ticker'] == row['ticker']), 'adj_close']\n",
    "\n",
    "    try:\n",
    "        day0_price = combi[(date0, row['ticker'])]\n",
    "        day1_price = combi[(date1, row['ticker'])]\n",
    "    except KeyError:\n",
    "        return np.nan\n",
    "    \n",
    "    #return True if the stock price went up by more than 10%\n",
    "    if ((day1_price - day0_price)/day0_price) > 0.005:\n",
    "        return True\n",
    "    elif ((day1_price - day0_price)/day0_price) < -0.005:\n",
    "        return False\n",
    "    else:\n",
    "        return np.nan\n",
    "    \n"
   ]
  },
  {
   "cell_type": "code",
   "execution_count": 149,
   "metadata": {},
   "outputs": [
    {
     "name": "stderr",
     "output_type": "stream",
     "text": [
      "C:\\Users\\the_b\\Anaconda3\\lib\\site-packages\\ipykernel_launcher.py:1: SettingWithCopyWarning: \n",
      "A value is trying to be set on a copy of a slice from a DataFrame.\n",
      "Try using .loc[row_indexer,col_indexer] = value instead\n",
      "\n",
      "See the caveats in the documentation: http://pandas.pydata.org/pandas-docs/stable/indexing.html#indexing-view-versus-copy\n",
      "  \"\"\"Entry point for launching an IPython kernel.\n"
     ]
    }
   ],
   "source": [
    "NEWS_companies_df['IsUp'] = NEWS_companies_df.apply(get_move, axis = 1)"
   ]
  },
  {
   "cell_type": "code",
   "execution_count": 150,
   "metadata": {
    "collapsed": true
   },
   "outputs": [],
   "source": [
    "with_move_df = NEWS_companies_df.dropna(how='any')"
   ]
  },
  {
   "cell_type": "code",
   "execution_count": 151,
   "metadata": {
    "collapsed": true
   },
   "outputs": [],
   "source": [
    "def get_sentiment(sentences):\n",
    "    blob = TextBlob(sentences)\n",
    "    for sentence in blob.sentences:\n",
    "        return sentence.sentiment.polarity"
   ]
  },
  {
   "cell_type": "code",
   "execution_count": 152,
   "metadata": {},
   "outputs": [
    {
     "name": "stderr",
     "output_type": "stream",
     "text": [
      "C:\\Users\\the_b\\Anaconda3\\lib\\site-packages\\ipykernel_launcher.py:1: SettingWithCopyWarning: \n",
      "A value is trying to be set on a copy of a slice from a DataFrame.\n",
      "Try using .loc[row_indexer,col_indexer] = value instead\n",
      "\n",
      "See the caveats in the documentation: http://pandas.pydata.org/pandas-docs/stable/indexing.html#indexing-view-versus-copy\n",
      "  \"\"\"Entry point for launching an IPython kernel.\n"
     ]
    }
   ],
   "source": [
    "with_move_df['Sentiment'] = with_move_df['TITLE'].apply(get_sentiment)"
   ]
  },
  {
   "cell_type": "code",
   "execution_count": 153,
   "metadata": {},
   "outputs": [
    {
     "data": {
      "text/plain": [
       "{False: 3281, True: 5730}"
      ]
     },
     "execution_count": 153,
     "metadata": {},
     "output_type": "execute_result"
    }
   ],
   "source": [
    "#print(with_move_df.sample(20))\n",
    "unique, counts = np.unique(with_move_df['IsUp'].values, return_counts=True)\n",
    "dict(zip(unique, counts))"
   ]
  },
  {
   "cell_type": "code",
   "execution_count": 154,
   "metadata": {},
   "outputs": [],
   "source": [
    "def add_time(row):\n",
    "    return datetime.datetime.strftime(row['TIMESTAMP'], \"%Y-%m-%d\")"
   ]
  },
  {
   "cell_type": "code",
   "execution_count": 155,
   "metadata": {},
   "outputs": [
    {
     "name": "stdout",
     "output_type": "stream",
     "text": [
      "9011\n"
     ]
    },
    {
     "name": "stderr",
     "output_type": "stream",
     "text": [
      "C:\\Users\\the_b\\Anaconda3\\lib\\site-packages\\ipykernel_launcher.py:1: SettingWithCopyWarning: \n",
      "A value is trying to be set on a copy of a slice from a DataFrame.\n",
      "Try using .loc[row_indexer,col_indexer] = value instead\n",
      "\n",
      "See the caveats in the documentation: http://pandas.pydata.org/pandas-docs/stable/indexing.html#indexing-view-versus-copy\n",
      "  \"\"\"Entry point for launching an IPython kernel.\n"
     ]
    }
   ],
   "source": [
    "with_move_df['Day'] = with_move_df.apply(add_time, axis = 1)\n",
    "print(len(with_move_df))"
   ]
  },
  {
   "cell_type": "code",
   "execution_count": 156,
   "metadata": {},
   "outputs": [
    {
     "data": {
      "text/plain": [
       "Day         ticker\n",
       "2014-03-10  BA          4\n",
       "            MCD        31\n",
       "            MSFT       12\n",
       "2014-03-11  AAPL      113\n",
       "            BA          1\n",
       "            MSFT        1\n",
       "            VZ          1\n",
       "2014-03-12  MSFT       50\n",
       "            VZ         12\n",
       "2014-03-13  AAPL       11\n",
       "            BA          1\n",
       "            INTC       20\n",
       "            MSFT       22\n",
       "            VZ          2\n",
       "2014-03-17  BA          3\n",
       "            MSFT      117\n",
       "            PFE         4\n",
       "2014-03-18  AAPL      300\n",
       "            MSFT      136\n",
       "2014-03-19  BA          1\n",
       "2014-03-20  BA         48\n",
       "            IBM         1\n",
       "            INTC        1\n",
       "            MSFT       10\n",
       "            VZ          2\n",
       "            WMT        46\n",
       "2014-03-24  AAPL       27\n",
       "            BA          1\n",
       "            MRK         4\n",
       "            MSFT       89\n",
       "                     ... \n",
       "2014-07-09  IBM         1\n",
       "2014-07-10  BA         49\n",
       "2014-07-15  AAPL        7\n",
       "            MSFT      173\n",
       "2014-07-16  AAPL      100\n",
       "            IBM        49\n",
       "            INTC        6\n",
       "            MSFT      129\n",
       "2014-07-17  AAPL      338\n",
       "            BA         11\n",
       "            INTC        1\n",
       "            MCD         1\n",
       "            MSFT       18\n",
       "            PFE         7\n",
       "2014-07-18  AAPL        3\n",
       "2014-07-29  AAPL       43\n",
       "            VZ          1\n",
       "2014-07-30  MSFT       60\n",
       "2014-07-31  AAPL       10\n",
       "            BA         47\n",
       "            MCD        50\n",
       "            MRK         3\n",
       "            MSFT      161\n",
       "            VZ          4\n",
       "            WMT         5\n",
       "2014-08-01  AAPL        2\n",
       "            MSFT       60\n",
       "            VZ          2\n",
       "2014-08-25  AAPL      173\n",
       "            NKE         1\n",
       "Length: 229, dtype: int64"
      ]
     },
     "execution_count": 156,
     "metadata": {},
     "output_type": "execute_result"
    }
   ],
   "source": [
    "grouped = with_move_df.groupby(['Day','ticker'])\n",
    "grouped.size()\n",
    "with_move.ticker == ''\n",
    "agg"
   ]
  },
  {
   "cell_type": "code",
   "execution_count": 166,
   "metadata": {},
   "outputs": [],
   "source": [
    "def take_important(df, IsTrue):\n",
    "    new_df = df['TITLE'][df['IsUp']==IsTrue]\n",
    "    \n",
    "    counter = Counter()\n",
    "#     for index, row in df.iterrows():\n",
    "#         if row['IsUp'] == IsTrue:\n",
    "#             for w in row['TITLE'].split():\n",
    "#                 if w in count:\n",
    "#                     count[w] += 1\n",
    "#                 else:\n",
    "#                     count[w] = 1\n",
    "    \n",
    "    return counter"
   ]
  },
  {
   "cell_type": "code",
   "execution_count": 167,
   "metadata": {
    "scrolled": false
   },
   "outputs": [],
   "source": [
    "count_up = take_important(with_move_df, True)"
   ]
  },
  {
   "cell_type": "code",
   "execution_count": 147,
   "metadata": {},
   "outputs": [
    {
     "data": {
      "text/plain": [
       "{'\"national': 1,\n",
       " '$0.01': 1,\n",
       " '$106-billion': 1,\n",
       " '$14': 12,\n",
       " '$14.2': 20,\n",
       " '$14.2...': 1,\n",
       " '$14.2B': 11,\n",
       " '$14.2BN': 1,\n",
       " '$14.2bn': 3,\n",
       " '$14B': 4,\n",
       " '$1B': 1,\n",
       " '$1bn': 1,\n",
       " '$2.1B': 1,\n",
       " '$99': 1,\n",
       " '&': 17,\n",
       " \"'Sharknado\": 1,\n",
       " \"'cheerleader'\": 1,\n",
       " \"'could\": 1,\n",
       " \"'wrong'\": 1,\n",
       " '(M8)': 1,\n",
       " '(MRK)': 1,\n",
       " '(PFE)': 3,\n",
       " '(Video)': 1,\n",
       " '-': 1,\n",
       " '--': 2,\n",
       " '...': 13,\n",
       " '1': 1,\n",
       " '13': 1,\n",
       " '14.2': 1,\n",
       " '15': 3,\n",
       " '15%': 6,\n",
       " '15-inch': 1,\n",
       " '1Q': 3,\n",
       " '1st-quarter': 1,\n",
       " \"2'\": 1,\n",
       " '2014': 2,\n",
       " '21': 1,\n",
       " '2nd': 1,\n",
       " '3%': 1,\n",
       " '3-Bayer': 1,\n",
       " '3Q,': 1,\n",
       " '3rd': 1,\n",
       " '4.4.2': 1,\n",
       " '8.1': 1,\n",
       " 'AG': 3,\n",
       " 'ANALYSIS:': 1,\n",
       " 'Acquiring': 1,\n",
       " 'Adj.': 2,\n",
       " 'Ahead': 1,\n",
       " 'Amazon': 1,\n",
       " 'Amid': 1,\n",
       " 'And': 1,\n",
       " 'Android': 1,\n",
       " 'Animal': 1,\n",
       " 'Announces': 1,\n",
       " 'Apple': 10,\n",
       " 'Approaches': 1,\n",
       " 'As': 4,\n",
       " 'Astra': 2,\n",
       " 'AstraZeneca': 22,\n",
       " 'Aug.': 1,\n",
       " 'Away': 1,\n",
       " 'Back-to-School': 1,\n",
       " 'Backs': 1,\n",
       " 'Bayer': 74,\n",
       " \"Bayer's\": 5,\n",
       " 'Bayer,': 1,\n",
       " 'Beats': 3,\n",
       " 'Bid': 3,\n",
       " 'Big': 4,\n",
       " 'Billion': 7,\n",
       " 'Biz': 1,\n",
       " 'Blockbusters': 1,\n",
       " 'Boeing': 1,\n",
       " 'Boost': 1,\n",
       " 'Boston': 1,\n",
       " 'Both': 1,\n",
       " 'Brands': 2,\n",
       " 'Breast': 1,\n",
       " 'British': 1,\n",
       " 'Bulks': 1,\n",
       " 'Business': 10,\n",
       " 'But': 2,\n",
       " 'Buy': 4,\n",
       " 'Buys': 3,\n",
       " 'By': 1,\n",
       " 'CEO': 2,\n",
       " 'CEO:': 1,\n",
       " 'CPU': 1,\n",
       " 'Cadbury': 1,\n",
       " 'Calms': 1,\n",
       " 'Camera': 1,\n",
       " 'Cameron': 3,\n",
       " 'Can': 1,\n",
       " 'Cancer': 1,\n",
       " 'Cardio': 1,\n",
       " 'Care': 5,\n",
       " 'Caution': 1,\n",
       " 'Chair': 1,\n",
       " 'Checkbook': 1,\n",
       " 'Chest': 1,\n",
       " 'Chinese': 1,\n",
       " 'Claritin,': 1,\n",
       " 'Close': 1,\n",
       " 'Co': 3,\n",
       " \"Co's\": 7,\n",
       " 'Co,': 1,\n",
       " 'Co.': 5,\n",
       " \"Co.'s\": 2,\n",
       " 'Co.,': 1,\n",
       " 'Collab': 1,\n",
       " 'Communications': 1,\n",
       " 'Competition': 1,\n",
       " 'Confirm': 1,\n",
       " 'Consumer': 14,\n",
       " 'Consumer-Care': 1,\n",
       " 'Continues': 1,\n",
       " 'Contract': 1,\n",
       " 'Corporation,': 1,\n",
       " 'Could': 1,\n",
       " 'Credit': 1,\n",
       " 'David': 1,\n",
       " 'Deal': 2,\n",
       " 'Deal:': 1,\n",
       " 'Decline': 1,\n",
       " 'Defensive': 1,\n",
       " 'Dekkers': 1,\n",
       " 'Disapppoint': 1,\n",
       " 'Discarded': 1,\n",
       " 'Display': 2,\n",
       " 'Division': 1,\n",
       " 'Double': 1,\n",
       " 'Down': 2,\n",
       " 'Down,': 1,\n",
       " 'Downbeat': 1,\n",
       " 'Drop': 1,\n",
       " 'Drops': 3,\n",
       " 'Drug': 3,\n",
       " 'Drugmaker': 2,\n",
       " 'Due': 1,\n",
       " 'EPS': 2,\n",
       " 'ETA': 1,\n",
       " 'Earnings': 5,\n",
       " 'Earnings,': 4,\n",
       " 'Earnings:': 1,\n",
       " 'Ed': 2,\n",
       " 'Edges': 1,\n",
       " 'Estimates': 2,\n",
       " 'Estimates;': 1,\n",
       " 'Ex-Trade': 1,\n",
       " 'Expectations': 1,\n",
       " 'Experiencing': 1,\n",
       " 'Experimental': 2,\n",
       " 'Explains': 1,\n",
       " 'Exposes': 1,\n",
       " 'Facts': 1,\n",
       " 'First': 1,\n",
       " 'Focus': 2,\n",
       " 'For': 7,\n",
       " 'Force': 1,\n",
       " 'Former': 1,\n",
       " 'Futures': 1,\n",
       " 'Galaxy': 3,\n",
       " 'Generic': 1,\n",
       " 'German': 1,\n",
       " \"Germany's\": 8,\n",
       " 'Gives': 1,\n",
       " 'HTC': 4,\n",
       " 'Haswell': 1,\n",
       " 'He': 1,\n",
       " 'Health': 1,\n",
       " 'Healthcare': 1,\n",
       " 'Heartbleed': 1,\n",
       " 'Helps': 1,\n",
       " 'Herbalife': 1,\n",
       " 'Higher;': 1,\n",
       " 'II': 1,\n",
       " 'In': 2,\n",
       " 'Inc': 1,\n",
       " 'Inc.': 4,\n",
       " 'Indices': 1,\n",
       " 'Inquiry': 1,\n",
       " 'Intel': 1,\n",
       " 'Is': 1,\n",
       " 'Issues': 1,\n",
       " 'It': 1,\n",
       " 'Its': 4,\n",
       " 'Itself': 1,\n",
       " 'Just': 1,\n",
       " 'KitKat': 1,\n",
       " 'Latest': 1,\n",
       " 'Loses': 1,\n",
       " 'Lower': 4,\n",
       " 'M8': 3,\n",
       " 'MRK:': 1,\n",
       " 'MacBook': 8,\n",
       " 'Macbook': 1,\n",
       " 'Maker': 1,\n",
       " 'Many': 1,\n",
       " 'Mark': 1,\n",
       " 'Market': 1,\n",
       " 'Markets': 1,\n",
       " 'Medicine': 1,\n",
       " 'Merck': 91,\n",
       " 'Merger': 1,\n",
       " 'Miliband': 3,\n",
       " 'Miliband:': 4,\n",
       " 'Minister': 1,\n",
       " 'Minister,': 1,\n",
       " 'Misses': 1,\n",
       " 'Mixed': 1,\n",
       " 'Mixed;': 1,\n",
       " 'Momentum': 1,\n",
       " 'NEWS': 1,\n",
       " 'Net': 1,\n",
       " 'New': 2,\n",
       " 'News:': 1,\n",
       " 'No.': 1,\n",
       " 'OTC': 5,\n",
       " 'Off': 1,\n",
       " 'Offer': 2,\n",
       " 'On': 2,\n",
       " 'One': 5,\n",
       " 'Open': 1,\n",
       " 'Out': 1,\n",
       " 'Over': 1,\n",
       " 'Pack?': 1,\n",
       " 'Papers:': 1,\n",
       " 'Part': 1,\n",
       " 'Pay': 2,\n",
       " 'Paying': 1,\n",
       " 'Pfizer': 79,\n",
       " 'Pharma': 1,\n",
       " 'Pharma:': 1,\n",
       " 'Phase': 1,\n",
       " 'Phone': 3,\n",
       " 'Pittsburgh': 1,\n",
       " 'Pledges': 1,\n",
       " 'Plunge,': 1,\n",
       " 'Posts': 2,\n",
       " 'Pre-Market;': 1,\n",
       " 'Prime': 1,\n",
       " 'Pro': 8,\n",
       " 'Probably': 1,\n",
       " 'Products': 1,\n",
       " 'Products:': 1,\n",
       " 'Profit': 7,\n",
       " 'Promising': 1,\n",
       " 'Pros': 1,\n",
       " 'Pursues': 1,\n",
       " 'Push': 1,\n",
       " 'Put': 1,\n",
       " 'Q1': 8,\n",
       " 'Quarter': 1,\n",
       " 'Quarterly': 1,\n",
       " 'Queries': 1,\n",
       " 'Quick': 1,\n",
       " 'R&D': 2,\n",
       " 'Ranbaxy': 1,\n",
       " 'Rattles': 1,\n",
       " 'Reasons': 1,\n",
       " 'Red': 1,\n",
       " 'Rejects': 1,\n",
       " 'Remain': 1,\n",
       " 'Reports': 4,\n",
       " 'Results': 2,\n",
       " 'Retina': 6,\n",
       " 'Revenue': 8,\n",
       " 'Revenues': 1,\n",
       " 'Revive': 1,\n",
       " 'Rollout': 1,\n",
       " 'S$17.7': 1,\n",
       " 'S4': 1,\n",
       " 'S5': 2,\n",
       " 'Sales': 4,\n",
       " 'Samsung': 2,\n",
       " 'Says': 2,\n",
       " 'Scoops': 1,\n",
       " 'Sector': 1,\n",
       " 'Sees': 1,\n",
       " 'Sell': 3,\n",
       " 'Selling': 2,\n",
       " 'Sells': 5,\n",
       " 'Shares': 1,\n",
       " \"Shouldn't\": 1,\n",
       " 'Shows': 1,\n",
       " 'Simmers': 1,\n",
       " 'Sinks': 1,\n",
       " 'Spec': 1,\n",
       " 'Split': 1,\n",
       " 'Stay': 1,\n",
       " 'Steam;': 1,\n",
       " 'Strategy': 2,\n",
       " 'Street': 1,\n",
       " 'Study': 1,\n",
       " 'Suisse': 1,\n",
       " 'Sun': 1,\n",
       " 'Sunday': 1,\n",
       " 'Synergy': 1,\n",
       " 'Takeover': 1,\n",
       " 'Tax': 1,\n",
       " 'This': 1,\n",
       " 'Time': 1,\n",
       " 'To': 5,\n",
       " 'Tops': 2,\n",
       " 'UK': 5,\n",
       " 'UPDATE': 1,\n",
       " 'US': 6,\n",
       " 'US$14.2': 1,\n",
       " 'US$14.2bn': 1,\n",
       " 'US-based': 1,\n",
       " 'USD': 1,\n",
       " 'Unfound': 1,\n",
       " 'Unit': 9,\n",
       " 'Up': 3,\n",
       " 'Upbeat': 1,\n",
       " 'Update': 3,\n",
       " 'Update:': 1,\n",
       " 'Updates': 2,\n",
       " 'Urges': 1,\n",
       " 'Verizon': 9,\n",
       " 'Viagra': 1,\n",
       " 'View': 1,\n",
       " 'View,': 1,\n",
       " 'View;': 1,\n",
       " 'VoLTE': 1,\n",
       " 'Vulnerabilities,': 1,\n",
       " 'Wall': 1,\n",
       " 'Warner': 1,\n",
       " 'Warns': 1,\n",
       " 'Way': 1,\n",
       " 'Weaker': 1,\n",
       " 'Web': 1,\n",
       " 'Why': 1,\n",
       " 'Will': 1,\n",
       " 'Windows': 4,\n",
       " 'With': 4,\n",
       " \"Won't\": 1,\n",
       " 'a': 9,\n",
       " 'acquire': 1,\n",
       " 'acquisition': 1,\n",
       " 'advanced': 2,\n",
       " 'after': 4,\n",
       " 'agrees': 2,\n",
       " 'aims': 1,\n",
       " 'amid': 1,\n",
       " 'and': 6,\n",
       " 'approval': 1,\n",
       " 'area': 1,\n",
       " 'as': 8,\n",
       " 'at': 2,\n",
       " 'auction': 3,\n",
       " 'b': 1,\n",
       " 'be': 4,\n",
       " 'bid': 8,\n",
       " 'big': 1,\n",
       " 'bil.': 1,\n",
       " 'billion': 15,\n",
       " 'bite': 1,\n",
       " 'biz': 4,\n",
       " 'bln': 4,\n",
       " 'bn': 6,\n",
       " 'boast': 1,\n",
       " 'boon': 1,\n",
       " 'boosts': 1,\n",
       " 'brands': 1,\n",
       " 'breast': 8,\n",
       " 'business': 20,\n",
       " 'business;': 1,\n",
       " 'buy': 23,\n",
       " 'buying': 1,\n",
       " 'buyout': 1,\n",
       " 'buys': 4,\n",
       " 'by': 6,\n",
       " 'cabinets': 1,\n",
       " 'cancer': 9,\n",
       " 'cancer-fighting': 1,\n",
       " 'cardio': 1,\n",
       " 'care': 16,\n",
       " 'cashes': 1,\n",
       " 'caution': 1,\n",
       " 'cent': 1,\n",
       " \"chains'\": 1,\n",
       " 'cheap': 1,\n",
       " 'cheerleader': 1,\n",
       " 'chips': 1,\n",
       " 'co': 1,\n",
       " 'collaborate': 1,\n",
       " 'college': 1,\n",
       " 'combining': 1,\n",
       " 'company': 1,\n",
       " 'confirm': 1,\n",
       " 'consumer': 34,\n",
       " 'consumer-care': 1,\n",
       " 'consumer-health': 3,\n",
       " 'cost': 1,\n",
       " 'could': 1,\n",
       " 'crush': 1,\n",
       " 'cuts': 2,\n",
       " 'data;': 1,\n",
       " 'date,': 1,\n",
       " 'deal': 10,\n",
       " 'deal,': 1,\n",
       " 'deal:': 1,\n",
       " 'deal;': 1,\n",
       " 'deck': 1,\n",
       " 'despite': 1,\n",
       " 'disappoint': 1,\n",
       " 'disappoint,': 2,\n",
       " 'display,': 1,\n",
       " 'doses': 1,\n",
       " 'doubles': 1,\n",
       " 'down': 1,\n",
       " 'drag': 3,\n",
       " 'drop': 3,\n",
       " 'drops': 7,\n",
       " 'drug': 13,\n",
       " 'drugs': 2,\n",
       " 'drugs,': 1,\n",
       " 'due': 5,\n",
       " 'earnings': 1,\n",
       " 'effort': 1,\n",
       " 'ensure': 1,\n",
       " 'expected': 1,\n",
       " 'experimental': 2,\n",
       " 'expiring': 1,\n",
       " 'face': 3,\n",
       " 'fall': 4,\n",
       " 'fall,': 1,\n",
       " 'faster': 2,\n",
       " 'features': 1,\n",
       " 'firms': 1,\n",
       " 'first-quarter': 2,\n",
       " 'for': 57,\n",
       " 'forecasts': 1,\n",
       " 'fours': 1,\n",
       " 'from': 4,\n",
       " 'future': 1,\n",
       " 'gains': 1,\n",
       " 'generic': 2,\n",
       " 'generics': 3,\n",
       " 'giant': 2,\n",
       " 'global': 1,\n",
       " 'good,': 1,\n",
       " 'hard': 1,\n",
       " 'have': 1,\n",
       " 'headed': 1,\n",
       " 'health': 1,\n",
       " 'helps': 1,\n",
       " 'higher': 1,\n",
       " 'hit': 4,\n",
       " 'hopes': 1,\n",
       " 'illustrates': 1,\n",
       " 'impact': 1,\n",
       " 'in': 16,\n",
       " 'inch': 1,\n",
       " 'increases': 1,\n",
       " 'indices': 1,\n",
       " 'interest\"': 1,\n",
       " 'into': 1,\n",
       " 'is': 4,\n",
       " 'it': 1,\n",
       " 'its': 1,\n",
       " 'jeopardised': 2,\n",
       " 'jeopardy': 1,\n",
       " 'jobs': 4,\n",
       " 'just': 1,\n",
       " 'justify': 1,\n",
       " 'keeps': 1,\n",
       " 'lag': 1,\n",
       " 'laptops,': 1,\n",
       " 'late': 1,\n",
       " 'latest': 1,\n",
       " 'line': 1,\n",
       " 'lower': 6,\n",
       " 'maker': 1,\n",
       " 'makes': 1,\n",
       " 'mark': 1,\n",
       " 'may': 1,\n",
       " 'medicine': 1,\n",
       " 'memory': 2,\n",
       " 'merger': 3,\n",
       " 'misses': 1,\n",
       " 'missing': 1,\n",
       " 'mixed': 1,\n",
       " 'model': 1,\n",
       " 'more': 1,\n",
       " 'must': 1,\n",
       " 'near': 1,\n",
       " 'need': 1,\n",
       " 'needed': 1,\n",
       " 'new': 2,\n",
       " 'no': 1,\n",
       " 'objects': 1,\n",
       " 'of': 17,\n",
       " 'off': 1,\n",
       " 'offer': 1,\n",
       " 'older': 1,\n",
       " 'on': 12,\n",
       " 'operations': 1,\n",
       " 'or': 1,\n",
       " 'other': 1,\n",
       " 'out': 2,\n",
       " 'over': 1,\n",
       " 'over-the-counter': 1,\n",
       " 'patents': 1,\n",
       " 'patient': 2,\n",
       " 'pays': 2,\n",
       " 'pct': 1,\n",
       " 'pending': 1,\n",
       " 'pens': 1,\n",
       " 'per': 1,\n",
       " 'percent': 1,\n",
       " 'persist': 1,\n",
       " 'pharma': 1,\n",
       " 'picks': 1,\n",
       " 'plans': 3,\n",
       " 'plea': 1,\n",
       " 'portfolio': 1,\n",
       " 'posting': 1,\n",
       " 'posts': 1,\n",
       " 'power': 1,\n",
       " 'price': 2,\n",
       " 'processing': 1,\n",
       " 'processors': 1,\n",
       " 'products': 1,\n",
       " 'profit': 8,\n",
       " 'profits': 5,\n",
       " 'progression': 1,\n",
       " 'promise': 2,\n",
       " 'promises': 4,\n",
       " 'promising': 6,\n",
       " 'purchase': 1,\n",
       " 'pursues': 1,\n",
       " 'pursuit': 1,\n",
       " 'range': 2,\n",
       " 'ready': 2,\n",
       " 'real': 1,\n",
       " 'reduces': 1,\n",
       " 'rejection': 2,\n",
       " 'rejects': 4,\n",
       " 'release': 1,\n",
       " 'reports': 4,\n",
       " 'research': 4,\n",
       " 'results': 7,\n",
       " 'results,': 1,\n",
       " 'revenue': 2,\n",
       " 'risk': 1,\n",
       " 'rivals': 1,\n",
       " 'rumored': 1,\n",
       " 'running': 1,\n",
       " 'sales': 12,\n",
       " 'satellites': 1,\n",
       " 'says': 4,\n",
       " 'search': 1,\n",
       " 'sell': 7,\n",
       " 'selling': 2,\n",
       " 'sells': 5,\n",
       " 'shaky': 1,\n",
       " 'shares': 1,\n",
       " 'shells': 1,\n",
       " 'shows': 5,\n",
       " 'signs': 1,\n",
       " 'sinks': 1,\n",
       " 'slide': 1,\n",
       " 'slides': 1,\n",
       " 'snares': 1,\n",
       " 'snub': 1,\n",
       " 'sovereignty': 1,\n",
       " 'specs': 1,\n",
       " 'spot': 1,\n",
       " 'staples': 1,\n",
       " 'steroids': 1,\n",
       " 'still': 1,\n",
       " 'stop': 1,\n",
       " 'supply': 1,\n",
       " 'support': 1,\n",
       " 'survival': 1,\n",
       " 'swallow': 1,\n",
       " 'sweetened': 3,\n",
       " 'take': 1,\n",
       " 'takeover': 10,\n",
       " 'takes': 1,\n",
       " 'tanks,': 1,\n",
       " 'test,': 1,\n",
       " 'tests': 1,\n",
       " 'the': 3,\n",
       " 'their': 1,\n",
       " 'threat': 1,\n",
       " 'time': 2,\n",
       " 'to': 73,\n",
       " 'treating': 2,\n",
       " 'trial': 1,\n",
       " 'trio': 1,\n",
       " 'tumours': 1,\n",
       " 'unit': 16,\n",
       " 'unit;': 1,\n",
       " 'until': 1,\n",
       " 'up': 4,\n",
       " 'update': 1,\n",
       " 'update:': 1,\n",
       " 'updates': 4,\n",
       " 'urges': 1,\n",
       " 'wager': 2,\n",
       " 'waver': 1,\n",
       " 'way': 1,\n",
       " 'wins': 3,\n",
       " 'wise': 2,\n",
       " 'with': 11,\n",
       " 'would': 1,\n",
       " '£50-plus': 2,\n",
       " '£63bn': 1}"
      ]
     },
     "execution_count": 147,
     "metadata": {},
     "output_type": "execute_result"
    }
   ],
   "source": [
    "take_important(with_move_df, False)"
   ]
  },
  {
   "cell_type": "code",
   "execution_count": 93,
   "metadata": {
    "collapsed": true
   },
   "outputs": [],
   "source": [
    "X = with_move_df['Sentiment']\n",
    "X = X.values.reshape(-1,1)\n",
    "y = with_move_df['IsUp'].values\n",
    "y = y.astype(int)\n",
    "X_train, X_test, y_train, y_test = train_test_split(X, y, test_size=0.30, random_state=0)\n",
    "y_actual = y_test"
   ]
  },
  {
   "cell_type": "code",
   "execution_count": 94,
   "metadata": {},
   "outputs": [
    {
     "data": {
      "image/png": "[encoded data removed]",
      "text/plain": [
       "<matplotlib.figure.Figure at 0x184c841b4a8>"
      ]
     },
     "metadata": {},
     "output_type": "display_data"
    }
   ],
   "source": [
    "\n",
    "\n",
    "plt.scatter(X_train,y_train)\n",
    "plt.show()"
   ]
  },
  {
   "cell_type": "code",
   "execution_count": 95,
   "metadata": {
    "scrolled": false
   },
   "outputs": [
    {
     "data": {
      "text/plain": [
       "LogisticRegression(C=0.1, class_weight=None, dual=False, fit_intercept=True,\n",
       "          intercept_scaling=1, max_iter=100, multi_class='ovr', n_jobs=1,\n",
       "          penalty='l2', random_state=None, solver='liblinear', tol=0.0001,\n",
       "          verbose=0, warm_start=False)"
      ]
     },
     "execution_count": 95,
     "metadata": {},
     "output_type": "execute_result"
    }
   ],
   "source": [
    "LR = LogisticRegression(C=0.1)\n",
    "LR.fit(X_train, y_train)"
   ]
  },
  {
   "cell_type": "code",
   "execution_count": 96,
   "metadata": {
    "collapsed": true
   },
   "outputs": [],
   "source": [
    "y_pred = LR.predict(X_test)\n"
   ]
  },
  {
   "cell_type": "code",
   "execution_count": 97,
   "metadata": {},
   "outputs": [
    {
     "data": {
      "text/plain": [
       "array([0, 0, 0, ..., 0, 0, 0])"
      ]
     },
     "execution_count": 97,
     "metadata": {},
     "output_type": "execute_result"
    }
   ],
   "source": [
    "y_pred"
   ]
  },
  {
   "cell_type": "code",
   "execution_count": 98,
   "metadata": {},
   "outputs": [
    {
     "name": "stdout",
     "output_type": "stream",
     "text": [
      "[[4350    0]\n",
      " [ 120    0]]\n"
     ]
    }
   ],
   "source": [
    "print(confusion_matrix(y_actual, y_pred))"
   ]
  },
  {
   "cell_type": "code",
   "execution_count": 99,
   "metadata": {},
   "outputs": [
    {
     "name": "stdout",
     "output_type": "stream",
     "text": [
      "             precision    recall  f1-score   support\n",
      "\n",
      "         up       0.97      1.00      0.99      4350\n",
      "       down       0.00      0.00      0.00       120\n",
      "\n",
      "avg / total       0.95      0.97      0.96      4470\n",
      "\n"
     ]
    },
    {
     "name": "stderr",
     "output_type": "stream",
     "text": [
      "C:\\Users\\the_b\\Anaconda3\\lib\\site-packages\\sklearn\\metrics\\classification.py:1113: UndefinedMetricWarning: Precision and F-score are ill-defined and being set to 0.0 in labels with no predicted samples.\n",
      "  'precision', 'predicted', average, warn_for)\n"
     ]
    }
   ],
   "source": [
    "print(classification_report(y_actual,\n",
    "                            y_pred,\n",
    "                            target_names=['up', 'down']))"
   ]
  },
  {
   "cell_type": "code",
   "execution_count": null,
   "metadata": {
    "collapsed": true
   },
   "outputs": [],
   "source": []
  },
  {
   "cell_type": "code",
   "execution_count": 31,
   "metadata": {},
   "outputs": [
    {
     "ename": "SyntaxError",
     "evalue": "invalid syntax (<ipython-input-31-3369551aea19>, line 1)",
     "output_type": "error",
     "traceback": [
      "\u001b[1;36m  File \u001b[1;32m\"<ipython-input-31-3369551aea19>\"\u001b[1;36m, line \u001b[1;32m1\u001b[0m\n\u001b[1;33m    word to vec\u001b[0m\n\u001b[1;37m          ^\u001b[0m\n\u001b[1;31mSyntaxError\u001b[0m\u001b[1;31m:\u001b[0m invalid syntax\n"
     ]
    }
   ],
   "source": [
    "word to vec"
   ]
  }
 ],
 "metadata": {
  "kernelspec": {
   "display_name": "Python 3",
   "language": "python",
   "name": "python3"
  },
  "language_info": {
   "codemirror_mode": {
    "name": "ipython",
    "version": 3
   },
   "file_extension": ".py",
   "mimetype": "text/x-python",
   "name": "python",
   "nbconvert_exporter": "python",
   "pygments_lexer": "ipython3",
   "version": "3.6.1"
  }
 },
 "nbformat": 4,
 "nbformat_minor": 2
}
