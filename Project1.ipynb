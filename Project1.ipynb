{
 "cells": [
  {
   "cell_type": "markdown",
   "metadata": {},
   "source": [
    "Git\n",
    "how to choose companies\n",
    "Time stamp\n",
    "Feature, Target\n",
    "\n",
    "words or sentence? -> libraries to calculate sentiment\n",
    "predictprob function\n",
    "lower - case"
   ]
  },
  {
   "cell_type": "code",
   "execution_count": 1,
   "metadata": {
    "collapsed": true
   },
   "outputs": [],
   "source": [
    "import string\n",
    "import pandas as pd\n",
    "import numpy as np\n",
    "import datetime \n",
    "from textblob import TextBlob\n",
    "from sklearn.linear_model import LogisticRegression\n",
    "from sklearn.model_selection import train_test_split, GridSearchCV\n",
    "from sklearn.metrics import confusion_matrix, classification_report, accuracy_score\n",
    "import matplotlib.pyplot as plt\n",
    "from collections import Counter\n",
    "from sklearn.feature_extraction.text import CountVectorizer\n",
    "from sklearn.svm import LinearSVC\n",
    "from wordcloud import WordCloud\n",
    "import seaborn as sns"
   ]
  },
  {
   "cell_type": "code",
   "execution_count": 2,
   "metadata": {
    "collapsed": true
   },
   "outputs": [],
   "source": [
    "#import the stock price data\n",
    "SP_df = pd.read_csv(\"WIKI_PRICES.csv\")"
   ]
  },
  {
   "cell_type": "code",
   "execution_count": 3,
   "metadata": {},
   "outputs": [
    {
     "data": {
      "text/html": [
       "<div>\n",
       "<style>\n",
       "    .dataframe thead tr:only-child th {\n",
       "        text-align: right;\n",
       "    }\n",
       "\n",
       "    .dataframe thead th {\n",
       "        text-align: left;\n",
       "    }\n",
       "\n",
       "    .dataframe tbody tr th {\n",
       "        vertical-align: top;\n",
       "    }\n",
       "</style>\n",
       "<table border=\"1\" class=\"dataframe\">\n",
       "  <thead>\n",
       "    <tr style=\"text-align: right;\">\n",
       "      <th></th>\n",
       "      <th>ticker</th>\n",
       "      <th>date</th>\n",
       "      <th>open</th>\n",
       "      <th>high</th>\n",
       "      <th>low</th>\n",
       "      <th>close</th>\n",
       "      <th>volume</th>\n",
       "      <th>ex-dividend</th>\n",
       "      <th>split_ratio</th>\n",
       "      <th>adj_open</th>\n",
       "      <th>adj_high</th>\n",
       "      <th>adj_low</th>\n",
       "      <th>adj_close</th>\n",
       "      <th>adj_volume</th>\n",
       "    </tr>\n",
       "  </thead>\n",
       "  <tbody>\n",
       "    <tr>\n",
       "      <th>0</th>\n",
       "      <td>A</td>\n",
       "      <td>1999-11-18</td>\n",
       "      <td>45.50</td>\n",
       "      <td>50.00</td>\n",
       "      <td>40.00</td>\n",
       "      <td>44.00</td>\n",
       "      <td>44739900.0</td>\n",
       "      <td>0.0</td>\n",
       "      <td>1.0</td>\n",
       "      <td>31.105117</td>\n",
       "      <td>34.181447</td>\n",
       "      <td>27.345157</td>\n",
       "      <td>30.079673</td>\n",
       "      <td>44739900.0</td>\n",
       "    </tr>\n",
       "    <tr>\n",
       "      <th>1</th>\n",
       "      <td>A</td>\n",
       "      <td>1999-11-19</td>\n",
       "      <td>42.94</td>\n",
       "      <td>43.00</td>\n",
       "      <td>39.81</td>\n",
       "      <td>40.38</td>\n",
       "      <td>10897100.0</td>\n",
       "      <td>0.0</td>\n",
       "      <td>1.0</td>\n",
       "      <td>29.355027</td>\n",
       "      <td>29.396044</td>\n",
       "      <td>27.215268</td>\n",
       "      <td>27.604936</td>\n",
       "      <td>10897100.0</td>\n",
       "    </tr>\n",
       "    <tr>\n",
       "      <th>2</th>\n",
       "      <td>A</td>\n",
       "      <td>1999-11-22</td>\n",
       "      <td>41.31</td>\n",
       "      <td>44.00</td>\n",
       "      <td>40.06</td>\n",
       "      <td>44.00</td>\n",
       "      <td>4705200.0</td>\n",
       "      <td>0.0</td>\n",
       "      <td>1.0</td>\n",
       "      <td>28.240711</td>\n",
       "      <td>30.079673</td>\n",
       "      <td>27.386175</td>\n",
       "      <td>30.079673</td>\n",
       "      <td>4705200.0</td>\n",
       "    </tr>\n",
       "    <tr>\n",
       "      <th>3</th>\n",
       "      <td>A</td>\n",
       "      <td>1999-11-23</td>\n",
       "      <td>42.50</td>\n",
       "      <td>43.63</td>\n",
       "      <td>40.25</td>\n",
       "      <td>40.25</td>\n",
       "      <td>4274400.0</td>\n",
       "      <td>0.0</td>\n",
       "      <td>1.0</td>\n",
       "      <td>29.054230</td>\n",
       "      <td>29.826730</td>\n",
       "      <td>27.516065</td>\n",
       "      <td>27.516065</td>\n",
       "      <td>4274400.0</td>\n",
       "    </tr>\n",
       "    <tr>\n",
       "      <th>4</th>\n",
       "      <td>A</td>\n",
       "      <td>1999-11-24</td>\n",
       "      <td>40.13</td>\n",
       "      <td>41.94</td>\n",
       "      <td>40.00</td>\n",
       "      <td>41.06</td>\n",
       "      <td>3464400.0</td>\n",
       "      <td>0.0</td>\n",
       "      <td>1.0</td>\n",
       "      <td>27.434029</td>\n",
       "      <td>28.671398</td>\n",
       "      <td>27.345157</td>\n",
       "      <td>28.069804</td>\n",
       "      <td>3464400.0</td>\n",
       "    </tr>\n",
       "  </tbody>\n",
       "</table>\n",
       "</div>"
      ],
      "text/plain": [
       "  ticker        date   open   high    low  close      volume  ex-dividend  \\\n",
       "0      A  1999-11-18  45.50  50.00  40.00  44.00  44739900.0          0.0   \n",
       "1      A  1999-11-19  42.94  43.00  39.81  40.38  10897100.0          0.0   \n",
       "2      A  1999-11-22  41.31  44.00  40.06  44.00   4705200.0          0.0   \n",
       "3      A  1999-11-23  42.50  43.63  40.25  40.25   4274400.0          0.0   \n",
       "4      A  1999-11-24  40.13  41.94  40.00  41.06   3464400.0          0.0   \n",
       "\n",
       "   split_ratio   adj_open   adj_high    adj_low  adj_close  adj_volume  \n",
       "0          1.0  31.105117  34.181447  27.345157  30.079673  44739900.0  \n",
       "1          1.0  29.355027  29.396044  27.215268  27.604936  10897100.0  \n",
       "2          1.0  28.240711  30.079673  27.386175  30.079673   4705200.0  \n",
       "3          1.0  29.054230  29.826730  27.516065  27.516065   4274400.0  \n",
       "4          1.0  27.434029  28.671398  27.345157  28.069804   3464400.0  "
      ]
     },
     "execution_count": 3,
     "metadata": {},
     "output_type": "execute_result"
    }
   ],
   "source": [
    "SP_df.head()"
   ]
  },
  {
   "cell_type": "code",
   "execution_count": 4,
   "metadata": {},
   "outputs": [
    {
     "data": {
      "text/plain": [
       "14935063"
      ]
     },
     "execution_count": 4,
     "metadata": {},
     "output_type": "execute_result"
    }
   ],
   "source": [
    "#check the number of data\n",
    "len(SP_df)"
   ]
  },
  {
   "cell_type": "code",
   "execution_count": 5,
   "metadata": {
    "collapsed": true
   },
   "outputs": [],
   "source": [
    "#import the news data\n",
    "NEWS_df = pd.read_csv(\"uci-news-aggregator.csv\")"
   ]
  },
  {
   "cell_type": "code",
   "execution_count": 6,
   "metadata": {},
   "outputs": [
    {
     "data": {
      "text/html": [
       "<div>\n",
       "<style>\n",
       "    .dataframe thead tr:only-child th {\n",
       "        text-align: right;\n",
       "    }\n",
       "\n",
       "    .dataframe thead th {\n",
       "        text-align: left;\n",
       "    }\n",
       "\n",
       "    .dataframe tbody tr th {\n",
       "        vertical-align: top;\n",
       "    }\n",
       "</style>\n",
       "<table border=\"1\" class=\"dataframe\">\n",
       "  <thead>\n",
       "    <tr style=\"text-align: right;\">\n",
       "      <th></th>\n",
       "      <th>ID</th>\n",
       "      <th>TITLE</th>\n",
       "      <th>URL</th>\n",
       "      <th>PUBLISHER</th>\n",
       "      <th>CATEGORY</th>\n",
       "      <th>STORY</th>\n",
       "      <th>HOSTNAME</th>\n",
       "      <th>TIMESTAMP</th>\n",
       "    </tr>\n",
       "  </thead>\n",
       "  <tbody>\n",
       "    <tr>\n",
       "      <th>0</th>\n",
       "      <td>1</td>\n",
       "      <td>Fed official says weak data caused by weather,...</td>\n",
       "      <td>http://www.latimes.com/business/money/la-fi-mo...</td>\n",
       "      <td>Los Angeles Times</td>\n",
       "      <td>b</td>\n",
       "      <td>ddUyU0VZz0BRneMioxUPQVP6sIxvM</td>\n",
       "      <td>www.latimes.com</td>\n",
       "      <td>1394470370698</td>\n",
       "    </tr>\n",
       "    <tr>\n",
       "      <th>1</th>\n",
       "      <td>2</td>\n",
       "      <td>Fed's Charles Plosser sees high bar for change...</td>\n",
       "      <td>http://www.livemint.com/Politics/H2EvwJSK2VE6O...</td>\n",
       "      <td>Livemint</td>\n",
       "      <td>b</td>\n",
       "      <td>ddUyU0VZz0BRneMioxUPQVP6sIxvM</td>\n",
       "      <td>www.livemint.com</td>\n",
       "      <td>1394470371207</td>\n",
       "    </tr>\n",
       "    <tr>\n",
       "      <th>2</th>\n",
       "      <td>3</td>\n",
       "      <td>US open: Stocks fall after Fed official hints ...</td>\n",
       "      <td>http://www.ifamagazine.com/news/us-open-stocks...</td>\n",
       "      <td>IFA Magazine</td>\n",
       "      <td>b</td>\n",
       "      <td>ddUyU0VZz0BRneMioxUPQVP6sIxvM</td>\n",
       "      <td>www.ifamagazine.com</td>\n",
       "      <td>1394470371550</td>\n",
       "    </tr>\n",
       "    <tr>\n",
       "      <th>3</th>\n",
       "      <td>4</td>\n",
       "      <td>Fed risks falling 'behind the curve', Charles ...</td>\n",
       "      <td>http://www.ifamagazine.com/news/fed-risks-fall...</td>\n",
       "      <td>IFA Magazine</td>\n",
       "      <td>b</td>\n",
       "      <td>ddUyU0VZz0BRneMioxUPQVP6sIxvM</td>\n",
       "      <td>www.ifamagazine.com</td>\n",
       "      <td>1394470371793</td>\n",
       "    </tr>\n",
       "    <tr>\n",
       "      <th>4</th>\n",
       "      <td>5</td>\n",
       "      <td>Fed's Plosser: Nasty Weather Has Curbed Job Gr...</td>\n",
       "      <td>http://www.moneynews.com/Economy/federal-reser...</td>\n",
       "      <td>Moneynews</td>\n",
       "      <td>b</td>\n",
       "      <td>ddUyU0VZz0BRneMioxUPQVP6sIxvM</td>\n",
       "      <td>www.moneynews.com</td>\n",
       "      <td>1394470372027</td>\n",
       "    </tr>\n",
       "  </tbody>\n",
       "</table>\n",
       "</div>"
      ],
      "text/plain": [
       "   ID                                              TITLE  \\\n",
       "0   1  Fed official says weak data caused by weather,...   \n",
       "1   2  Fed's Charles Plosser sees high bar for change...   \n",
       "2   3  US open: Stocks fall after Fed official hints ...   \n",
       "3   4  Fed risks falling 'behind the curve', Charles ...   \n",
       "4   5  Fed's Plosser: Nasty Weather Has Curbed Job Gr...   \n",
       "\n",
       "                                                 URL          PUBLISHER  \\\n",
       "0  http://www.latimes.com/business/money/la-fi-mo...  Los Angeles Times   \n",
       "1  http://www.livemint.com/Politics/H2EvwJSK2VE6O...           Livemint   \n",
       "2  http://www.ifamagazine.com/news/us-open-stocks...       IFA Magazine   \n",
       "3  http://www.ifamagazine.com/news/fed-risks-fall...       IFA Magazine   \n",
       "4  http://www.moneynews.com/Economy/federal-reser...          Moneynews   \n",
       "\n",
       "  CATEGORY                          STORY             HOSTNAME      TIMESTAMP  \n",
       "0        b  ddUyU0VZz0BRneMioxUPQVP6sIxvM      www.latimes.com  1394470370698  \n",
       "1        b  ddUyU0VZz0BRneMioxUPQVP6sIxvM     www.livemint.com  1394470371207  \n",
       "2        b  ddUyU0VZz0BRneMioxUPQVP6sIxvM  www.ifamagazine.com  1394470371550  \n",
       "3        b  ddUyU0VZz0BRneMioxUPQVP6sIxvM  www.ifamagazine.com  1394470371793  \n",
       "4        b  ddUyU0VZz0BRneMioxUPQVP6sIxvM    www.moneynews.com  1394470372027  "
      ]
     },
     "execution_count": 6,
     "metadata": {},
     "output_type": "execute_result"
    }
   ],
   "source": [
    "NEWS_df = NEWS_df[NEWS_df['CATEGORY']=='b']\n",
    "NEWS_df.head()"
   ]
  },
  {
   "cell_type": "code",
   "execution_count": 7,
   "metadata": {},
   "outputs": [
    {
     "name": "stdout",
     "output_type": "stream",
     "text": [
      "1394470370698\n",
      "1409200543846\n"
     ]
    }
   ],
   "source": [
    "print(NEWS_df['TIMESTAMP'].min())\n",
    "print(NEWS_df['TIMESTAMP'].max())"
   ]
  },
  {
   "cell_type": "code",
   "execution_count": 8,
   "metadata": {},
   "outputs": [
    {
     "data": {
      "text/plain": [
       "115967"
      ]
     },
     "execution_count": 8,
     "metadata": {},
     "output_type": "execute_result"
    }
   ],
   "source": [
    "#check the number of data\n",
    "len(NEWS_df)"
   ]
  },
  {
   "cell_type": "code",
   "execution_count": 9,
   "metadata": {
    "collapsed": true
   },
   "outputs": [],
   "source": [
    "new_ticker1_df = pd.read_csv(\"companylist.csv\")\n",
    "new_ticker2_df = pd.read_csv(\"companylistNYSE.csv\")\n",
    "new_ticker_df = pd.concat([new_ticker1_df, new_ticker2_df])"
   ]
  },
  {
   "cell_type": "code",
   "execution_count": 10,
   "metadata": {},
   "outputs": [
    {
     "data": {
      "text/html": [
       "<div>\n",
       "<style>\n",
       "    .dataframe thead tr:only-child th {\n",
       "        text-align: right;\n",
       "    }\n",
       "\n",
       "    .dataframe thead th {\n",
       "        text-align: left;\n",
       "    }\n",
       "\n",
       "    .dataframe tbody tr th {\n",
       "        vertical-align: top;\n",
       "    }\n",
       "</style>\n",
       "<table border=\"1\" class=\"dataframe\">\n",
       "  <thead>\n",
       "    <tr style=\"text-align: right;\">\n",
       "      <th></th>\n",
       "      <th>Symbol</th>\n",
       "      <th>Name</th>\n",
       "      <th>LastSale</th>\n",
       "      <th>MarketCap</th>\n",
       "      <th>ADR TSO</th>\n",
       "      <th>IPOyear</th>\n",
       "      <th>Sector</th>\n",
       "      <th>Industry</th>\n",
       "      <th>Summary Quote</th>\n",
       "      <th>Unnamed: 9</th>\n",
       "    </tr>\n",
       "  </thead>\n",
       "  <tbody>\n",
       "    <tr>\n",
       "      <th>0</th>\n",
       "      <td>PIH</td>\n",
       "      <td>1347 Property Insurance Holdings, Inc.</td>\n",
       "      <td>7.825</td>\n",
       "      <td>4.661169e+07</td>\n",
       "      <td>n/a</td>\n",
       "      <td>2014</td>\n",
       "      <td>Finance</td>\n",
       "      <td>Property-Casualty Insurers</td>\n",
       "      <td>http://www.nasdaq.com/symbol/pih</td>\n",
       "      <td>NaN</td>\n",
       "    </tr>\n",
       "    <tr>\n",
       "      <th>1</th>\n",
       "      <td>TURN</td>\n",
       "      <td>180 Degree Capital Corp.</td>\n",
       "      <td>1.6</td>\n",
       "      <td>4.979450e+07</td>\n",
       "      <td>n/a</td>\n",
       "      <td>n/a</td>\n",
       "      <td>Finance</td>\n",
       "      <td>Finance/Investors Services</td>\n",
       "      <td>http://www.nasdaq.com/symbol/turn</td>\n",
       "      <td>NaN</td>\n",
       "    </tr>\n",
       "    <tr>\n",
       "      <th>2</th>\n",
       "      <td>FLWS</td>\n",
       "      <td>1-800 FLOWERS.COM, Inc.</td>\n",
       "      <td>9.65</td>\n",
       "      <td>6.304837e+08</td>\n",
       "      <td>n/a</td>\n",
       "      <td>1999</td>\n",
       "      <td>Consumer Services</td>\n",
       "      <td>Other Specialty Stores</td>\n",
       "      <td>http://www.nasdaq.com/symbol/flws</td>\n",
       "      <td>NaN</td>\n",
       "    </tr>\n",
       "    <tr>\n",
       "      <th>3</th>\n",
       "      <td>FCCY</td>\n",
       "      <td>1st Constitution Bancorp (NJ)</td>\n",
       "      <td>17.25</td>\n",
       "      <td>1.384716e+08</td>\n",
       "      <td>n/a</td>\n",
       "      <td>n/a</td>\n",
       "      <td>Finance</td>\n",
       "      <td>Savings Institutions</td>\n",
       "      <td>http://www.nasdaq.com/symbol/fccy</td>\n",
       "      <td>NaN</td>\n",
       "    </tr>\n",
       "    <tr>\n",
       "      <th>4</th>\n",
       "      <td>SRCE</td>\n",
       "      <td>1st Source Corporation</td>\n",
       "      <td>48.67</td>\n",
       "      <td>1.261704e+09</td>\n",
       "      <td>n/a</td>\n",
       "      <td>n/a</td>\n",
       "      <td>Finance</td>\n",
       "      <td>Major Banks</td>\n",
       "      <td>http://www.nasdaq.com/symbol/srce</td>\n",
       "      <td>NaN</td>\n",
       "    </tr>\n",
       "  </tbody>\n",
       "</table>\n",
       "</div>"
      ],
      "text/plain": [
       "  Symbol                                    Name LastSale     MarketCap  \\\n",
       "0    PIH  1347 Property Insurance Holdings, Inc.    7.825  4.661169e+07   \n",
       "1   TURN                180 Degree Capital Corp.      1.6  4.979450e+07   \n",
       "2   FLWS                 1-800 FLOWERS.COM, Inc.     9.65  6.304837e+08   \n",
       "3   FCCY           1st Constitution Bancorp (NJ)    17.25  1.384716e+08   \n",
       "4   SRCE                  1st Source Corporation    48.67  1.261704e+09   \n",
       "\n",
       "  ADR TSO IPOyear             Sector                    Industry  \\\n",
       "0     n/a    2014            Finance  Property-Casualty Insurers   \n",
       "1     n/a     n/a            Finance  Finance/Investors Services   \n",
       "2     n/a    1999  Consumer Services      Other Specialty Stores   \n",
       "3     n/a     n/a            Finance        Savings Institutions   \n",
       "4     n/a     n/a            Finance                 Major Banks   \n",
       "\n",
       "                       Summary Quote  Unnamed: 9  \n",
       "0   http://www.nasdaq.com/symbol/pih         NaN  \n",
       "1  http://www.nasdaq.com/symbol/turn         NaN  \n",
       "2  http://www.nasdaq.com/symbol/flws         NaN  \n",
       "3  http://www.nasdaq.com/symbol/fccy         NaN  \n",
       "4  http://www.nasdaq.com/symbol/srce         NaN  "
      ]
     },
     "execution_count": 10,
     "metadata": {},
     "output_type": "execute_result"
    }
   ],
   "source": [
    "new_ticker_df.head()"
   ]
  },
  {
   "cell_type": "code",
   "execution_count": 42,
   "metadata": {},
   "outputs": [],
   "source": [
    "# create a dictionary which includes the companis' name and ticker\n",
    "companies = {}\n",
    "for ind, row in new_ticker_df.iterrows():\n",
    "    if (len(row['Name']) > 1) & (len(row['Symbol']) > 1): \n",
    "        companies[row['Name']] = row['Symbol']"
   ]
  },
  {
   "cell_type": "code",
   "execution_count": 44,
   "metadata": {
    "collapsed": true
   },
   "outputs": [],
   "source": [
    "remove_list = ['inc', 'plc', 'ltd', 'corporation', 'corp', 'incorporated', 'limited']\n",
    "translator = str.maketrans('', '', string.punctuation)\n",
    "filtered_companies = {}\n",
    "for name, ticker in companies.items():\n",
    "    lowercase_name = name.lower()\n",
    "    lowercase_name = lowercase_name.translate(translator)\n",
    "    for word in remove_list:\n",
    "        lowercase_name = lowercase_name.replace(word, \"\")\n",
    "        \n",
    "    lowercase_name = lowercase_name.rstrip()\n",
    "    filtered_companies[lowercase_name] = ticker"
   ]
  },
  {
   "cell_type": "code",
   "execution_count": 45,
   "metadata": {
    "collapsed": true
   },
   "outputs": [],
   "source": [
    "# companies = {\"3M\": \"MMM\",\n",
    "#              \"American Express\":\"AXP\",\n",
    "#              \"Apple\":\"AAPL\",\n",
    "#              \"Boeing\":\"BA\",\n",
    "#              \"Caterpillar\":\"CAT\",\n",
    "#              \"Chevron\":\"CVX\",\n",
    "#              \"Cisco Systems\":\"CSCO\",\n",
    "#              \"Coca-Cola\":\"KO\",\n",
    "#              \"DuPont\":\"DD\",\n",
    "#              \"ExxonMobil\":\"XOM\",\n",
    "#              \"General Electric\":\"GE\",\n",
    "#              \"Goldman Sachs\":\"GS\",\n",
    "#              \"Home Depot\":\"HD\",\n",
    "#              \"IBM\":\"IBM\",\n",
    "#              \"Intel\":\"INTC\",\n",
    "#              \"Johnson & Johnson\":\"JNJ\",\n",
    "#              \"JPMorgan Chase\":\"JPM\",\n",
    "#              \"McDonald's\":\"MCD\",\n",
    "#              \"Merck\":\"MRK\",\n",
    "#              \"Microsoft\":\"MSFT\",\n",
    "#              \"Nike\":\"NKE\",\n",
    "#              \"Pfizer\":\"PFE\",\n",
    "#              \"Procter & Gamble\":\"PG\",\n",
    "#              \"Travelers\":\"TRV\",\n",
    "#              \"UnitedHealth Group\":\"UNH\",\n",
    "#              \"United Technologies\":\"UTX\",\n",
    "#              \"Verizon\":\"VZ\",\n",
    "#              \"Visa\":\"V\",\n",
    "#              \"Walmart\":\"WMT\",\n",
    "#              \"Walt Disney\":\"DIS\"\n",
    "# }"
   ]
  },
  {
   "cell_type": "code",
   "execution_count": 46,
   "metadata": {
    "collapsed": true
   },
   "outputs": [],
   "source": [
    "#try to check whether there is enough data for above companies\n",
    "\n",
    "# def count_news(companies):\n",
    "#     total = 0\n",
    "#     news_count = {}\n",
    "#     for key, item in companies.items():\n",
    "#         num =  len(NEWS_df[NEWS_df['TITLE'].str.contains(key, na=False)])\n",
    "#         total += num\n",
    "#         news_count[key] = num\n",
    "    \n",
    "#     return total, news_count\n",
    "\n",
    "# total, news_count = count_news(companies)\n",
    "# print(total)\n",
    "# print(news_count)"
   ]
  },
  {
   "cell_type": "code",
   "execution_count": 47,
   "metadata": {
    "collapsed": true
   },
   "outputs": [],
   "source": [
    "#try to check whether there is corresponding stock price data for above companies\n",
    "\n",
    "# for key, item in companies.items():\n",
    "#     if item in SP_df['ticker'].values:\n",
    "#         continue\n",
    "#     else:\n",
    "#         print('Following company doesn\\'nt exist: {}'.format(item))"
   ]
  },
  {
   "cell_type": "code",
   "execution_count": 48,
   "metadata": {
    "collapsed": true
   },
   "outputs": [],
   "source": [
    "#delete the companies with the small number of news in NEWS_df\n",
    "\n",
    "# for key, item in news_count.items():\n",
    "#     if news_count[key] < 100:\n",
    "#         companies.pop(key)\n",
    "\n",
    "# total_v2, news_count_v2 = count_news(companies)\n",
    "# print(total_v2)\n",
    "# print(news_count_v2)"
   ]
  },
  {
   "cell_type": "code",
   "execution_count": 49,
   "metadata": {
    "collapsed": true
   },
   "outputs": [],
   "source": [
    "#drop the unnecessary column of NEWS_df\n",
    "\n",
    "# NEWS_df = NEWS_df.drop([\"STORY\",\"HOSTNAME\"], axis=1)\n",
    "# NEWS_df.columns"
   ]
  },
  {
   "cell_type": "code",
   "execution_count": 50,
   "metadata": {
    "collapsed": true
   },
   "outputs": [],
   "source": [
    "#convert timestamp to date\n",
    "NEWS_df['TIMESTAMP'] = pd.to_datetime(NEWS_df['TIMESTAMP'], unit='ms')"
   ]
  },
  {
   "cell_type": "code",
   "execution_count": 51,
   "metadata": {
    "collapsed": true
   },
   "outputs": [],
   "source": [
    "#Create a function that determine whether the news title includes any company\n",
    "\n",
    "def company_in_news(paragraph, companies):\n",
    "    \"\"\"\n",
    "    input; paragraph: string, companies: dictionary\n",
    "    output; boolean\n",
    "    \"\"\"\n",
    "    #words = paragraph.split()\n",
    "    is_inNews = False\n",
    "    for name, ticker in companies.items():\n",
    "        if ' ' + name + ' ' in paragraph or ' ' + ticker + ' ' in paragraph:\n",
    "            return ticker\n",
    "    \n",
    "    return np.nan"
   ]
  },
  {
   "cell_type": "code",
   "execution_count": 52,
   "metadata": {
    "collapsed": true
   },
   "outputs": [],
   "source": [
    "# create a new column that have a ticker corresponding each news\n",
    "NEWS_df['ticker'] = NEWS_df['TITLE'].apply(company_in_news, args=(filtered_companies,))\n",
    "NEWS_companies_df = NEWS_df.dropna(how='any')"
   ]
  },
  {
   "cell_type": "code",
   "execution_count": 53,
   "metadata": {},
   "outputs": [
    {
     "data": {
      "text/html": [
       "<div>\n",
       "<style>\n",
       "    .dataframe thead tr:only-child th {\n",
       "        text-align: right;\n",
       "    }\n",
       "\n",
       "    .dataframe thead th {\n",
       "        text-align: left;\n",
       "    }\n",
       "\n",
       "    .dataframe tbody tr th {\n",
       "        vertical-align: top;\n",
       "    }\n",
       "</style>\n",
       "<table border=\"1\" class=\"dataframe\">\n",
       "  <thead>\n",
       "    <tr style=\"text-align: right;\">\n",
       "      <th></th>\n",
       "      <th>ID</th>\n",
       "      <th>TITLE</th>\n",
       "      <th>URL</th>\n",
       "      <th>PUBLISHER</th>\n",
       "      <th>CATEGORY</th>\n",
       "      <th>STORY</th>\n",
       "      <th>HOSTNAME</th>\n",
       "      <th>TIMESTAMP</th>\n",
       "      <th>ticker</th>\n",
       "    </tr>\n",
       "  </thead>\n",
       "  <tbody>\n",
       "    <tr>\n",
       "      <th>0</th>\n",
       "      <td>1</td>\n",
       "      <td>Fed official says weak data caused by weather,...</td>\n",
       "      <td>http://www.latimes.com/business/money/la-fi-mo...</td>\n",
       "      <td>Los Angeles Times</td>\n",
       "      <td>b</td>\n",
       "      <td>ddUyU0VZz0BRneMioxUPQVP6sIxvM</td>\n",
       "      <td>www.latimes.com</td>\n",
       "      <td>2014-03-10 16:52:50.698</td>\n",
       "      <td>NaN</td>\n",
       "    </tr>\n",
       "    <tr>\n",
       "      <th>1</th>\n",
       "      <td>2</td>\n",
       "      <td>Fed's Charles Plosser sees high bar for change...</td>\n",
       "      <td>http://www.livemint.com/Politics/H2EvwJSK2VE6O...</td>\n",
       "      <td>Livemint</td>\n",
       "      <td>b</td>\n",
       "      <td>ddUyU0VZz0BRneMioxUPQVP6sIxvM</td>\n",
       "      <td>www.livemint.com</td>\n",
       "      <td>2014-03-10 16:52:51.207</td>\n",
       "      <td>NaN</td>\n",
       "    </tr>\n",
       "    <tr>\n",
       "      <th>2</th>\n",
       "      <td>3</td>\n",
       "      <td>US open: Stocks fall after Fed official hints ...</td>\n",
       "      <td>http://www.ifamagazine.com/news/us-open-stocks...</td>\n",
       "      <td>IFA Magazine</td>\n",
       "      <td>b</td>\n",
       "      <td>ddUyU0VZz0BRneMioxUPQVP6sIxvM</td>\n",
       "      <td>www.ifamagazine.com</td>\n",
       "      <td>2014-03-10 16:52:51.550</td>\n",
       "      <td>NaN</td>\n",
       "    </tr>\n",
       "    <tr>\n",
       "      <th>3</th>\n",
       "      <td>4</td>\n",
       "      <td>Fed risks falling 'behind the curve', Charles ...</td>\n",
       "      <td>http://www.ifamagazine.com/news/fed-risks-fall...</td>\n",
       "      <td>IFA Magazine</td>\n",
       "      <td>b</td>\n",
       "      <td>ddUyU0VZz0BRneMioxUPQVP6sIxvM</td>\n",
       "      <td>www.ifamagazine.com</td>\n",
       "      <td>2014-03-10 16:52:51.793</td>\n",
       "      <td>NaN</td>\n",
       "    </tr>\n",
       "    <tr>\n",
       "      <th>4</th>\n",
       "      <td>5</td>\n",
       "      <td>Fed's Plosser: Nasty Weather Has Curbed Job Gr...</td>\n",
       "      <td>http://www.moneynews.com/Economy/federal-reser...</td>\n",
       "      <td>Moneynews</td>\n",
       "      <td>b</td>\n",
       "      <td>ddUyU0VZz0BRneMioxUPQVP6sIxvM</td>\n",
       "      <td>www.moneynews.com</td>\n",
       "      <td>2014-03-10 16:52:52.027</td>\n",
       "      <td>NaN</td>\n",
       "    </tr>\n",
       "  </tbody>\n",
       "</table>\n",
       "</div>"
      ],
      "text/plain": [
       "   ID                                              TITLE  \\\n",
       "0   1  Fed official says weak data caused by weather,...   \n",
       "1   2  Fed's Charles Plosser sees high bar for change...   \n",
       "2   3  US open: Stocks fall after Fed official hints ...   \n",
       "3   4  Fed risks falling 'behind the curve', Charles ...   \n",
       "4   5  Fed's Plosser: Nasty Weather Has Curbed Job Gr...   \n",
       "\n",
       "                                                 URL          PUBLISHER  \\\n",
       "0  http://www.latimes.com/business/money/la-fi-mo...  Los Angeles Times   \n",
       "1  http://www.livemint.com/Politics/H2EvwJSK2VE6O...           Livemint   \n",
       "2  http://www.ifamagazine.com/news/us-open-stocks...       IFA Magazine   \n",
       "3  http://www.ifamagazine.com/news/fed-risks-fall...       IFA Magazine   \n",
       "4  http://www.moneynews.com/Economy/federal-reser...          Moneynews   \n",
       "\n",
       "  CATEGORY                          STORY             HOSTNAME  \\\n",
       "0        b  ddUyU0VZz0BRneMioxUPQVP6sIxvM      www.latimes.com   \n",
       "1        b  ddUyU0VZz0BRneMioxUPQVP6sIxvM     www.livemint.com   \n",
       "2        b  ddUyU0VZz0BRneMioxUPQVP6sIxvM  www.ifamagazine.com   \n",
       "3        b  ddUyU0VZz0BRneMioxUPQVP6sIxvM  www.ifamagazine.com   \n",
       "4        b  ddUyU0VZz0BRneMioxUPQVP6sIxvM    www.moneynews.com   \n",
       "\n",
       "                TIMESTAMP ticker  \n",
       "0 2014-03-10 16:52:50.698    NaN  \n",
       "1 2014-03-10 16:52:51.207    NaN  \n",
       "2 2014-03-10 16:52:51.550    NaN  \n",
       "3 2014-03-10 16:52:51.793    NaN  \n",
       "4 2014-03-10 16:52:52.027    NaN  "
      ]
     },
     "execution_count": 53,
     "metadata": {},
     "output_type": "execute_result"
    }
   ],
   "source": [
    "NEWS_df.head()"
   ]
  },
  {
   "cell_type": "markdown",
   "metadata": {},
   "source": [
    "memo for myself  \n",
    "__number difference with str.contain()__  \n",
    "len(NEWS_companies_df)"
   ]
  },
  {
   "cell_type": "code",
   "execution_count": 54,
   "metadata": {
    "collapsed": true
   },
   "outputs": [],
   "source": [
    "#create the new dataframe which consists of relevant news only\n",
    "\n",
    "# NEWS_companies_df = NEWS_df[NEWS_df['TITLE'].apply(company_in_news, args=(filtered_companies,)) == True]"
   ]
  },
  {
   "cell_type": "code",
   "execution_count": 55,
   "metadata": {
    "collapsed": true
   },
   "outputs": [],
   "source": [
    "#create a function which give the label of the company's ticker to the news\n",
    "\n",
    "# def label_news(paragraph, companies):\n",
    "#     \"\"\"\n",
    "#     input; paragraph: string, companies: dictionary\n",
    "#     output; name: company's ticker\n",
    "#     \"\"\"\n",
    "#     words = paragraph.split()\n",
    "#     for i in range(len(words)):\n",
    "#         if words[i] in companies.keys():\n",
    "#             return companies[words[i]]\n",
    "    \n",
    "#     return 'NaN'\n",
    "\n"
   ]
  },
  {
   "cell_type": "code",
   "execution_count": 56,
   "metadata": {},
   "outputs": [],
   "source": [
    "#remove company's name in news title\n",
    "\n",
    "def remove_names(paragraph, companies):\n",
    "    \"\"\"\n",
    "    input; paragraph: string, companies: dictionary\n",
    "    output; name: company's ticker\n",
    "    \"\"\"\n",
    "    words = paragraph.split()\n",
    "    for i in range(len(words)):\n",
    "        if words[i] in companies.keys() or words[i] in companies.items():\n",
    "            return paragraph.replace(words[i], \"\")\n",
    "    \n",
    "    return paragraph\n",
    "\n",
    "#NEWS_companies_df['TITLE'] = NEWS_companies_df['TITLE'].apply(remove_names, args=(filtered_companies,))"
   ]
  },
  {
   "cell_type": "markdown",
   "metadata": {},
   "source": [
    "memo for myself  \n",
    "__could be together with company_in_news__  \n",
    "__got a warning__"
   ]
  },
  {
   "cell_type": "code",
   "execution_count": 57,
   "metadata": {
    "collapsed": true
   },
   "outputs": [],
   "source": [
    "# create a list that store the dates in order\n",
    "date_set = set(SP_df['date'])\n",
    "date_list = list(date_set)\n",
    "date_list.sort()\n",
    "\n",
    "# create a list that gives the adj_close corresponding date and ticker\n",
    "combi = {}\n",
    "for date, ticker, close in zip(SP_df['date'], SP_df['ticker'], SP_df['adj_close']):\n",
    "    combi[(date, ticker)] = close"
   ]
  },
  {
   "cell_type": "code",
   "execution_count": 58,
   "metadata": {
    "collapsed": true
   },
   "outputs": [],
   "source": [
    "#create a function that takes the corresponding the stock price move\n",
    "#this function runs very slow. next cell might take more than 10 mins to run\n",
    "def get_move(row):\n",
    "    \n",
    "    \"\"\"\n",
    "    input; row: entire row, SP_df: DataFrame of stock price\n",
    "    output; boolean\n",
    "    \"\"\"    \n",
    "    \n",
    "    date_tmp = row['TIMESTAMP']\n",
    "    \n",
    "    #check the hour of the news, and then if it's after 17, make the date next day.\n",
    "    if date_tmp.hour >= 17:\n",
    "        date = date_tmp + datetime.timedelta(days=1)\n",
    "    else:\n",
    "        date = date_tmp\n",
    "    date1 = datetime.datetime.strftime(date, \"%Y-%m-%d\")\n",
    "\n",
    "    \n",
    "    #get the date0\n",
    "    try:\n",
    "        ind = date_list.index(date1)\n",
    "    except ValueError:\n",
    "        return np.nan\n",
    "    date0 = date_list[ind-1]\n",
    "    \n",
    "\n",
    "#     day0_price = SP_df.loc[(SP_df['date'] == date0) & (SP_df['ticker'] == row['ticker']), 'adj_close']\n",
    "#     day1_price = SP_df.loc[(SP_df['date'] == date1) & (SP_df['ticker'] == row['ticker']), 'adj_close']\n",
    "\n",
    "    try:\n",
    "        day0_price = combi[(date0, row['ticker'])]\n",
    "        day1_price = combi[(date1, row['ticker'])]\n",
    "    except KeyError:\n",
    "        return np.nan\n",
    "    \n",
    "    #return True if the stock price went up by more than 10%\n",
    "    if ((day1_price - day0_price)/day0_price) > 0.000:\n",
    "        return True\n",
    "    elif ((day1_price - day0_price)/day0_price) <= 0.000:\n",
    "        return False\n",
    "    else:\n",
    "        return np.nan\n",
    "    \n"
   ]
  },
  {
   "cell_type": "code",
   "execution_count": 59,
   "metadata": {},
   "outputs": [
    {
     "data": {
      "text/html": [
       "<div>\n",
       "<style>\n",
       "    .dataframe thead tr:only-child th {\n",
       "        text-align: right;\n",
       "    }\n",
       "\n",
       "    .dataframe thead th {\n",
       "        text-align: left;\n",
       "    }\n",
       "\n",
       "    .dataframe tbody tr th {\n",
       "        vertical-align: top;\n",
       "    }\n",
       "</style>\n",
       "<table border=\"1\" class=\"dataframe\">\n",
       "  <thead>\n",
       "    <tr style=\"text-align: right;\">\n",
       "      <th></th>\n",
       "      <th>ID</th>\n",
       "      <th>TITLE</th>\n",
       "      <th>URL</th>\n",
       "      <th>PUBLISHER</th>\n",
       "      <th>CATEGORY</th>\n",
       "      <th>STORY</th>\n",
       "      <th>HOSTNAME</th>\n",
       "      <th>TIMESTAMP</th>\n",
       "      <th>ticker</th>\n",
       "    </tr>\n",
       "  </thead>\n",
       "  <tbody>\n",
       "    <tr>\n",
       "      <th>9</th>\n",
       "      <td>10</td>\n",
       "      <td>ECB unlikely to end sterilisation of SMP purch...</td>\n",
       "      <td>http://www.iii.co.uk/news-opinion/reuters/news...</td>\n",
       "      <td>Interactive Investor</td>\n",
       "      <td>b</td>\n",
       "      <td>dPhGU51DcrolUIMxbRm0InaHGA2XM</td>\n",
       "      <td>www.iii.co.uk</td>\n",
       "      <td>2014-03-10 16:55:01.265</td>\n",
       "      <td>SMP</td>\n",
       "    </tr>\n",
       "    <tr>\n",
       "      <th>10</th>\n",
       "      <td>11</td>\n",
       "      <td>ECB unlikely to end sterilization of SMP purch...</td>\n",
       "      <td>http://in.reuters.com/article/2014/03/10/us-ec...</td>\n",
       "      <td>Reuters India</td>\n",
       "      <td>b</td>\n",
       "      <td>dPhGU51DcrolUIMxbRm0InaHGA2XM</td>\n",
       "      <td>in.reuters.com</td>\n",
       "      <td>2014-03-10 16:55:01.410</td>\n",
       "      <td>SMP</td>\n",
       "    </tr>\n",
       "    <tr>\n",
       "      <th>22</th>\n",
       "      <td>23</td>\n",
       "      <td>Bad loan triggers key feature in ECB bank test...</td>\n",
       "      <td>http://www.globalpost.com/dispatch/news/thomso...</td>\n",
       "      <td>GlobalPost</td>\n",
       "      <td>b</td>\n",
       "      <td>dPhGU51DcrolUIMxbRm0InaHGA2XM</td>\n",
       "      <td>www.globalpost.com</td>\n",
       "      <td>2014-03-10 16:55:03.726</td>\n",
       "      <td>KEY^I</td>\n",
       "    </tr>\n",
       "    <tr>\n",
       "      <th>29</th>\n",
       "      <td>30</td>\n",
       "      <td>REFILE-Bad loan triggers key feature in ECB ba...</td>\n",
       "      <td>http://in.reuters.com/article/2014/03/10/euroz...</td>\n",
       "      <td>Reuters</td>\n",
       "      <td>b</td>\n",
       "      <td>dPhGU51DcrolUIMxbRm0InaHGA2XM</td>\n",
       "      <td>in.reuters.com</td>\n",
       "      <td>2014-03-10 16:55:05.070</td>\n",
       "      <td>KEY^I</td>\n",
       "    </tr>\n",
       "    <tr>\n",
       "      <th>61</th>\n",
       "      <td>62</td>\n",
       "      <td>EBay Asks Shareholders To Vote Against PayPal ...</td>\n",
       "      <td>http://techcrunch.com/2014/03/10/ebay-asks-sha...</td>\n",
       "      <td>TechCrunch</td>\n",
       "      <td>b</td>\n",
       "      <td>dxyGGb4iN9Cs9aMZTKQpJeoiQfruM</td>\n",
       "      <td>techcrunch.com</td>\n",
       "      <td>2014-03-10 17:02:02.918</td>\n",
       "      <td>CEO</td>\n",
       "    </tr>\n",
       "  </tbody>\n",
       "</table>\n",
       "</div>"
      ],
      "text/plain": [
       "    ID                                              TITLE  \\\n",
       "9   10  ECB unlikely to end sterilisation of SMP purch...   \n",
       "10  11  ECB unlikely to end sterilization of SMP purch...   \n",
       "22  23  Bad loan triggers key feature in ECB bank test...   \n",
       "29  30  REFILE-Bad loan triggers key feature in ECB ba...   \n",
       "61  62  EBay Asks Shareholders To Vote Against PayPal ...   \n",
       "\n",
       "                                                  URL             PUBLISHER  \\\n",
       "9   http://www.iii.co.uk/news-opinion/reuters/news...  Interactive Investor   \n",
       "10  http://in.reuters.com/article/2014/03/10/us-ec...         Reuters India   \n",
       "22  http://www.globalpost.com/dispatch/news/thomso...            GlobalPost   \n",
       "29  http://in.reuters.com/article/2014/03/10/euroz...               Reuters   \n",
       "61  http://techcrunch.com/2014/03/10/ebay-asks-sha...            TechCrunch   \n",
       "\n",
       "   CATEGORY                          STORY            HOSTNAME  \\\n",
       "9         b  dPhGU51DcrolUIMxbRm0InaHGA2XM       www.iii.co.uk   \n",
       "10        b  dPhGU51DcrolUIMxbRm0InaHGA2XM      in.reuters.com   \n",
       "22        b  dPhGU51DcrolUIMxbRm0InaHGA2XM  www.globalpost.com   \n",
       "29        b  dPhGU51DcrolUIMxbRm0InaHGA2XM      in.reuters.com   \n",
       "61        b  dxyGGb4iN9Cs9aMZTKQpJeoiQfruM      techcrunch.com   \n",
       "\n",
       "                 TIMESTAMP ticker  \n",
       "9  2014-03-10 16:55:01.265    SMP  \n",
       "10 2014-03-10 16:55:01.410    SMP  \n",
       "22 2014-03-10 16:55:03.726  KEY^I  \n",
       "29 2014-03-10 16:55:05.070  KEY^I  \n",
       "61 2014-03-10 17:02:02.918    CEO  "
      ]
     },
     "execution_count": 59,
     "metadata": {},
     "output_type": "execute_result"
    }
   ],
   "source": [
    "NEWS_companies_df.head()"
   ]
  },
  {
   "cell_type": "code",
   "execution_count": 61,
   "metadata": {},
   "outputs": [
    {
     "name": "stderr",
     "output_type": "stream",
     "text": [
      "C:\\Users\\the_b\\Anaconda3\\lib\\site-packages\\ipykernel_launcher.py:1: SettingWithCopyWarning: \n",
      "A value is trying to be set on a copy of a slice from a DataFrame.\n",
      "Try using .loc[row_indexer,col_indexer] = value instead\n",
      "\n",
      "See the caveats in the documentation: http://pandas.pydata.org/pandas-docs/stable/indexing.html#indexing-view-versus-copy\n",
      "  \"\"\"Entry point for launching an IPython kernel.\n"
     ]
    }
   ],
   "source": [
    "NEWS_companies_df['IsUp'] = NEWS_companies_df.apply(get_move, axis = 1)"
   ]
  },
  {
   "cell_type": "code",
   "execution_count": 96,
   "metadata": {},
   "outputs": [
    {
     "name": "stdout",
     "output_type": "stream",
     "text": [
      "New EU sanctions  Russia army, intelligence chiefs\n"
     ]
    },
    {
     "data": {
      "text/plain": [
       "['Target Corporation']"
      ]
     },
     "execution_count": 96,
     "metadata": {},
     "output_type": "execute_result"
    }
   ],
   "source": [
    "print(NEWS_companies_df['TITLE'][165868])\n",
    "[k for (k, v) in companies.items() if v == 'TGT']"
   ]
  },
  {
   "cell_type": "code",
   "execution_count": 93,
   "metadata": {},
   "outputs": [
    {
     "data": {
      "text/html": [
       "<div>\n",
       "<style>\n",
       "    .dataframe thead tr:only-child th {\n",
       "        text-align: right;\n",
       "    }\n",
       "\n",
       "    .dataframe thead th {\n",
       "        text-align: left;\n",
       "    }\n",
       "\n",
       "    .dataframe tbody tr th {\n",
       "        vertical-align: top;\n",
       "    }\n",
       "</style>\n",
       "<table border=\"1\" class=\"dataframe\">\n",
       "  <thead>\n",
       "    <tr style=\"text-align: right;\">\n",
       "      <th></th>\n",
       "      <th>ID</th>\n",
       "      <th>TITLE</th>\n",
       "      <th>URL</th>\n",
       "      <th>PUBLISHER</th>\n",
       "      <th>CATEGORY</th>\n",
       "      <th>STORY</th>\n",
       "      <th>HOSTNAME</th>\n",
       "      <th>TIMESTAMP</th>\n",
       "      <th>ticker</th>\n",
       "      <th>IsUp</th>\n",
       "    </tr>\n",
       "  </thead>\n",
       "  <tbody>\n",
       "    <tr>\n",
       "      <th>237637</th>\n",
       "      <td>238083</td>\n",
       "      <td>HP - Hewlett Packard Company: HP Reports Fisca...</td>\n",
       "      <td>http://www.twst.com/update/61137-hp-hewlett-pa...</td>\n",
       "      <td>The Wall Street Transcript</td>\n",
       "      <td>b</td>\n",
       "      <td>dDNMBBtcy9cUvoMBnYTq2NHbe0b9M</td>\n",
       "      <td>www.twst.com</td>\n",
       "      <td>2014-05-23 03:08:45.023</td>\n",
       "      <td>HP</td>\n",
       "      <td>False</td>\n",
       "    </tr>\n",
       "    <tr>\n",
       "      <th>240399</th>\n",
       "      <td>240845</td>\n",
       "      <td>Employees brace for serious cuts: HP plans to ...</td>\n",
       "      <td>http://dailydigestnews.com/2014/05/employees-b...</td>\n",
       "      <td>Daily Digest</td>\n",
       "      <td>b</td>\n",
       "      <td>dRlGeEDyIe3WfPMDiIQQCjHQql0jM</td>\n",
       "      <td>dailydigestnews.com</td>\n",
       "      <td>2014-05-23 14:42:50.487</td>\n",
       "      <td>HP</td>\n",
       "      <td>False</td>\n",
       "    </tr>\n",
       "    <tr>\n",
       "      <th>29164</th>\n",
       "      <td>29165</td>\n",
       "      <td>With fears of an end, Turkish PM takes blunter...</td>\n",
       "      <td>http://www.hurriyetdailynews.com/with-fears-of...</td>\n",
       "      <td>Hurriyet Daily News</td>\n",
       "      <td>b</td>\n",
       "      <td>drWjpn6_UzSkmiM_9qWYJe3-LIGPM</td>\n",
       "      <td>www.hurriyetdailynews.com</td>\n",
       "      <td>2014-03-22 16:05:04.211</td>\n",
       "      <td>PM</td>\n",
       "      <td>NaN</td>\n",
       "    </tr>\n",
       "    <tr>\n",
       "      <th>76635</th>\n",
       "      <td>76711</td>\n",
       "      <td>Natco Pharma slumps as US SC agrees to hear Te...</td>\n",
       "      <td>http://www.business-standard.com/article/news-...</td>\n",
       "      <td>Business Standard</td>\n",
       "      <td>b</td>\n",
       "      <td>dv2OydGhBNPpRLMsYz2i8k7VMbaeM</td>\n",
       "      <td>www.business-standard.com</td>\n",
       "      <td>2014-04-01 15:38:30.660</td>\n",
       "      <td>SC</td>\n",
       "      <td>NaN</td>\n",
       "    </tr>\n",
       "    <tr>\n",
       "      <th>165868</th>\n",
       "      <td>166204</td>\n",
       "      <td>New EU sanctions  Russia army, intelligence ch...</td>\n",
       "      <td>http://www.channelnewsasia.com/news/world/new-...</td>\n",
       "      <td>Channel News Asia</td>\n",
       "      <td>b</td>\n",
       "      <td>diF20GdN8avuFQMwsrPB9CbU6OOdM</td>\n",
       "      <td>www.channelnewsasia.com</td>\n",
       "      <td>2014-04-29 11:51:45.618</td>\n",
       "      <td>TGT</td>\n",
       "      <td>False</td>\n",
       "    </tr>\n",
       "    <tr>\n",
       "      <th>159531</th>\n",
       "      <td>159867</td>\n",
       "      <td>GM Profit Report Further Clouds Spotlight on C...</td>\n",
       "      <td>http://wardsauto.com/blog/gm-profit-report-fur...</td>\n",
       "      <td>Ward's Auto \\(subscription\\) \\(blog\\)</td>\n",
       "      <td>b</td>\n",
       "      <td>deMqeq3FTE_SERMIK4QZTSzA4gHcM</td>\n",
       "      <td>wardsauto.com</td>\n",
       "      <td>2014-04-25 03:43:10.119</td>\n",
       "      <td>CEO</td>\n",
       "      <td>NaN</td>\n",
       "    </tr>\n",
       "    <tr>\n",
       "      <th>397741</th>\n",
       "      <td>398260</td>\n",
       "      <td>Oil mixed; WTI slips on supply worries, Brent ...</td>\n",
       "      <td>http://www.marketwatch.com/story/oil-mixed-wti...</td>\n",
       "      <td>MarketWatch</td>\n",
       "      <td>b</td>\n",
       "      <td>dxuhoupGhpkiZOMQkK8zG0doqwxvM</td>\n",
       "      <td>www.marketwatch.com</td>\n",
       "      <td>2014-07-30 09:33:11.063</td>\n",
       "      <td>WTI</td>\n",
       "      <td>False</td>\n",
       "    </tr>\n",
       "    <tr>\n",
       "      <th>115872</th>\n",
       "      <td>116208</td>\n",
       "      <td>Deficit  expected to be even lower</td>\n",
       "      <td>http://wtvr.com/2014/04/15/deficit-now-expecte...</td>\n",
       "      <td>wtvr.com</td>\n",
       "      <td>b</td>\n",
       "      <td>dI5XfdOPdQNlfZMGmIIryOGFponUM</td>\n",
       "      <td>wtvr.com</td>\n",
       "      <td>2014-04-15 14:40:03.778</td>\n",
       "      <td>DNOW</td>\n",
       "      <td>NaN</td>\n",
       "    </tr>\n",
       "    <tr>\n",
       "      <th>141041</th>\n",
       "      <td>141377</td>\n",
       "      <td>PepsiCo profit rises 13% giving CEO respite fr...</td>\n",
       "      <td>http://www.livemint.com/Companies/1lg7siXgdG0O...</td>\n",
       "      <td>Livemint</td>\n",
       "      <td>b</td>\n",
       "      <td>dCVLzzm4CssAm3Mq5Eyb2V1IcndwM</td>\n",
       "      <td>www.livemint.com</td>\n",
       "      <td>2014-04-20 13:20:06.473</td>\n",
       "      <td>CEO</td>\n",
       "      <td>NaN</td>\n",
       "    </tr>\n",
       "    <tr>\n",
       "      <th>107680</th>\n",
       "      <td>107877</td>\n",
       "      <td>Basketball: NEO guard honored</td>\n",
       "      <td>http://www.tulsaworld.com/sportsextra/collegeb...</td>\n",
       "      <td>Tulsa World</td>\n",
       "      <td>b</td>\n",
       "      <td>dsACKhptDXVX8EMFfeKCssDZf0xgM</td>\n",
       "      <td>www.tulsaworld.com</td>\n",
       "      <td>2014-04-13 14:44:30.132</td>\n",
       "      <td>NEO</td>\n",
       "      <td>NaN</td>\n",
       "    </tr>\n",
       "  </tbody>\n",
       "</table>\n",
       "</div>"
      ],
      "text/plain": [
       "            ID                                              TITLE  \\\n",
       "237637  238083  HP - Hewlett Packard Company: HP Reports Fisca...   \n",
       "240399  240845  Employees brace for serious cuts: HP plans to ...   \n",
       "29164    29165  With fears of an end, Turkish PM takes blunter...   \n",
       "76635    76711  Natco Pharma slumps as US SC agrees to hear Te...   \n",
       "165868  166204  New EU sanctions  Russia army, intelligence ch...   \n",
       "159531  159867  GM Profit Report Further Clouds Spotlight on C...   \n",
       "397741  398260  Oil mixed; WTI slips on supply worries, Brent ...   \n",
       "115872  116208                 Deficit  expected to be even lower   \n",
       "141041  141377  PepsiCo profit rises 13% giving CEO respite fr...   \n",
       "107680  107877                      Basketball: NEO guard honored   \n",
       "\n",
       "                                                      URL  \\\n",
       "237637  http://www.twst.com/update/61137-hp-hewlett-pa...   \n",
       "240399  http://dailydigestnews.com/2014/05/employees-b...   \n",
       "29164   http://www.hurriyetdailynews.com/with-fears-of...   \n",
       "76635   http://www.business-standard.com/article/news-...   \n",
       "165868  http://www.channelnewsasia.com/news/world/new-...   \n",
       "159531  http://wardsauto.com/blog/gm-profit-report-fur...   \n",
       "397741  http://www.marketwatch.com/story/oil-mixed-wti...   \n",
       "115872  http://wtvr.com/2014/04/15/deficit-now-expecte...   \n",
       "141041  http://www.livemint.com/Companies/1lg7siXgdG0O...   \n",
       "107680  http://www.tulsaworld.com/sportsextra/collegeb...   \n",
       "\n",
       "                                    PUBLISHER CATEGORY  \\\n",
       "237637             The Wall Street Transcript        b   \n",
       "240399                           Daily Digest        b   \n",
       "29164                     Hurriyet Daily News        b   \n",
       "76635                       Business Standard        b   \n",
       "165868                      Channel News Asia        b   \n",
       "159531  Ward's Auto \\(subscription\\) \\(blog\\)        b   \n",
       "397741                            MarketWatch        b   \n",
       "115872                               wtvr.com        b   \n",
       "141041                               Livemint        b   \n",
       "107680                            Tulsa World        b   \n",
       "\n",
       "                                STORY                   HOSTNAME  \\\n",
       "237637  dDNMBBtcy9cUvoMBnYTq2NHbe0b9M               www.twst.com   \n",
       "240399  dRlGeEDyIe3WfPMDiIQQCjHQql0jM        dailydigestnews.com   \n",
       "29164   drWjpn6_UzSkmiM_9qWYJe3-LIGPM  www.hurriyetdailynews.com   \n",
       "76635   dv2OydGhBNPpRLMsYz2i8k7VMbaeM  www.business-standard.com   \n",
       "165868  diF20GdN8avuFQMwsrPB9CbU6OOdM    www.channelnewsasia.com   \n",
       "159531  deMqeq3FTE_SERMIK4QZTSzA4gHcM              wardsauto.com   \n",
       "397741  dxuhoupGhpkiZOMQkK8zG0doqwxvM        www.marketwatch.com   \n",
       "115872  dI5XfdOPdQNlfZMGmIIryOGFponUM                   wtvr.com   \n",
       "141041  dCVLzzm4CssAm3Mq5Eyb2V1IcndwM           www.livemint.com   \n",
       "107680  dsACKhptDXVX8EMFfeKCssDZf0xgM         www.tulsaworld.com   \n",
       "\n",
       "                     TIMESTAMP ticker   IsUp  \n",
       "237637 2014-05-23 03:08:45.023     HP  False  \n",
       "240399 2014-05-23 14:42:50.487     HP  False  \n",
       "29164  2014-03-22 16:05:04.211     PM    NaN  \n",
       "76635  2014-04-01 15:38:30.660     SC    NaN  \n",
       "165868 2014-04-29 11:51:45.618    TGT  False  \n",
       "159531 2014-04-25 03:43:10.119    CEO    NaN  \n",
       "397741 2014-07-30 09:33:11.063    WTI  False  \n",
       "115872 2014-04-15 14:40:03.778   DNOW    NaN  \n",
       "141041 2014-04-20 13:20:06.473    CEO    NaN  \n",
       "107680 2014-04-13 14:44:30.132    NEO    NaN  "
      ]
     },
     "execution_count": 93,
     "metadata": {},
     "output_type": "execute_result"
    }
   ],
   "source": [
    "NEWS_companies_df.sample(10)"
   ]
  },
  {
   "cell_type": "code",
   "execution_count": 62,
   "metadata": {},
   "outputs": [
    {
     "name": "stderr",
     "output_type": "stream",
     "text": [
      "C:\\Users\\the_b\\Anaconda3\\lib\\site-packages\\ipykernel_launcher.py:1: SettingWithCopyWarning: \n",
      "A value is trying to be set on a copy of a slice from a DataFrame.\n",
      "Try using .loc[row_indexer,col_indexer] = value instead\n",
      "\n",
      "See the caveats in the documentation: http://pandas.pydata.org/pandas-docs/stable/indexing.html#indexing-view-versus-copy\n",
      "  \"\"\"Entry point for launching an IPython kernel.\n"
     ]
    }
   ],
   "source": [
    "NEWS_companies_df['TITLE'] = NEWS_companies_df['TITLE'].apply(remove_names, args=(filtered_companies,))\n",
    "with_move_df = NEWS_companies_df.dropna(how='any')"
   ]
  },
  {
   "cell_type": "code",
   "execution_count": 63,
   "metadata": {
    "collapsed": true
   },
   "outputs": [],
   "source": [
    "# def get_sentiment(sentences):\n",
    "#     blob = TextBlob(sentences)\n",
    "#     for sentence in blob.sentences:\n",
    "#         return sentence.sentiment.polarity"
   ]
  },
  {
   "cell_type": "code",
   "execution_count": 64,
   "metadata": {
    "collapsed": true
   },
   "outputs": [],
   "source": [
    "# with_move_df['Sentiment'] = with_move_df['TITLE'].apply(get_sentiment)"
   ]
  },
  {
   "cell_type": "code",
   "execution_count": 65,
   "metadata": {},
   "outputs": [
    {
     "data": {
      "text/plain": [
       "{False: 842, True: 731}"
      ]
     },
     "execution_count": 65,
     "metadata": {},
     "output_type": "execute_result"
    }
   ],
   "source": [
    "# check the number of True and False\n",
    "unique, counts = np.unique(with_move_df['IsUp'].values, return_counts=True)\n",
    "dict(zip(unique, counts))"
   ]
  },
  {
   "cell_type": "code",
   "execution_count": 66,
   "metadata": {
    "collapsed": true
   },
   "outputs": [],
   "source": [
    "# truncate the time in the day\n",
    "def add_time(row):\n",
    "    return datetime.datetime.strftime(row['TIMESTAMP'], \"%Y-%m-%d\")"
   ]
  },
  {
   "cell_type": "code",
   "execution_count": 67,
   "metadata": {},
   "outputs": [
    {
     "name": "stderr",
     "output_type": "stream",
     "text": [
      "C:\\Users\\the_b\\Anaconda3\\lib\\site-packages\\ipykernel_launcher.py:1: SettingWithCopyWarning: \n",
      "A value is trying to be set on a copy of a slice from a DataFrame.\n",
      "Try using .loc[row_indexer,col_indexer] = value instead\n",
      "\n",
      "See the caveats in the documentation: http://pandas.pydata.org/pandas-docs/stable/indexing.html#indexing-view-versus-copy\n",
      "  \"\"\"Entry point for launching an IPython kernel.\n"
     ]
    }
   ],
   "source": [
    "with_move_df['Day'] = with_move_df.apply(add_time, axis = 1)\n"
   ]
  },
  {
   "cell_type": "code",
   "execution_count": 68,
   "metadata": {},
   "outputs": [
    {
     "data": {
      "text/html": [
       "<div>\n",
       "<style>\n",
       "    .dataframe thead tr:only-child th {\n",
       "        text-align: right;\n",
       "    }\n",
       "\n",
       "    .dataframe thead th {\n",
       "        text-align: left;\n",
       "    }\n",
       "\n",
       "    .dataframe tbody tr th {\n",
       "        vertical-align: top;\n",
       "    }\n",
       "</style>\n",
       "<table border=\"1\" class=\"dataframe\">\n",
       "  <thead>\n",
       "    <tr style=\"text-align: right;\">\n",
       "      <th></th>\n",
       "      <th>ID</th>\n",
       "      <th>TITLE</th>\n",
       "      <th>URL</th>\n",
       "      <th>PUBLISHER</th>\n",
       "      <th>CATEGORY</th>\n",
       "      <th>STORY</th>\n",
       "      <th>HOSTNAME</th>\n",
       "      <th>TIMESTAMP</th>\n",
       "      <th>ticker</th>\n",
       "      <th>IsUp</th>\n",
       "      <th>Day</th>\n",
       "    </tr>\n",
       "  </thead>\n",
       "  <tbody>\n",
       "    <tr>\n",
       "      <th>307799</th>\n",
       "      <td>308259</td>\n",
       "      <td>Takeover  Shire promises strong growth</td>\n",
       "      <td>http://www.ldnews.com/business/ci_26016369/tak...</td>\n",
       "      <td>Lebanon Daily News</td>\n",
       "      <td>b</td>\n",
       "      <td>dmxi4R_ePtxhjSMhtfwtHoZxcnJMM</td>\n",
       "      <td>www.ldnews.com</td>\n",
       "      <td>2014-06-23 17:17:32.412</td>\n",
       "      <td>TGT</td>\n",
       "      <td>True</td>\n",
       "      <td>2014-06-23</td>\n",
       "    </tr>\n",
       "    <tr>\n",
       "      <th>96388</th>\n",
       "      <td>96582</td>\n",
       "      <td>Tony Abbott say searchers 'confident' undersea...</td>\n",
       "      <td>http://www.scmp.com/news/asia/article/1473915/...</td>\n",
       "      <td>South China Morning Post</td>\n",
       "      <td>b</td>\n",
       "      <td>dEvmvYzvzgsQELMCi7irY9O3H-7MM</td>\n",
       "      <td>www.scmp.com</td>\n",
       "      <td>2014-04-11 14:59:12.293</td>\n",
       "      <td>BBOX</td>\n",
       "      <td>False</td>\n",
       "      <td>2014-04-11</td>\n",
       "    </tr>\n",
       "    <tr>\n",
       "      <th>276920</th>\n",
       "      <td>277366</td>\n",
       "      <td>Twitter COO Ali Rowghani Just Announced Via Tw...</td>\n",
       "      <td>http://www.buzzfeed.com/ryanhatesthis/rowghani...</td>\n",
       "      <td>BuzzFeed</td>\n",
       "      <td>b</td>\n",
       "      <td>dXWUGSRb5SMoFnMpjYghEQGucB79M</td>\n",
       "      <td>www.buzzfeed.com</td>\n",
       "      <td>2014-06-13 12:05:24.347</td>\n",
       "      <td>COO</td>\n",
       "      <td>False</td>\n",
       "      <td>2014-06-13</td>\n",
       "    </tr>\n",
       "    <tr>\n",
       "      <th>180449</th>\n",
       "      <td>180785</td>\n",
       "      <td>Twitter, Amazon  to boost 'now commerce'</td>\n",
       "      <td>http://www.sfgate.com/technology/article/Twitt...</td>\n",
       "      <td>SFGate</td>\n",
       "      <td>b</td>\n",
       "      <td>dO5MVKq5OUcLRtMqUbxpAnmdaIkJM</td>\n",
       "      <td>www.sfgate.com</td>\n",
       "      <td>2014-05-06 10:14:44.700</td>\n",
       "      <td>TISI</td>\n",
       "      <td>False</td>\n",
       "      <td>2014-05-06</td>\n",
       "    </tr>\n",
       "    <tr>\n",
       "      <th>155133</th>\n",
       "      <td>155469</td>\n",
       "      <td>News Analysis: Good and bad  mixed as Spanish ...</td>\n",
       "      <td>http://news.xinhuanet.com/english/indepth/2014...</td>\n",
       "      <td>Xinhua</td>\n",
       "      <td>b</td>\n",
       "      <td>db1OdZuqbeBZgOM_kHvagK_p220eM</td>\n",
       "      <td>news.xinhuanet.com</td>\n",
       "      <td>2014-04-24 09:49:03.084</td>\n",
       "      <td>NWSA</td>\n",
       "      <td>True</td>\n",
       "      <td>2014-04-24</td>\n",
       "    </tr>\n",
       "    <tr>\n",
       "      <th>288099</th>\n",
       "      <td>288559</td>\n",
       "      <td>Block &amp; Leviton LLP Investigates Credit Card B...</td>\n",
       "      <td>http://www.providencejournal.com/business/pres...</td>\n",
       "      <td>The Providence Journal</td>\n",
       "      <td>b</td>\n",
       "      <td>dqcIBOe22uFz9kMuQ0hpQULuvkn2M</td>\n",
       "      <td>www.providencejournal.com</td>\n",
       "      <td>2014-06-15 19:56:03.037</td>\n",
       "      <td>PF</td>\n",
       "      <td>True</td>\n",
       "      <td>2014-06-15</td>\n",
       "    </tr>\n",
       "    <tr>\n",
       "      <th>412669</th>\n",
       "      <td>413188</td>\n",
       "      <td>Renewable energy  in the spotlight</td>\n",
       "      <td>http://www.canberratimes.com.au/comment/renewa...</td>\n",
       "      <td>The Canberra Times</td>\n",
       "      <td>b</td>\n",
       "      <td>d3Qlkc-XqF9NLwM97h8z6kxZslEDM</td>\n",
       "      <td>www.canberratimes.com.au</td>\n",
       "      <td>2014-08-25 21:07:39.348</td>\n",
       "      <td>TGT</td>\n",
       "      <td>False</td>\n",
       "      <td>2014-08-25</td>\n",
       "    </tr>\n",
       "    <tr>\n",
       "      <th>216464</th>\n",
       "      <td>216910</td>\n",
       "      <td>China evacuates over 3000  from Vietnam</td>\n",
       "      <td>http://www.telegraph.co.uk/news/worldnews/asia...</td>\n",
       "      <td>Telegraph.co.uk</td>\n",
       "      <td>b</td>\n",
       "      <td>d690COzrYc_CgTMSG3masGYpZrKhM</td>\n",
       "      <td>www.telegraph.co.uk</td>\n",
       "      <td>2014-05-18 20:19:28.993</td>\n",
       "      <td>CIA</td>\n",
       "      <td>True</td>\n",
       "      <td>2014-05-18</td>\n",
       "    </tr>\n",
       "    <tr>\n",
       "      <th>173045</th>\n",
       "      <td>173381</td>\n",
       "      <td>US OPENING NEWS INCLUDING: Heading into the No...</td>\n",
       "      <td>http://www.proactiveinvestors.co.uk/columns/ra...</td>\n",
       "      <td>Proactive Investors UK</td>\n",
       "      <td>b</td>\n",
       "      <td>d6oH4km9IXNQhDMMjOqbrYbTbVjcM</td>\n",
       "      <td>www.proactiveinvestors.co.uk</td>\n",
       "      <td>2014-04-30 13:08:22.298</td>\n",
       "      <td>NEWS</td>\n",
       "      <td>False</td>\n",
       "      <td>2014-04-30</td>\n",
       "    </tr>\n",
       "    <tr>\n",
       "      <th>70274</th>\n",
       "      <td>70350</td>\n",
       "      <td>$4B deal: J&amp;J sells lab testing  to Carlyle</td>\n",
       "      <td>http://www.marshfieldnewsherald.com/usatoday/a...</td>\n",
       "      <td>Marshfield News-Herald</td>\n",
       "      <td>b</td>\n",
       "      <td>dLAUfbAenlK2g4MGO9kvmeghNefpM</td>\n",
       "      <td>www.marshfieldnewsherald.com</td>\n",
       "      <td>2014-03-31 16:29:26.307</td>\n",
       "      <td>UNT</td>\n",
       "      <td>True</td>\n",
       "      <td>2014-03-31</td>\n",
       "    </tr>\n",
       "  </tbody>\n",
       "</table>\n",
       "</div>"
      ],
      "text/plain": [
       "            ID                                              TITLE  \\\n",
       "307799  308259             Takeover  Shire promises strong growth   \n",
       "96388    96582  Tony Abbott say searchers 'confident' undersea...   \n",
       "276920  277366  Twitter COO Ali Rowghani Just Announced Via Tw...   \n",
       "180449  180785           Twitter, Amazon  to boost 'now commerce'   \n",
       "155133  155469  News Analysis: Good and bad  mixed as Spanish ...   \n",
       "288099  288559  Block & Leviton LLP Investigates Credit Card B...   \n",
       "412669  413188                 Renewable energy  in the spotlight   \n",
       "216464  216910            China evacuates over 3000  from Vietnam   \n",
       "173045  173381  US OPENING NEWS INCLUDING: Heading into the No...   \n",
       "70274    70350        $4B deal: J&J sells lab testing  to Carlyle   \n",
       "\n",
       "                                                      URL  \\\n",
       "307799  http://www.ldnews.com/business/ci_26016369/tak...   \n",
       "96388   http://www.scmp.com/news/asia/article/1473915/...   \n",
       "276920  http://www.buzzfeed.com/ryanhatesthis/rowghani...   \n",
       "180449  http://www.sfgate.com/technology/article/Twitt...   \n",
       "155133  http://news.xinhuanet.com/english/indepth/2014...   \n",
       "288099  http://www.providencejournal.com/business/pres...   \n",
       "412669  http://www.canberratimes.com.au/comment/renewa...   \n",
       "216464  http://www.telegraph.co.uk/news/worldnews/asia...   \n",
       "173045  http://www.proactiveinvestors.co.uk/columns/ra...   \n",
       "70274   http://www.marshfieldnewsherald.com/usatoday/a...   \n",
       "\n",
       "                       PUBLISHER CATEGORY                          STORY  \\\n",
       "307799        Lebanon Daily News        b  dmxi4R_ePtxhjSMhtfwtHoZxcnJMM   \n",
       "96388   South China Morning Post        b  dEvmvYzvzgsQELMCi7irY9O3H-7MM   \n",
       "276920                  BuzzFeed        b  dXWUGSRb5SMoFnMpjYghEQGucB79M   \n",
       "180449                    SFGate        b  dO5MVKq5OUcLRtMqUbxpAnmdaIkJM   \n",
       "155133                    Xinhua        b  db1OdZuqbeBZgOM_kHvagK_p220eM   \n",
       "288099    The Providence Journal        b  dqcIBOe22uFz9kMuQ0hpQULuvkn2M   \n",
       "412669        The Canberra Times        b  d3Qlkc-XqF9NLwM97h8z6kxZslEDM   \n",
       "216464           Telegraph.co.uk        b  d690COzrYc_CgTMSG3masGYpZrKhM   \n",
       "173045    Proactive Investors UK        b  d6oH4km9IXNQhDMMjOqbrYbTbVjcM   \n",
       "70274     Marshfield News-Herald        b  dLAUfbAenlK2g4MGO9kvmeghNefpM   \n",
       "\n",
       "                            HOSTNAME               TIMESTAMP ticker   IsUp  \\\n",
       "307799                www.ldnews.com 2014-06-23 17:17:32.412    TGT   True   \n",
       "96388                   www.scmp.com 2014-04-11 14:59:12.293   BBOX  False   \n",
       "276920              www.buzzfeed.com 2014-06-13 12:05:24.347    COO  False   \n",
       "180449                www.sfgate.com 2014-05-06 10:14:44.700   TISI  False   \n",
       "155133            news.xinhuanet.com 2014-04-24 09:49:03.084   NWSA   True   \n",
       "288099     www.providencejournal.com 2014-06-15 19:56:03.037     PF   True   \n",
       "412669      www.canberratimes.com.au 2014-08-25 21:07:39.348    TGT  False   \n",
       "216464           www.telegraph.co.uk 2014-05-18 20:19:28.993    CIA   True   \n",
       "173045  www.proactiveinvestors.co.uk 2014-04-30 13:08:22.298   NEWS  False   \n",
       "70274   www.marshfieldnewsherald.com 2014-03-31 16:29:26.307    UNT   True   \n",
       "\n",
       "               Day  \n",
       "307799  2014-06-23  \n",
       "96388   2014-04-11  \n",
       "276920  2014-06-13  \n",
       "180449  2014-05-06  \n",
       "155133  2014-04-24  \n",
       "288099  2014-06-15  \n",
       "412669  2014-08-25  \n",
       "216464  2014-05-18  \n",
       "173045  2014-04-30  \n",
       "70274   2014-03-31  "
      ]
     },
     "execution_count": 68,
     "metadata": {},
     "output_type": "execute_result"
    }
   ],
   "source": [
    "grouped = with_move_df.groupby(['Day','ticker'])\n",
    "with_move_df.sample(10)\n"
   ]
  },
  {
   "cell_type": "code",
   "execution_count": 69,
   "metadata": {},
   "outputs": [
    {
     "ename": "KeyError",
     "evalue": "170707",
     "output_type": "error",
     "traceback": [
      "\u001b[1;31m---------------------------------------------------------------------------\u001b[0m",
      "\u001b[1;31mKeyError\u001b[0m                                  Traceback (most recent call last)",
      "\u001b[1;32m<ipython-input-69-e8d0877955df>\u001b[0m in \u001b[0;36m<module>\u001b[1;34m()\u001b[0m\n\u001b[1;32m----> 1\u001b[1;33m \u001b[0mprint\u001b[0m\u001b[1;33m(\u001b[0m\u001b[0mwith_move_df\u001b[0m\u001b[1;33m[\u001b[0m\u001b[1;34m'TITLE'\u001b[0m\u001b[1;33m]\u001b[0m\u001b[1;33m[\u001b[0m\u001b[1;36m170707\u001b[0m\u001b[1;33m]\u001b[0m\u001b[1;33m)\u001b[0m\u001b[1;33m\u001b[0m\u001b[0m\n\u001b[0m\u001b[0;32m      2\u001b[0m \u001b[0mprint\u001b[0m\u001b[1;33m(\u001b[0m\u001b[0mwith_move_df\u001b[0m\u001b[1;33m[\u001b[0m\u001b[1;34m'TITLE'\u001b[0m\u001b[1;33m]\u001b[0m\u001b[1;33m[\u001b[0m\u001b[1;36m47720\u001b[0m\u001b[1;33m]\u001b[0m\u001b[1;33m)\u001b[0m\u001b[1;33m\u001b[0m\u001b[0m\n",
      "\u001b[1;32mC:\\Users\\the_b\\Anaconda3\\lib\\site-packages\\pandas\\core\\series.py\u001b[0m in \u001b[0;36m__getitem__\u001b[1;34m(self, key)\u001b[0m\n\u001b[0;32m    599\u001b[0m         \u001b[0mkey\u001b[0m \u001b[1;33m=\u001b[0m \u001b[0mcom\u001b[0m\u001b[1;33m.\u001b[0m\u001b[0m_apply_if_callable\u001b[0m\u001b[1;33m(\u001b[0m\u001b[0mkey\u001b[0m\u001b[1;33m,\u001b[0m \u001b[0mself\u001b[0m\u001b[1;33m)\u001b[0m\u001b[1;33m\u001b[0m\u001b[0m\n\u001b[0;32m    600\u001b[0m         \u001b[1;32mtry\u001b[0m\u001b[1;33m:\u001b[0m\u001b[1;33m\u001b[0m\u001b[0m\n\u001b[1;32m--> 601\u001b[1;33m             \u001b[0mresult\u001b[0m \u001b[1;33m=\u001b[0m \u001b[0mself\u001b[0m\u001b[1;33m.\u001b[0m\u001b[0mindex\u001b[0m\u001b[1;33m.\u001b[0m\u001b[0mget_value\u001b[0m\u001b[1;33m(\u001b[0m\u001b[0mself\u001b[0m\u001b[1;33m,\u001b[0m \u001b[0mkey\u001b[0m\u001b[1;33m)\u001b[0m\u001b[1;33m\u001b[0m\u001b[0m\n\u001b[0m\u001b[0;32m    602\u001b[0m \u001b[1;33m\u001b[0m\u001b[0m\n\u001b[0;32m    603\u001b[0m             \u001b[1;32mif\u001b[0m \u001b[1;32mnot\u001b[0m \u001b[0mis_scalar\u001b[0m\u001b[1;33m(\u001b[0m\u001b[0mresult\u001b[0m\u001b[1;33m)\u001b[0m\u001b[1;33m:\u001b[0m\u001b[1;33m\u001b[0m\u001b[0m\n",
      "\u001b[1;32mC:\\Users\\the_b\\Anaconda3\\lib\\site-packages\\pandas\\core\\indexes\\base.py\u001b[0m in \u001b[0;36mget_value\u001b[1;34m(self, series, key)\u001b[0m\n\u001b[0;32m   2426\u001b[0m         \u001b[1;32mtry\u001b[0m\u001b[1;33m:\u001b[0m\u001b[1;33m\u001b[0m\u001b[0m\n\u001b[0;32m   2427\u001b[0m             return self._engine.get_value(s, k,\n\u001b[1;32m-> 2428\u001b[1;33m                                           tz=getattr(series.dtype, 'tz', None))\n\u001b[0m\u001b[0;32m   2429\u001b[0m         \u001b[1;32mexcept\u001b[0m \u001b[0mKeyError\u001b[0m \u001b[1;32mas\u001b[0m \u001b[0me1\u001b[0m\u001b[1;33m:\u001b[0m\u001b[1;33m\u001b[0m\u001b[0m\n\u001b[0;32m   2430\u001b[0m             \u001b[1;32mif\u001b[0m \u001b[0mlen\u001b[0m\u001b[1;33m(\u001b[0m\u001b[0mself\u001b[0m\u001b[1;33m)\u001b[0m \u001b[1;33m>\u001b[0m \u001b[1;36m0\u001b[0m \u001b[1;32mand\u001b[0m \u001b[0mself\u001b[0m\u001b[1;33m.\u001b[0m\u001b[0minferred_type\u001b[0m \u001b[1;32min\u001b[0m \u001b[1;33m[\u001b[0m\u001b[1;34m'integer'\u001b[0m\u001b[1;33m,\u001b[0m \u001b[1;34m'boolean'\u001b[0m\u001b[1;33m]\u001b[0m\u001b[1;33m:\u001b[0m\u001b[1;33m\u001b[0m\u001b[0m\n",
      "\u001b[1;32mpandas\\_libs\\index.pyx\u001b[0m in \u001b[0;36mpandas._libs.index.IndexEngine.get_value (pandas\\_libs\\index.c:4363)\u001b[1;34m()\u001b[0m\n",
      "\u001b[1;32mpandas\\_libs\\index.pyx\u001b[0m in \u001b[0;36mpandas._libs.index.IndexEngine.get_value (pandas\\_libs\\index.c:4046)\u001b[1;34m()\u001b[0m\n",
      "\u001b[1;32mpandas\\_libs\\index.pyx\u001b[0m in \u001b[0;36mpandas._libs.index.IndexEngine.get_loc (pandas\\_libs\\index.c:5085)\u001b[1;34m()\u001b[0m\n",
      "\u001b[1;32mpandas\\_libs\\hashtable_class_helper.pxi\u001b[0m in \u001b[0;36mpandas._libs.hashtable.Int64HashTable.get_item (pandas\\_libs\\hashtable.c:13913)\u001b[1;34m()\u001b[0m\n",
      "\u001b[1;32mpandas\\_libs\\hashtable_class_helper.pxi\u001b[0m in \u001b[0;36mpandas._libs.hashtable.Int64HashTable.get_item (pandas\\_libs\\hashtable.c:13857)\u001b[1;34m()\u001b[0m\n",
      "\u001b[1;31mKeyError\u001b[0m: 170707"
     ]
    }
   ],
   "source": [
    "print(with_move_df['TITLE'][170707])\n",
    "print(with_move_df['TITLE'][47720])"
   ]
  },
  {
   "cell_type": "code",
   "execution_count": 71,
   "metadata": {
    "collapsed": true
   },
   "outputs": [],
   "source": [
    "# create functions that give the aggregated title and Isup\n",
    "def concat(series):\n",
    "    all_titles = ''\n",
    "    for title in series:\n",
    "            all_titles += '' + title\n",
    "    return all_titles\n",
    "\n",
    "def concat2(series):\n",
    "    return series.sample(1)\n",
    "\n",
    "#grouped.agg({'TITLE': concat})\n",
    "#grouped.agg({'IsUp': concat2})"
   ]
  },
  {
   "cell_type": "code",
   "execution_count": 72,
   "metadata": {
    "collapsed": true
   },
   "outputs": [],
   "source": [
    "def take_important(df, IsTrue):\n",
    "    new_df = df['TITLE'][df['IsUp']==IsTrue]\n",
    "    #print(type(new_df))\n",
    "    counter = Counter()\n",
    "    for index, row in new_df.iteritems():\n",
    "        counter += Counter(row.split())\n",
    "\n",
    "    #counter = Counter(df['TITLE'][df['IsUp']==IsTrue])\n",
    "        \n",
    "#     for index, row in df.iterrows():\n",
    "#         if row['IsUp'] == IsTrue:\n",
    "#             for w in row['TITLE'].split():\n",
    "#                 if w in count:\n",
    "#                     count[w] += 1\n",
    "#                 else:\n",
    "#                     count[w] = 1\n",
    "    \n",
    "    return counter"
   ]
  },
  {
   "cell_type": "code",
   "execution_count": 73,
   "metadata": {
    "collapsed": true,
    "scrolled": false
   },
   "outputs": [],
   "source": [
    "count_up = take_important(with_move_df, True)\n",
    "#count_up.most_common(50)"
   ]
  },
  {
   "cell_type": "code",
   "execution_count": 74,
   "metadata": {
    "collapsed": true
   },
   "outputs": [],
   "source": [
    "count_down = take_important(with_move_df, False)\n",
    "#count_down.most_common(50)"
   ]
  },
  {
   "cell_type": "code",
   "execution_count": 75,
   "metadata": {},
   "outputs": [
    {
     "name": "stdout",
     "output_type": "stream",
     "text": [
      "582\n",
      "[[28 29]\n",
      " [36 24]]\n",
      "             precision    recall  f1-score   support\n",
      "\n",
      "         up       0.44      0.49      0.46        57\n",
      "       down       0.45      0.40      0.42        60\n",
      "\n",
      "avg / total       0.45      0.44      0.44       117\n",
      "\n",
      "             precision    recall  f1-score   support\n",
      "\n",
      "         up       1.00      1.00      1.00       215\n",
      "       down       1.00      1.00      1.00       250\n",
      "\n",
      "avg / total       1.00      1.00      1.00       465\n",
      "\n",
      "0.444444444444\n"
     ]
    }
   ],
   "source": [
    "count_vectorizer = CountVectorizer()\n",
    "X = count_vectorizer.fit_transform(grouped.agg({'TITLE': concat}).TITLE)\n",
    "y = grouped.agg({'IsUp': concat2})\n",
    "y = y.IsUp.values\n",
    "X_train, X_test, y_train, y_test = train_test_split(X, y, test_size=0.2, random_state=0)\n",
    "\n",
    "print(len(y))\n",
    "#clf = LinearSVC()\n",
    "\n",
    "parameters = {'C':[1, 10, 100, 1000]}\n",
    "svr = LinearSVC(random_state=0)\n",
    "clf = GridSearchCV(svr, parameters)\n",
    "clf.fit(X_train, y_train)\n",
    "predicted = clf.predict(X_test)\n",
    "print(confusion_matrix(y_test, predicted))\n",
    "print(classification_report(y_test,\n",
    "                            predicted,\n",
    "                            target_names=['up', 'down']))\n",
    "print(classification_report(y_train,\n",
    "                            clf.predict(X_train),\n",
    "                            target_names=['up', 'down']))\n",
    "print(accuracy_score(y_test, predicted))"
   ]
  },
  {
   "cell_type": "code",
   "execution_count": 76,
   "metadata": {},
   "outputs": [
    {
     "data": {
      "text/plain": [
       "{'C': 10}"
      ]
     },
     "execution_count": 76,
     "metadata": {},
     "output_type": "execute_result"
    }
   ],
   "source": [
    "clf.best_params_"
   ]
  },
  {
   "cell_type": "code",
   "execution_count": 77,
   "metadata": {},
   "outputs": [
    {
     "name": "stdout",
     "output_type": "stream",
     "text": [
      "\n"
     ]
    }
   ],
   "source": [
    "for word, coef in zip(count_vectorizer.get_feature_names(), clf.best_estimator_.coef_[0]):\n",
    "    if coef >= 0.7:\n",
    "        print('positive coef {1:04f}: {0}'.format(word,coef))\n",
    "\n",
    "print(\"\")\n",
    "        \n",
    "for word, coef in zip(count_vectorizer.get_feature_names(), clf.best_estimator_.coef_[0]):\n",
    "    if coef <= -1:\n",
    "        print('negative coef {1:04f}: {0}'.format(word,coef))"
   ]
  },
  {
   "cell_type": "code",
   "execution_count": 78,
   "metadata": {},
   "outputs": [
    {
     "name": "stdout",
     "output_type": "stream",
     "text": [
      "[[30 27]\n",
      " [36 24]]\n",
      "             precision    recall  f1-score   support\n",
      "\n",
      "         up       0.45      0.53      0.49        57\n",
      "       down       0.47      0.40      0.43        60\n",
      "\n",
      "avg / total       0.46      0.46      0.46       117\n",
      "\n",
      "             precision    recall  f1-score   support\n",
      "\n",
      "         up       1.00      1.00      1.00       215\n",
      "       down       1.00      1.00      1.00       250\n",
      "\n",
      "avg / total       1.00      1.00      1.00       465\n",
      "\n",
      "0.461538461538\n"
     ]
    }
   ],
   "source": [
    "parameters = {'C':[1, 10, 100, 1000]}\n",
    "LR = LogisticRegression()\n",
    "clf2 = GridSearchCV(LR, parameters)\n",
    "clf2.fit(X_train, y_train)\n",
    "predicted2 = clf2.predict(X_test)\n",
    "print(confusion_matrix(y_test, predicted2))\n",
    "print(classification_report(y_test,\n",
    "                            predicted2,\n",
    "                            target_names=['up', 'down']))\n",
    "print(classification_report(y_train,\n",
    "                            clf2.predict(X_train),\n",
    "                            target_names=['up', 'down']))\n",
    "print(accuracy_score(y_test, predicted2))"
   ]
  },
  {
   "cell_type": "code",
   "execution_count": 79,
   "metadata": {},
   "outputs": [
    {
     "data": {
      "text/plain": [
       "{'C': 100}"
      ]
     },
     "execution_count": 79,
     "metadata": {},
     "output_type": "execute_result"
    }
   ],
   "source": [
    "clf2.best_params_"
   ]
  },
  {
   "cell_type": "code",
   "execution_count": 80,
   "metadata": {
    "collapsed": true,
    "scrolled": true
   },
   "outputs": [],
   "source": [
    "positive = ''\n",
    "negative = ''\n",
    "for word, coef in zip(count_vectorizer.get_feature_names(), clf.best_estimator_.coef_[0]):\n",
    "    \n",
    "    if coef >= 0:\n",
    "        for i in range(round(float('{0:02f}'.format(coef*100)))):\n",
    "            positive += ' ' + '{0}'.format(word)\n",
    "    else:\n",
    "        for i in range(-round(float('{0:02f}'.format(coef*100)))):\n",
    "            negative += ' ' + '{0}'.format(word)\n",
    "\n"
   ]
  },
  {
   "cell_type": "code",
   "execution_count": 81,
   "metadata": {},
   "outputs": [
    {
     "data": {
      "image/png": "[encoded data removed]",
      "text/plain": [
       "<matplotlib.figure.Figure at 0x2b7bcc86a20>"
      ]
     },
     "metadata": {},
     "output_type": "display_data"
    },
    {
     "data": {
      "image/png": "[encoded data removed]",
      "text/plain": [
       "<matplotlib.figure.Figure at 0x2b712f04b38>"
      ]
     },
     "metadata": {},
     "output_type": "display_data"
    }
   ],
   "source": [
    "wordcloud = WordCloud(collocations=False).generate(positive)\n",
    "wordcloud2 = WordCloud(collocations=False).generate(negative)\n",
    "\n",
    "# Display the generated image:\n",
    "# the matplotlib way:\n",
    "plt.imshow(wordcloud, interpolation='bilinear')\n",
    "plt.axis(\"off\")\n",
    "\n",
    "# lower max_font_size\n",
    "# wordcloud = WordCloud(max_font_size=40).generate(text)\n",
    "plt.figure()\n",
    "plt.imshow(wordcloud2, interpolation=\"bilinear\")\n",
    "plt.axis(\"off\")\n",
    "plt.show()"
   ]
  },
  {
   "cell_type": "code",
   "execution_count": null,
   "metadata": {
    "collapsed": true
   },
   "outputs": [],
   "source": []
  },
  {
   "cell_type": "markdown",
   "metadata": {},
   "source": [
    "look into the news which includes strange words, such as soya  \n",
    "use seaborn to visialize the data"
   ]
  },
  {
   "cell_type": "code",
   "execution_count": 82,
   "metadata": {},
   "outputs": [
    {
     "data": {
      "text/html": [
       "<div>\n",
       "<style>\n",
       "    .dataframe thead tr:only-child th {\n",
       "        text-align: right;\n",
       "    }\n",
       "\n",
       "    .dataframe thead th {\n",
       "        text-align: left;\n",
       "    }\n",
       "\n",
       "    .dataframe tbody tr th {\n",
       "        vertical-align: top;\n",
       "    }\n",
       "</style>\n",
       "<table border=\"1\" class=\"dataframe\">\n",
       "  <thead>\n",
       "    <tr style=\"text-align: right;\">\n",
       "      <th></th>\n",
       "      <th>ID</th>\n",
       "      <th>TITLE</th>\n",
       "      <th>URL</th>\n",
       "      <th>PUBLISHER</th>\n",
       "      <th>CATEGORY</th>\n",
       "      <th>STORY</th>\n",
       "      <th>HOSTNAME</th>\n",
       "      <th>TIMESTAMP</th>\n",
       "      <th>ticker</th>\n",
       "    </tr>\n",
       "  </thead>\n",
       "  <tbody>\n",
       "  </tbody>\n",
       "</table>\n",
       "</div>"
      ],
      "text/plain": [
       "Empty DataFrame\n",
       "Columns: [ID, TITLE, URL, PUBLISHER, CATEGORY, STORY, HOSTNAME, TIMESTAMP, ticker]\n",
       "Index: []"
      ]
     },
     "execution_count": 82,
     "metadata": {},
     "output_type": "execute_result"
    }
   ],
   "source": [
    "NEWS_df[NEWS_df['TITLE'].str.contains('surgesus', na=False)]"
   ]
  },
  {
   "cell_type": "code",
   "execution_count": 83,
   "metadata": {
    "collapsed": true
   },
   "outputs": [],
   "source": [
    "with open('stopwords.txt') as f:\n",
    "    stop_words = []\n",
    "    for line in f:\n",
    "        stop_words.append(line.rstrip())"
   ]
  },
  {
   "cell_type": "code",
   "execution_count": 84,
   "metadata": {
    "collapsed": true
   },
   "outputs": [],
   "source": [
    "def eliminate_stop_words(counter):\n",
    "    dummy = counter.copy()\n",
    "    punc = set(string.punctuation)\n",
    "    punc.update(['...', '–'])\n",
    "    for key, num in dummy.items():\n",
    "        if key.lower() in stop_words or key in punc:\n",
    "            counter.pop(key)\n",
    "    \n",
    "    return counter"
   ]
  },
  {
   "cell_type": "code",
   "execution_count": 85,
   "metadata": {
    "collapsed": true
   },
   "outputs": [],
   "source": [
    "count_up = eliminate_stop_words(count_up)\n",
    "count_down = eliminate_stop_words(count_down)"
   ]
  },
  {
   "cell_type": "code",
   "execution_count": 86,
   "metadata": {
    "collapsed": true
   },
   "outputs": [],
   "source": [
    "def create_freq_table(counter, num):\n",
    "    \"\"\"\n",
    "    counter: counter object\n",
    "    num: int, which specify how many most common words it is needed to return\n",
    "    return: DataFrame\n",
    "    \"\"\"\n",
    "    counter2 = counter.most_common(num)\n",
    "    counter2 = sorted(counter2, key=lambda tup: tup[1], reverse=True)\n",
    "    \n",
    "    words_freqs_up = {'words': [tup[0] for tup in counter2],\n",
    "                      'freqs': [tup[1] for tup in counter2]}\n",
    "    words_freqs_df = pd.DataFrame(words_freqs_up)\n",
    "    \n",
    "    return words_freqs_df"
   ]
  },
  {
   "cell_type": "code",
   "execution_count": 87,
   "metadata": {
    "collapsed": true
   },
   "outputs": [],
   "source": [
    "words_freqs_up_df = create_freq_table(count_up, 10)\n",
    "words_freqs_down_df = create_freq_table(count_down, 10)"
   ]
  },
  {
   "cell_type": "code",
   "execution_count": 88,
   "metadata": {},
   "outputs": [
    {
     "data": {
      "image/png": "[encoded data removed]",
      "text/plain": [
       "<matplotlib.figure.Figure at 0x2b7d09c1be0>"
      ]
     },
     "metadata": {},
     "output_type": "display_data"
    }
   ],
   "source": [
    "my_plot = sns.barplot(x='words', y='freqs', data=words_freqs_up_df)\n",
    "my_plot.get_figure().savefig('freq_up.png', dpi=200)\n",
    "sns.plt.show()"
   ]
  },
  {
   "cell_type": "code",
   "execution_count": 89,
   "metadata": {},
   "outputs": [
    {
     "data": {
      "image/png": "[encoded data removed]",
      "text/plain": [
       "<matplotlib.figure.Figure at 0x2b7d0aa76a0>"
      ]
     },
     "metadata": {},
     "output_type": "display_data"
    }
   ],
   "source": [
    "my_plot2 = sns.barplot(x='words', y='freqs', data=words_freqs_down_df)\n",
    "my_plot2.get_figure().savefig('freq_down.png', dpi=200)\n",
    "sns.plt.show()"
   ]
  },
  {
   "cell_type": "code",
   "execution_count": 107,
   "metadata": {
    "collapsed": true
   },
   "outputs": [],
   "source": [
    "words_freqs_up_df = create_freq_table(count_up, 20)\n",
    "words_freqs_down_df = create_freq_table(count_down, 100)"
   ]
  },
  {
   "cell_type": "code",
   "execution_count": 108,
   "metadata": {},
   "outputs": [
    {
     "data": {
      "image/png": "[encoded data removed]",
      "text/plain": [
       "<matplotlib.figure.Figure at 0x2b7d17088d0>"
      ]
     },
     "metadata": {},
     "output_type": "display_data"
    }
   ],
   "source": [
    "down_set = set(words_freqs_down_df.words)\n",
    "words_freqs_up_df = words_freqs_up_df[words_freqs_up_df.apply(lambda row: row['words'] not in down_set, axis=1)]\n",
    "my_plot = sns.barplot(x='words', y='freqs', data=words_freqs_up_df)\n",
    "my_plot.get_figure().savefig('freq_up.png', dpi=200)\n",
    "sns.plt.show()"
   ]
  },
  {
   "cell_type": "code",
   "execution_count": 113,
   "metadata": {
    "collapsed": true
   },
   "outputs": [],
   "source": [
    "words_freqs_up_df = create_freq_table(count_up, 100)\n",
    "words_freqs_down_df = create_freq_table(count_down, 20)"
   ]
  },
  {
   "cell_type": "code",
   "execution_count": 114,
   "metadata": {},
   "outputs": [
    {
     "data": {
      "image/png": "[encoded data removed]",
      "text/plain": [
       "<matplotlib.figure.Figure at 0x2b7d09cb780>"
      ]
     },
     "metadata": {},
     "output_type": "display_data"
    }
   ],
   "source": [
    "up_set = set(words_freqs_up_df.words)\n",
    "words_freqs_down_df = words_freqs_down_df[words_freqs_down_df.apply(lambda row: row['words'] not in up_set, axis=1)]\n",
    "my_plot = sns.barplot(x='words', y='freqs', data=words_freqs_down_df)\n",
    "my_plot.get_figure().savefig('freq_up.png', dpi=200)\n",
    "sns.plt.show()"
   ]
  },
  {
   "cell_type": "code",
   "execution_count": null,
   "metadata": {},
   "outputs": [],
   "source": [
    "NEWS_df[NEWS_df['TITLE'].str.contains('WWE', na=False)]"
   ]
  },
  {
   "cell_type": "code",
   "execution_count": null,
   "metadata": {
    "collapsed": true
   },
   "outputs": [],
   "source": []
  }
 ],
 "metadata": {
  "kernelspec": {
   "display_name": "Python 3",
   "language": "python",
   "name": "python3"
  },
  "language_info": {
   "codemirror_mode": {
    "name": "ipython",
    "version": 3
   },
   "file_extension": ".py",
   "mimetype": "text/x-python",
   "name": "python",
   "nbconvert_exporter": "python",
   "pygments_lexer": "ipython3",
   "version": "3.6.1"
  }
 },
 "nbformat": 4,
 "nbformat_minor": 2
}
