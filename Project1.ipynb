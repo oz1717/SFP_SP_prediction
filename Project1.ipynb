{
 "cells": [
  {
   "cell_type": "markdown",
   "metadata": {},
   "source": [
    "Git\n",
    "how to choose companies\n",
    "Time stamp\n",
    "Feature, Target\n",
    "\n",
    "words or sentence? -> libraries to calculate sentiment\n",
    "predictprob function\n",
    "lower - case"
   ]
  },
  {
   "cell_type": "code",
   "execution_count": 1,
   "metadata": {
    "collapsed": true
   },
   "outputs": [],
   "source": [
    "import pandas as pd\n",
    "import numpy as np\n",
    "import datetime \n",
    "from textblob import TextBlob\n",
    "from sklearn.linear_model import LogisticRegression\n",
    "from sklearn.model_selection import train_test_split, GridSearchCV\n",
    "from sklearn.metrics import confusion_matrix, classification_report\n",
    "import matplotlib.pyplot as plt\n",
    "from collections import Counter"
   ]
  },
  {
   "cell_type": "code",
   "execution_count": 2,
   "metadata": {
    "collapsed": true
   },
   "outputs": [],
   "source": [
    "#import the stock price data\n",
    "SP_df = pd.read_csv(\"WIKI_PRICES.csv\")"
   ]
  },
  {
   "cell_type": "code",
   "execution_count": 3,
   "metadata": {},
   "outputs": [
    {
     "data": {
      "text/html": [
       "<div>\n",
       "<style>\n",
       "    .dataframe thead tr:only-child th {\n",
       "        text-align: right;\n",
       "    }\n",
       "\n",
       "    .dataframe thead th {\n",
       "        text-align: left;\n",
       "    }\n",
       "\n",
       "    .dataframe tbody tr th {\n",
       "        vertical-align: top;\n",
       "    }\n",
       "</style>\n",
       "<table border=\"1\" class=\"dataframe\">\n",
       "  <thead>\n",
       "    <tr style=\"text-align: right;\">\n",
       "      <th></th>\n",
       "      <th>ticker</th>\n",
       "      <th>date</th>\n",
       "      <th>open</th>\n",
       "      <th>high</th>\n",
       "      <th>low</th>\n",
       "      <th>close</th>\n",
       "      <th>volume</th>\n",
       "      <th>ex-dividend</th>\n",
       "      <th>split_ratio</th>\n",
       "      <th>adj_open</th>\n",
       "      <th>adj_high</th>\n",
       "      <th>adj_low</th>\n",
       "      <th>adj_close</th>\n",
       "      <th>adj_volume</th>\n",
       "    </tr>\n",
       "  </thead>\n",
       "  <tbody>\n",
       "    <tr>\n",
       "      <th>0</th>\n",
       "      <td>A</td>\n",
       "      <td>1999-11-18</td>\n",
       "      <td>45.50</td>\n",
       "      <td>50.00</td>\n",
       "      <td>40.00</td>\n",
       "      <td>44.00</td>\n",
       "      <td>44739900.0</td>\n",
       "      <td>0.0</td>\n",
       "      <td>1.0</td>\n",
       "      <td>31.105117</td>\n",
       "      <td>34.181447</td>\n",
       "      <td>27.345157</td>\n",
       "      <td>30.079673</td>\n",
       "      <td>44739900.0</td>\n",
       "    </tr>\n",
       "    <tr>\n",
       "      <th>1</th>\n",
       "      <td>A</td>\n",
       "      <td>1999-11-19</td>\n",
       "      <td>42.94</td>\n",
       "      <td>43.00</td>\n",
       "      <td>39.81</td>\n",
       "      <td>40.38</td>\n",
       "      <td>10897100.0</td>\n",
       "      <td>0.0</td>\n",
       "      <td>1.0</td>\n",
       "      <td>29.355027</td>\n",
       "      <td>29.396044</td>\n",
       "      <td>27.215268</td>\n",
       "      <td>27.604936</td>\n",
       "      <td>10897100.0</td>\n",
       "    </tr>\n",
       "    <tr>\n",
       "      <th>2</th>\n",
       "      <td>A</td>\n",
       "      <td>1999-11-22</td>\n",
       "      <td>41.31</td>\n",
       "      <td>44.00</td>\n",
       "      <td>40.06</td>\n",
       "      <td>44.00</td>\n",
       "      <td>4705200.0</td>\n",
       "      <td>0.0</td>\n",
       "      <td>1.0</td>\n",
       "      <td>28.240711</td>\n",
       "      <td>30.079673</td>\n",
       "      <td>27.386175</td>\n",
       "      <td>30.079673</td>\n",
       "      <td>4705200.0</td>\n",
       "    </tr>\n",
       "    <tr>\n",
       "      <th>3</th>\n",
       "      <td>A</td>\n",
       "      <td>1999-11-23</td>\n",
       "      <td>42.50</td>\n",
       "      <td>43.63</td>\n",
       "      <td>40.25</td>\n",
       "      <td>40.25</td>\n",
       "      <td>4274400.0</td>\n",
       "      <td>0.0</td>\n",
       "      <td>1.0</td>\n",
       "      <td>29.054230</td>\n",
       "      <td>29.826730</td>\n",
       "      <td>27.516065</td>\n",
       "      <td>27.516065</td>\n",
       "      <td>4274400.0</td>\n",
       "    </tr>\n",
       "    <tr>\n",
       "      <th>4</th>\n",
       "      <td>A</td>\n",
       "      <td>1999-11-24</td>\n",
       "      <td>40.13</td>\n",
       "      <td>41.94</td>\n",
       "      <td>40.00</td>\n",
       "      <td>41.06</td>\n",
       "      <td>3464400.0</td>\n",
       "      <td>0.0</td>\n",
       "      <td>1.0</td>\n",
       "      <td>27.434029</td>\n",
       "      <td>28.671398</td>\n",
       "      <td>27.345157</td>\n",
       "      <td>28.069804</td>\n",
       "      <td>3464400.0</td>\n",
       "    </tr>\n",
       "  </tbody>\n",
       "</table>\n",
       "</div>"
      ],
      "text/plain": [
       "  ticker        date   open   high    low  close      volume  ex-dividend  \\\n",
       "0      A  1999-11-18  45.50  50.00  40.00  44.00  44739900.0          0.0   \n",
       "1      A  1999-11-19  42.94  43.00  39.81  40.38  10897100.0          0.0   \n",
       "2      A  1999-11-22  41.31  44.00  40.06  44.00   4705200.0          0.0   \n",
       "3      A  1999-11-23  42.50  43.63  40.25  40.25   4274400.0          0.0   \n",
       "4      A  1999-11-24  40.13  41.94  40.00  41.06   3464400.0          0.0   \n",
       "\n",
       "   split_ratio   adj_open   adj_high    adj_low  adj_close  adj_volume  \n",
       "0          1.0  31.105117  34.181447  27.345157  30.079673  44739900.0  \n",
       "1          1.0  29.355027  29.396044  27.215268  27.604936  10897100.0  \n",
       "2          1.0  28.240711  30.079673  27.386175  30.079673   4705200.0  \n",
       "3          1.0  29.054230  29.826730  27.516065  27.516065   4274400.0  \n",
       "4          1.0  27.434029  28.671398  27.345157  28.069804   3464400.0  "
      ]
     },
     "execution_count": 3,
     "metadata": {},
     "output_type": "execute_result"
    }
   ],
   "source": [
    "SP_df.head()"
   ]
  },
  {
   "cell_type": "code",
   "execution_count": 4,
   "metadata": {
    "collapsed": true
   },
   "outputs": [],
   "source": [
    "combi = {}\n",
    "for date, ticker, close in zip(SP_df['date'], SP_df['ticker'], SP_df['adj_close']):\n",
    "    combi[(date, ticker)] = close"
   ]
  },
  {
   "cell_type": "code",
   "execution_count": 5,
   "metadata": {},
   "outputs": [
    {
     "data": {
      "text/plain": [
       "14935063"
      ]
     },
     "execution_count": 5,
     "metadata": {},
     "output_type": "execute_result"
    }
   ],
   "source": [
    "#check the number of data\n",
    "len(SP_df)"
   ]
  },
  {
   "cell_type": "code",
   "execution_count": 6,
   "metadata": {
    "collapsed": true
   },
   "outputs": [],
   "source": [
    "#import the news data\n",
    "NEWS_df = pd.read_csv(\"uci-news-aggregator.csv\")"
   ]
  },
  {
   "cell_type": "code",
   "execution_count": 7,
   "metadata": {},
   "outputs": [
    {
     "data": {
      "text/html": [
       "<div>\n",
       "<style>\n",
       "    .dataframe thead tr:only-child th {\n",
       "        text-align: right;\n",
       "    }\n",
       "\n",
       "    .dataframe thead th {\n",
       "        text-align: left;\n",
       "    }\n",
       "\n",
       "    .dataframe tbody tr th {\n",
       "        vertical-align: top;\n",
       "    }\n",
       "</style>\n",
       "<table border=\"1\" class=\"dataframe\">\n",
       "  <thead>\n",
       "    <tr style=\"text-align: right;\">\n",
       "      <th></th>\n",
       "      <th>ID</th>\n",
       "      <th>TITLE</th>\n",
       "      <th>URL</th>\n",
       "      <th>PUBLISHER</th>\n",
       "      <th>CATEGORY</th>\n",
       "      <th>STORY</th>\n",
       "      <th>HOSTNAME</th>\n",
       "      <th>TIMESTAMP</th>\n",
       "    </tr>\n",
       "  </thead>\n",
       "  <tbody>\n",
       "    <tr>\n",
       "      <th>0</th>\n",
       "      <td>1</td>\n",
       "      <td>Fed official says weak data caused by weather,...</td>\n",
       "      <td>http://www.latimes.com/business/money/la-fi-mo...</td>\n",
       "      <td>Los Angeles Times</td>\n",
       "      <td>b</td>\n",
       "      <td>ddUyU0VZz0BRneMioxUPQVP6sIxvM</td>\n",
       "      <td>www.latimes.com</td>\n",
       "      <td>1394470370698</td>\n",
       "    </tr>\n",
       "    <tr>\n",
       "      <th>1</th>\n",
       "      <td>2</td>\n",
       "      <td>Fed's Charles Plosser sees high bar for change...</td>\n",
       "      <td>http://www.livemint.com/Politics/H2EvwJSK2VE6O...</td>\n",
       "      <td>Livemint</td>\n",
       "      <td>b</td>\n",
       "      <td>ddUyU0VZz0BRneMioxUPQVP6sIxvM</td>\n",
       "      <td>www.livemint.com</td>\n",
       "      <td>1394470371207</td>\n",
       "    </tr>\n",
       "    <tr>\n",
       "      <th>2</th>\n",
       "      <td>3</td>\n",
       "      <td>US open: Stocks fall after Fed official hints ...</td>\n",
       "      <td>http://www.ifamagazine.com/news/us-open-stocks...</td>\n",
       "      <td>IFA Magazine</td>\n",
       "      <td>b</td>\n",
       "      <td>ddUyU0VZz0BRneMioxUPQVP6sIxvM</td>\n",
       "      <td>www.ifamagazine.com</td>\n",
       "      <td>1394470371550</td>\n",
       "    </tr>\n",
       "    <tr>\n",
       "      <th>3</th>\n",
       "      <td>4</td>\n",
       "      <td>Fed risks falling 'behind the curve', Charles ...</td>\n",
       "      <td>http://www.ifamagazine.com/news/fed-risks-fall...</td>\n",
       "      <td>IFA Magazine</td>\n",
       "      <td>b</td>\n",
       "      <td>ddUyU0VZz0BRneMioxUPQVP6sIxvM</td>\n",
       "      <td>www.ifamagazine.com</td>\n",
       "      <td>1394470371793</td>\n",
       "    </tr>\n",
       "    <tr>\n",
       "      <th>4</th>\n",
       "      <td>5</td>\n",
       "      <td>Fed's Plosser: Nasty Weather Has Curbed Job Gr...</td>\n",
       "      <td>http://www.moneynews.com/Economy/federal-reser...</td>\n",
       "      <td>Moneynews</td>\n",
       "      <td>b</td>\n",
       "      <td>ddUyU0VZz0BRneMioxUPQVP6sIxvM</td>\n",
       "      <td>www.moneynews.com</td>\n",
       "      <td>1394470372027</td>\n",
       "    </tr>\n",
       "  </tbody>\n",
       "</table>\n",
       "</div>"
      ],
      "text/plain": [
       "   ID                                              TITLE  \\\n",
       "0   1  Fed official says weak data caused by weather,...   \n",
       "1   2  Fed's Charles Plosser sees high bar for change...   \n",
       "2   3  US open: Stocks fall after Fed official hints ...   \n",
       "3   4  Fed risks falling 'behind the curve', Charles ...   \n",
       "4   5  Fed's Plosser: Nasty Weather Has Curbed Job Gr...   \n",
       "\n",
       "                                                 URL          PUBLISHER  \\\n",
       "0  http://www.latimes.com/business/money/la-fi-mo...  Los Angeles Times   \n",
       "1  http://www.livemint.com/Politics/H2EvwJSK2VE6O...           Livemint   \n",
       "2  http://www.ifamagazine.com/news/us-open-stocks...       IFA Magazine   \n",
       "3  http://www.ifamagazine.com/news/fed-risks-fall...       IFA Magazine   \n",
       "4  http://www.moneynews.com/Economy/federal-reser...          Moneynews   \n",
       "\n",
       "  CATEGORY                          STORY             HOSTNAME      TIMESTAMP  \n",
       "0        b  ddUyU0VZz0BRneMioxUPQVP6sIxvM      www.latimes.com  1394470370698  \n",
       "1        b  ddUyU0VZz0BRneMioxUPQVP6sIxvM     www.livemint.com  1394470371207  \n",
       "2        b  ddUyU0VZz0BRneMioxUPQVP6sIxvM  www.ifamagazine.com  1394470371550  \n",
       "3        b  ddUyU0VZz0BRneMioxUPQVP6sIxvM  www.ifamagazine.com  1394470371793  \n",
       "4        b  ddUyU0VZz0BRneMioxUPQVP6sIxvM    www.moneynews.com  1394470372027  "
      ]
     },
     "execution_count": 7,
     "metadata": {},
     "output_type": "execute_result"
    }
   ],
   "source": [
    "NEWS_df.head()"
   ]
  },
  {
   "cell_type": "code",
   "execution_count": 8,
   "metadata": {},
   "outputs": [
    {
     "name": "stdout",
     "output_type": "stream",
     "text": [
      "1394470370698\n",
      "1409229191565\n"
     ]
    }
   ],
   "source": [
    "print(NEWS_df['TIMESTAMP'].min())\n",
    "print(NEWS_df['TIMESTAMP'].max())"
   ]
  },
  {
   "cell_type": "code",
   "execution_count": 9,
   "metadata": {},
   "outputs": [
    {
     "data": {
      "text/plain": [
       "422419"
      ]
     },
     "execution_count": 9,
     "metadata": {},
     "output_type": "execute_result"
    }
   ],
   "source": [
    "#check the number of data\n",
    "len(NEWS_df)"
   ]
  },
  {
   "cell_type": "code",
   "execution_count": 10,
   "metadata": {
    "collapsed": true
   },
   "outputs": [],
   "source": [
    "companies = {\"3M\": \"MMM\",\n",
    "             \"American Express\":\"AXP\",\n",
    "             \"Apple\":\"AAPL\",\n",
    "             \"Boeing\":\"BA\",\n",
    "             \"Caterpillar\":\"CAT\",\n",
    "             \"Chevron\":\"CVX\",\n",
    "             \"Cisco Systems\":\"CSCO\",\n",
    "             \"Coca-Cola\":\"KO\",\n",
    "             \"DuPont\":\"DD\",\n",
    "             \"ExxonMobil\":\"XOM\",\n",
    "             \"General Electric\":\"GE\",\n",
    "             \"Goldman Sachs\":\"GS\",\n",
    "             \"Home Depot\":\"HD\",\n",
    "             \"IBM\":\"IBM\",\n",
    "             \"Intel\":\"INTC\",\n",
    "             \"Johnson & Johnson\":\"JNJ\",\n",
    "             \"JPMorgan Chase\":\"JPM\",\n",
    "             \"McDonald's\":\"MCD\",\n",
    "             \"Merck\":\"MRK\",\n",
    "             \"Microsoft\":\"MSFT\",\n",
    "             \"Nike\":\"NKE\",\n",
    "             \"Pfizer\":\"PFE\",\n",
    "             \"Procter & Gamble\":\"PG\",\n",
    "             \"Travelers\":\"TRV\",\n",
    "             \"UnitedHealth Group\":\"UNH\",\n",
    "             \"United Technologies\":\"UTX\",\n",
    "             \"Verizon\":\"VZ\",\n",
    "             \"Visa\":\"V\",\n",
    "             \"Walmart\":\"WMT\",\n",
    "             \"Walt Disney\":\"DIS\"\n",
    "}"
   ]
  },
  {
   "cell_type": "code",
   "execution_count": 11,
   "metadata": {},
   "outputs": [
    {
     "name": "stdout",
     "output_type": "stream",
     "text": [
      "24550\n",
      "{'3M': 144, 'American Express': 12, 'Apple': 10317, 'Boeing': 596, 'Caterpillar': 116, 'Chevron': 22, 'Cisco Systems': 11, 'Coca-Cola': 302, 'DuPont': 33, 'ExxonMobil': 5, 'General Electric': 127, 'Goldman Sachs': 124, 'Home Depot': 115, 'IBM': 1058, 'Intel': 675, 'Johnson & Johnson': 70, 'JPMorgan Chase': 116, \"McDonald's\": 790, 'Merck': 199, 'Microsoft': 6984, 'Nike': 209, 'Pfizer': 1072, 'Procter & Gamble': 102, 'Travelers': 35, 'UnitedHealth Group': 15, 'United Technologies': 6, 'Verizon': 651, 'Visa': 149, 'Walmart': 424, 'Walt Disney': 71}\n"
     ]
    }
   ],
   "source": [
    "#try to check whether there is enough data for above companies\n",
    "def count_news(companies):\n",
    "    total = 0\n",
    "    news_count = {}\n",
    "    for key, item in companies.items():\n",
    "        num =  len(NEWS_df[NEWS_df['TITLE'].str.contains(key, na=False)])\n",
    "        total += num\n",
    "        news_count[key] = num\n",
    "    \n",
    "    return total, news_count\n",
    "\n",
    "total, news_count = count_news(companies)\n",
    "print(total)\n",
    "print(news_count)"
   ]
  },
  {
   "cell_type": "code",
   "execution_count": 12,
   "metadata": {
    "collapsed": true
   },
   "outputs": [],
   "source": [
    "#try to check whether there is corresponding stock price data for above companies\n",
    "for key, item in companies.items():\n",
    "    if item in SP_df['ticker'].values:\n",
    "        continue\n",
    "    else:\n",
    "        print('Following company doesn\\'nt exist: {}'.format(item))"
   ]
  },
  {
   "cell_type": "code",
   "execution_count": 13,
   "metadata": {},
   "outputs": [
    {
     "name": "stdout",
     "output_type": "stream",
     "text": [
      "24270\n",
      "{'3M': 144, 'Apple': 10317, 'Boeing': 596, 'Caterpillar': 116, 'Coca-Cola': 302, 'General Electric': 127, 'Goldman Sachs': 124, 'Home Depot': 115, 'IBM': 1058, 'Intel': 675, 'JPMorgan Chase': 116, \"McDonald's\": 790, 'Merck': 199, 'Microsoft': 6984, 'Nike': 209, 'Pfizer': 1072, 'Procter & Gamble': 102, 'Verizon': 651, 'Visa': 149, 'Walmart': 424}\n"
     ]
    }
   ],
   "source": [
    "#delete the companies with the small number of news in NEWS_df\n",
    "for key, item in news_count.items():\n",
    "    if news_count[key] < 100:\n",
    "        companies.pop(key)\n",
    "\n",
    "total_v2, news_count_v2 = count_news(companies)\n",
    "print(total_v2)\n",
    "print(news_count_v2)"
   ]
  },
  {
   "cell_type": "code",
   "execution_count": 14,
   "metadata": {},
   "outputs": [
    {
     "data": {
      "text/plain": [
       "Index(['ID', 'TITLE', 'URL', 'PUBLISHER', 'TIMESTAMP'], dtype='object')"
      ]
     },
     "execution_count": 14,
     "metadata": {},
     "output_type": "execute_result"
    }
   ],
   "source": [
    "#drop the unnecessary column of NEWS_df\n",
    "NEWS_df = NEWS_df.drop([\"CATEGORY\",\"STORY\",\"HOSTNAME\"], axis=1)\n",
    "NEWS_df.columns"
   ]
  },
  {
   "cell_type": "code",
   "execution_count": 15,
   "metadata": {
    "collapsed": true
   },
   "outputs": [],
   "source": [
    "#convert timestamp to date\n",
    "NEWS_df['TIMESTAMP'] = pd.to_datetime(NEWS_df['TIMESTAMP'], unit='ms')"
   ]
  },
  {
   "cell_type": "code",
   "execution_count": 16,
   "metadata": {
    "collapsed": true
   },
   "outputs": [],
   "source": [
    "#Create a function that determine whether the news title includes any company\n",
    "\n",
    "def company_in_news(paragraph, companies):\n",
    "    \"\"\"\n",
    "    input; paragraph: string, companies: dictionary\n",
    "    output; boolean\n",
    "    \"\"\"\n",
    "    words = paragraph.split()\n",
    "    is_inNews = False\n",
    "    for i in range(len(words)):\n",
    "        if words[i] in companies.keys():\n",
    "            is_inNews = True\n",
    "    \n",
    "    return is_inNews\n",
    "\n"
   ]
  },
  {
   "cell_type": "markdown",
   "metadata": {},
   "source": [
    "memo for myself  \n",
    "__number difference with str.contain()__  \n",
    "len(NEWS_companies_df)"
   ]
  },
  {
   "cell_type": "code",
   "execution_count": 17,
   "metadata": {
    "collapsed": true
   },
   "outputs": [],
   "source": [
    "#create the new dataframe which consists of relevant news only\n",
    "NEWS_companies_df = NEWS_df[NEWS_df['TITLE'].apply(company_in_news, args=(companies,)) == True]"
   ]
  },
  {
   "cell_type": "code",
   "execution_count": 18,
   "metadata": {},
   "outputs": [
    {
     "name": "stderr",
     "output_type": "stream",
     "text": [
      "C:\\Users\\the_b\\Anaconda3\\lib\\site-packages\\ipykernel_launcher.py:15: SettingWithCopyWarning: \n",
      "A value is trying to be set on a copy of a slice from a DataFrame.\n",
      "Try using .loc[row_indexer,col_indexer] = value instead\n",
      "\n",
      "See the caveats in the documentation: http://pandas.pydata.org/pandas-docs/stable/indexing.html#indexing-view-versus-copy\n",
      "  from ipykernel import kernelapp as app\n"
     ]
    }
   ],
   "source": [
    "#create a function which give the label of the company's ticker to the news\n",
    "\n",
    "def label_news(paragraph, companies):\n",
    "    \"\"\"\n",
    "    input; paragraph: string, companies: dictionary\n",
    "    output; name: company's ticker\n",
    "    \"\"\"\n",
    "    words = paragraph.split()\n",
    "    for i in range(len(words)):\n",
    "        if words[i] in companies.keys():\n",
    "            return companies[words[i]]\n",
    "    \n",
    "    return 'NaN'\n",
    "\n",
    "NEWS_companies_df['ticker'] = NEWS_companies_df['TITLE'].apply(label_news, args=(companies,))\n"
   ]
  },
  {
   "cell_type": "markdown",
   "metadata": {},
   "source": [
    "memo for myself  \n",
    "__could be together with company_in_news__  \n",
    "__got a warning__"
   ]
  },
  {
   "cell_type": "code",
   "execution_count": 19,
   "metadata": {
    "collapsed": true
   },
   "outputs": [],
   "source": [
    "date_set = set(SP_df['date'])\n",
    "date_list = list(date_set)\n",
    "date_list.sort()\n",
    "    \n",
    "#     #get the day which is one day before input date\n",
    "#     def get_day_before(date, SP_df):\n",
    "\n",
    "\n",
    "#         ind = date_list.index(date)\n",
    "\n",
    "#         return date_list[ind-1]"
   ]
  },
  {
   "cell_type": "code",
   "execution_count": 20,
   "metadata": {},
   "outputs": [],
   "source": [
    "#create a function that takes the corresponding the stock price move\n",
    "#this function runs very slow. next cell might take more than 10 mins to run\n",
    "def get_move(row):\n",
    "    \n",
    "    \"\"\"\n",
    "    input; row: entire row, SP_df: DataFrame of stock price\n",
    "    output; boolean\n",
    "    \"\"\"    \n",
    "    \n",
    "    date_tmp = row['TIMESTAMP']\n",
    "    \n",
    "    #check the hour of the news, and then if it's after 17, make the date next day.\n",
    "    if date_tmp.hour >= 17:\n",
    "        date = date_tmp + datetime.timedelta(days=1)\n",
    "    else:\n",
    "        date = date_tmp\n",
    "    date1 = datetime.datetime.strftime(date, \"%Y-%m-%d\")\n",
    "\n",
    "    \n",
    "    #get the date0\n",
    "    try:\n",
    "        ind = date_list.index(date1)\n",
    "    except ValueError:\n",
    "        return np.nan\n",
    "    date0 = date_list[ind-1]\n",
    "    \n",
    "\n",
    "#     day0_price = SP_df.loc[(SP_df['date'] == date0) & (SP_df['ticker'] == row['ticker']), 'adj_close']\n",
    "#     day1_price = SP_df.loc[(SP_df['date'] == date1) & (SP_df['ticker'] == row['ticker']), 'adj_close']\n",
    "\n",
    "    try:\n",
    "        day0_price = combi[(date0, row['ticker'])]\n",
    "        day1_price = combi[(date1, row['ticker'])]\n",
    "    except KeyError:\n",
    "        return np.nan\n",
    "    \n",
    "    #return True if the stock price went up by more than 10%\n",
    "    if ((day1_price - day0_price)/day0_price) > 0.005:\n",
    "        return True\n",
    "    elif ((day1_price - day0_price)/day0_price) < -0.005:\n",
    "        return False\n",
    "    else:\n",
    "        return np.nan\n",
    "    \n"
   ]
  },
  {
   "cell_type": "code",
   "execution_count": 21,
   "metadata": {},
   "outputs": [
    {
     "name": "stderr",
     "output_type": "stream",
     "text": [
      "C:\\Users\\the_b\\Anaconda3\\lib\\site-packages\\ipykernel_launcher.py:1: SettingWithCopyWarning: \n",
      "A value is trying to be set on a copy of a slice from a DataFrame.\n",
      "Try using .loc[row_indexer,col_indexer] = value instead\n",
      "\n",
      "See the caveats in the documentation: http://pandas.pydata.org/pandas-docs/stable/indexing.html#indexing-view-versus-copy\n",
      "  \"\"\"Entry point for launching an IPython kernel.\n"
     ]
    }
   ],
   "source": [
    "NEWS_companies_df['IsUp'] = NEWS_companies_df.apply(get_move, axis = 1)"
   ]
  },
  {
   "cell_type": "code",
   "execution_count": 22,
   "metadata": {
    "collapsed": true
   },
   "outputs": [],
   "source": [
    "with_move_df = NEWS_companies_df.dropna(how='any')"
   ]
  },
  {
   "cell_type": "code",
   "execution_count": 23,
   "metadata": {
    "collapsed": true
   },
   "outputs": [],
   "source": [
    "def get_sentiment(sentences):\n",
    "    blob = TextBlob(sentences)\n",
    "    for sentence in blob.sentences:\n",
    "        return sentence.sentiment.polarity"
   ]
  },
  {
   "cell_type": "code",
   "execution_count": 24,
   "metadata": {},
   "outputs": [
    {
     "name": "stderr",
     "output_type": "stream",
     "text": [
      "C:\\Users\\the_b\\Anaconda3\\lib\\site-packages\\ipykernel_launcher.py:1: SettingWithCopyWarning: \n",
      "A value is trying to be set on a copy of a slice from a DataFrame.\n",
      "Try using .loc[row_indexer,col_indexer] = value instead\n",
      "\n",
      "See the caveats in the documentation: http://pandas.pydata.org/pandas-docs/stable/indexing.html#indexing-view-versus-copy\n",
      "  \"\"\"Entry point for launching an IPython kernel.\n"
     ]
    }
   ],
   "source": [
    "with_move_df['Sentiment'] = with_move_df['TITLE'].apply(get_sentiment)"
   ]
  },
  {
   "cell_type": "code",
   "execution_count": null,
   "metadata": {},
   "outputs": [],
   "source": [
    "#print(with_move_df.sample(20))\n",
    "unique, counts = np.unique(with_move_df['IsUp'].values, return_counts=True)\n",
    "dict(zip(unique, counts))"
   ]
  },
  {
   "cell_type": "code",
   "execution_count": 25,
   "metadata": {},
   "outputs": [],
   "source": [
    "def add_time(row):\n",
    "    return datetime.datetime.strftime(row['TIMESTAMP'], \"%Y-%m-%d\")"
   ]
  },
  {
   "cell_type": "code",
   "execution_count": 26,
   "metadata": {},
   "outputs": [
    {
     "name": "stdout",
     "output_type": "stream",
     "text": [
      "9011\n"
     ]
    },
    {
     "name": "stderr",
     "output_type": "stream",
     "text": [
      "C:\\Users\\the_b\\Anaconda3\\lib\\site-packages\\ipykernel_launcher.py:1: SettingWithCopyWarning: \n",
      "A value is trying to be set on a copy of a slice from a DataFrame.\n",
      "Try using .loc[row_indexer,col_indexer] = value instead\n",
      "\n",
      "See the caveats in the documentation: http://pandas.pydata.org/pandas-docs/stable/indexing.html#indexing-view-versus-copy\n",
      "  \"\"\"Entry point for launching an IPython kernel.\n"
     ]
    }
   ],
   "source": [
    "with_move_df['Day'] = with_move_df.apply(add_time, axis = 1)\n",
    "print(len(with_move_df))"
   ]
  },
  {
   "cell_type": "code",
   "execution_count": null,
   "metadata": {},
   "outputs": [],
   "source": [
    "grouped = with_move_df.groupby(['Day','ticker'])\n",
    "\n",
    "def concat(row):\n",
    "    string = ''\n",
    "    \n",
    "        string += row['TITLE']\n",
    "    return string\n",
    "\n",
    "\n",
    "grouped.agg(concat)"
   ]
  },
  {
   "cell_type": "code",
   "execution_count": null,
   "metadata": {},
   "outputs": [],
   "source": [
    "def take_important(df, IsTrue):\n",
    "    new_df = df['TITLE'][df['IsUp']==IsTrue]\n",
    "    #print(type(new_df))\n",
    "    counter = Counter()\n",
    "    for index, row in new_df.iteritems():\n",
    "        counter += Counter(row.split())\n",
    "\n",
    "    #counter = Counter(df['TITLE'][df['IsUp']==IsTrue])\n",
    "        \n",
    "#     for index, row in df.iterrows():\n",
    "#         if row['IsUp'] == IsTrue:\n",
    "#             for w in row['TITLE'].split():\n",
    "#                 if w in count:\n",
    "#                     count[w] += 1\n",
    "#                 else:\n",
    "#                     count[w] = 1\n",
    "    \n",
    "    return counter"
   ]
  },
  {
   "cell_type": "code",
   "execution_count": null,
   "metadata": {
    "scrolled": false
   },
   "outputs": [],
   "source": [
    "count_up = take_important(with_move_df, True)\n",
    "count_up.most_common(50)"
   ]
  },
  {
   "cell_type": "code",
   "execution_count": null,
   "metadata": {},
   "outputs": [],
   "source": [
    "count_down = take_important(with_move_df, False)\n",
    "count_down.most_common(50)"
   ]
  },
  {
   "cell_type": "code",
   "execution_count": null,
   "metadata": {
    "collapsed": true
   },
   "outputs": [],
   "source": [
    "X = with_move_df['Sentiment']\n",
    "X = X.values.reshape(-1,1)\n",
    "y = with_move_df['IsUp'].values\n",
    "y = y.astype(int)\n",
    "X_train, X_test, y_train, y_test = train_test_split(X, y, test_size=0.30, random_state=0)\n",
    "y_actual = y_test"
   ]
  },
  {
   "cell_type": "code",
   "execution_count": null,
   "metadata": {},
   "outputs": [],
   "source": [
    "\n",
    "\n",
    "plt.scatter(X_train,y_train)\n",
    "plt.show()"
   ]
  },
  {
   "cell_type": "code",
   "execution_count": null,
   "metadata": {
    "scrolled": false
   },
   "outputs": [],
   "source": [
    "LR = LogisticRegression(C=0.1)\n",
    "LR.fit(X_train, y_train)"
   ]
  },
  {
   "cell_type": "code",
   "execution_count": null,
   "metadata": {
    "collapsed": true
   },
   "outputs": [],
   "source": [
    "y_pred = LR.predict(X_test)\n"
   ]
  },
  {
   "cell_type": "code",
   "execution_count": null,
   "metadata": {},
   "outputs": [],
   "source": [
    "y_pred"
   ]
  },
  {
   "cell_type": "code",
   "execution_count": null,
   "metadata": {},
   "outputs": [],
   "source": [
    "print(confusion_matrix(y_actual, y_pred))"
   ]
  },
  {
   "cell_type": "code",
   "execution_count": null,
   "metadata": {},
   "outputs": [],
   "source": [
    "print(classification_report(y_actual,\n",
    "                            y_pred,\n",
    "                            target_names=['up', 'down']))"
   ]
  },
  {
   "cell_type": "code",
   "execution_count": null,
   "metadata": {
    "collapsed": true
   },
   "outputs": [],
   "source": []
  },
  {
   "cell_type": "code",
   "execution_count": null,
   "metadata": {},
   "outputs": [],
   "source": [
    "word to vec"
   ]
  }
 ],
 "metadata": {
  "kernelspec": {
   "display_name": "Python 3",
   "language": "python",
   "name": "python3"
  },
  "language_info": {
   "codemirror_mode": {
    "name": "ipython",
    "version": 3
   },
   "file_extension": ".py",
   "mimetype": "text/x-python",
   "name": "python",
   "nbconvert_exporter": "python",
   "pygments_lexer": "ipython3",
   "version": "3.6.1"
  }
 },
 "nbformat": 4,
 "nbformat_minor": 2
}
